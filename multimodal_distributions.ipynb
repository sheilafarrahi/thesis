{
 "cells": [
  {
   "cell_type": "code",
   "execution_count": 99,
   "id": "4af31823",
   "metadata": {},
   "outputs": [],
   "source": [
    "import scipy.stats as stats\n",
    "import pandas as pd\n",
    "import numpy as np\n",
    "import matplotlib.pyplot as plt\n",
    "import random"
   ]
  },
  {
   "cell_type": "code",
   "execution_count": 191,
   "id": "c697a22f",
   "metadata": {},
   "outputs": [
    {
     "data": {
      "text/plain": [
       "<module 'distance_modules' from 'C:\\\\Users\\\\shfar\\\\Desktop\\\\SU\\\\Thesis\\\\thesis\\\\distance_modules.py'>"
      ]
     },
     "execution_count": 191,
     "metadata": {},
     "output_type": "execute_result"
    }
   ],
   "source": [
    "import distribution_modules as dm\n",
    "import density_estimation_modules as dem\n",
    "import classification_modules as cm\n",
    "import distance_modules as d\n",
    "import importlib\n",
    "\n",
    "importlib.reload(dm)\n",
    "importlib.reload(dem)\n",
    "importlib.reload(cm)\n",
    "importlib.reload(d)"
   ]
  },
  {
   "cell_type": "code",
   "execution_count": 595,
   "id": "849666e8",
   "metadata": {},
   "outputs": [],
   "source": [
    "samples = dm.get_multimodal(10, 5, 5000)"
   ]
  },
  {
   "cell_type": "code",
   "execution_count": 596,
   "id": "69b69f8d",
   "metadata": {},
   "outputs": [
    {
     "data": {
      "image/png": "[encoded data removed]",
      "text/plain": [
       "<Figure size 432x288 with 1 Axes>"
      ]
     },
     "metadata": {
      "needs_background": "light"
     },
     "output_type": "display_data"
    }
   ],
   "source": [
    "fig, ax = plt.subplots()\n",
    "ax.hist(samples, density=True, bins='auto', histtype='stepfilled', alpha=0.2)\n",
    "plt.show()\n"
   ]
  },
  {
   "cell_type": "code",
   "execution_count": 598,
   "id": "ca7cfc64",
   "metadata": {},
   "outputs": [],
   "source": [
    "df = pd.DataFrame(samples)"
   ]
  }
 ],
 "metadata": {
  "kernelspec": {
   "display_name": "Python 3",
   "language": "python",
   "name": "python3"
  },
  "language_info": {
   "codemirror_mode": {
    "name": "ipython",
    "version": 3
   },
   "file_extension": ".py",
   "mimetype": "text/x-python",
   "name": "python",
   "nbconvert_exporter": "python",
   "pygments_lexer": "ipython3",
   "version": "3.8.8"
  }
 },
 "nbformat": 4,
 "nbformat_minor": 5
}
