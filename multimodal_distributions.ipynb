{
 "cells": [
  {
   "cell_type": "code",
   "execution_count": 8,
   "id": "4af31823",
   "metadata": {},
   "outputs": [],
   "source": [
    "import scipy.stats as stats\n",
    "import pandas as pd\n",
    "import numpy as np\n",
    "import matplotlib.pyplot as plt\n",
    "import random"
   ]
  },
  {
   "cell_type": "code",
   "execution_count": 107,
   "id": "c697a22f",
   "metadata": {},
   "outputs": [
    {
     "data": {
      "text/plain": [
       "<module 'distance_modules' from 'C:\\\\Users\\\\shfar\\\\Desktop\\\\SU\\\\Thesis\\\\thesis\\\\distance_modules.py'>"
      ]
     },
     "execution_count": 107,
     "metadata": {},
     "output_type": "execute_result"
    }
   ],
   "source": [
    "import distribution_modules as dm\n",
    "import density_estimation_modules as dem\n",
    "import classification_modules as cm\n",
    "import distance_modules as d\n",
    "import importlib\n",
    "\n",
    "importlib.reload(dm)\n",
    "importlib.reload(dem)\n",
    "importlib.reload(cm)\n",
    "importlib.reload(d)"
   ]
  },
  {
   "cell_type": "code",
   "execution_count": 104,
   "id": "849666e8",
   "metadata": {},
   "outputs": [],
   "source": [
    "samples = dm.get_multimodal(10, 5, 1000)"
   ]
  },
  {
   "cell_type": "code",
   "execution_count": 105,
   "id": "69b69f8d",
   "metadata": {},
   "outputs": [
    {
     "data": {
      "image/png": "[encoded data removed]",
      "text/plain": [
       "<Figure size 432x288 with 1 Axes>"
      ]
     },
     "metadata": {
      "needs_background": "light"
     },
     "output_type": "display_data"
    }
   ],
   "source": [
    "fig, ax = plt.subplots()\n",
    "ax.hist(samples, density=True, bins='auto', histtype='stepfilled', alpha=0.2)\n",
    "plt.show()"
   ]
  },
  {
   "cell_type": "code",
   "execution_count": 86,
   "id": "a5786183",
   "metadata": {},
   "outputs": [],
   "source": [
    "nr_mm_dist = 3\n",
    "nr_modes = 5\n",
    "nr_sample = 10\n",
    "sample_size = 1000"
   ]
  },
  {
   "cell_type": "code",
   "execution_count": 108,
   "id": "c226ca18",
   "metadata": {},
   "outputs": [],
   "source": [
    "mm_df = dm.get_multimodal_dists(nr_mm_dist, nr_modes, nr_sample, sample_size)"
   ]
  }
 ],
 "metadata": {
  "kernelspec": {
   "display_name": "Python 3",
   "language": "python",
   "name": "python3"
  },
  "language_info": {
   "codemirror_mode": {
    "name": "ipython",
    "version": 3
   },
   "file_extension": ".py",
   "mimetype": "text/x-python",
   "name": "python",
   "nbconvert_exporter": "python",
   "pygments_lexer": "ipython3",
   "version": "3.8.8"
  }
 },
 "nbformat": 4,
 "nbformat_minor": 5
}
