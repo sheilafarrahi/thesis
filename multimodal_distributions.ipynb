{
 "cells": [
  {
   "cell_type": "code",
   "execution_count": 1,
   "id": "4af31823",
   "metadata": {},
   "outputs": [],
   "source": [
    "import scipy.stats as stats\n",
    "import pandas as pd\n",
    "import numpy as np\n",
    "import matplotlib.pyplot as plt\n",
    "import random"
   ]
  },
  {
   "cell_type": "code",
   "execution_count": 560,
   "id": "c697a22f",
   "metadata": {},
   "outputs": [
    {
     "data": {
      "text/plain": [
       "<module 'distance_modules' from 'C:\\\\Users\\\\shfar\\\\Desktop\\\\SU\\\\Thesis\\\\thesis\\\\distance_modules.py'>"
      ]
     },
     "execution_count": 560,
     "metadata": {},
     "output_type": "execute_result"
    }
   ],
   "source": [
    "import distribution_modules as dm\n",
    "import density_estimation_modules as dem\n",
    "import classification_modules as cm\n",
    "import distance_modules as d\n",
    "import importlib\n",
    "\n",
    "importlib.reload(dm)\n",
    "importlib.reload(dem)\n",
    "importlib.reload(cm)\n",
    "importlib.reload(d)"
   ]
  },
  {
   "cell_type": "code",
   "execution_count": 553,
   "id": "8ab41c89",
   "metadata": {},
   "outputs": [],
   "source": [
    "nr_modes = 5\n",
    "sample_size = 1000"
   ]
  },
  {
   "cell_type": "code",
   "execution_count": 544,
   "id": "b9d25eed",
   "metadata": {},
   "outputs": [
    {
     "data": {
      "text/plain": [
       "array([10, 21, 32, 26, 11])"
      ]
     },
     "execution_count": 544,
     "metadata": {},
     "output_type": "execute_result"
    }
   ],
   "source": [
    "sample_size_ = get_sample_size(nr_modes, sample_size)\n",
    "sample_size_"
   ]
  },
  {
   "cell_type": "code",
   "execution_count": 532,
   "id": "f32bb887",
   "metadata": {},
   "outputs": [
    {
     "data": {
      "text/plain": [
       "[25, 4, 26, 39, 6]"
      ]
     },
     "execution_count": 532,
     "metadata": {},
     "output_type": "execute_result"
    }
   ],
   "source": [
    "sample_size_[::-1]"
   ]
  },
  {
   "cell_type": "code",
   "execution_count": 537,
   "id": "a1d4d290",
   "metadata": {},
   "outputs": [
    {
     "data": {
      "text/plain": [
       "[6, 26, 25]"
      ]
     },
     "execution_count": 537,
     "metadata": {},
     "output_type": "execute_result"
    }
   ],
   "source": [
    "part_1 = sample_size_[::2]\n",
    "part_1"
   ]
  },
  {
   "cell_type": "code",
   "execution_count": 538,
   "id": "e4d21c35",
   "metadata": {},
   "outputs": [
    {
     "data": {
      "text/plain": [
       "[4, 39]"
      ]
     },
     "execution_count": 538,
     "metadata": {},
     "output_type": "execute_result"
    }
   ],
   "source": [
    "part_2 = sample_size_[1::2][::-1]\n",
    "part_2"
   ]
  },
  {
   "cell_type": "code",
   "execution_count": 539,
   "id": "439c94d5",
   "metadata": {},
   "outputs": [
    {
     "data": {
      "text/plain": [
       "array([ 6, 26, 25,  4, 39])"
      ]
     },
     "execution_count": 539,
     "metadata": {},
     "output_type": "execute_result"
    }
   ],
   "source": [
    "np.append(part_1,part_2)"
   ]
  },
  {
   "cell_type": "code",
   "execution_count": 540,
   "id": "acbeff1e",
   "metadata": {},
   "outputs": [],
   "source": [
    "def get_sample_size(n, sample_size):\n",
    "    # Divides the sample_size into n parts to get number of samples per each gaussian distribution\n",
    "    random_list = [random.randint(1,30) for i in range(n)]\n",
    "    sample_size_ = []\n",
    "    weights=[]\n",
    "    for i in range(n-1):\n",
    "        weight = random_list[i]/sum(random_list)\n",
    "        sample_size_.append(int(weight * sample_size))\n",
    "    # to make sure the sum will be eqaul to the original sample size in case sample_size is not divisible by n\n",
    "    sample_size_.append(sample_size- sum(sample_size_)) \n",
    "    \n",
    "    sample_size_sorted=np.sort(sample_size_)\n",
    "    part_1 = sample_size_sorted[::2]\n",
    "    part_2 = sample_size_sorted[1::2][::-1]\n",
    "    final = np.append(part_1,part_2)\n",
    "    return final"
   ]
  },
  {
   "cell_type": "code",
   "execution_count": 521,
   "id": "9b80badb",
   "metadata": {},
   "outputs": [
    {
     "data": {
      "text/plain": [
       "[2, 22, 46, 26, 4, 2, 22, 46, 26, 4]"
      ]
     },
     "execution_count": 521,
     "metadata": {},
     "output_type": "execute_result"
    }
   ],
   "source": [
    "part_1"
   ]
  },
  {
   "cell_type": "code",
   "execution_count": 567,
   "id": "46e4250f",
   "metadata": {},
   "outputs": [],
   "source": [
    "samples = list()\n",
    "sample_size_ = dm.get_sample_size(n, sample_size)\n",
    "modes= dm.get_modes(nr_modes, 1)\n",
    "var = [0.01, 0.01, 0.01, 0.01, 0.05]\n",
    "\n",
    "for i in range(nr_samples):\n",
    "    sample = list()\n",
    "    for j in range(nr_modes):\n",
    "        sample_ = stats.norm.rvs(size = sample_size_[j], loc = modes[j], scale = np.sqrt(var[j]))\n",
    "        for k in range(len(sample_)): # switch negative values with mean to avoid negative values\n",
    "            if sample_[k] < 0:\n",
    "                sample_[k] = modes[j]\n",
    "        sample.extend(sample_)\n",
    "\n",
    "    samples.append(sample)"
   ]
  },
  {
   "cell_type": "code",
   "execution_count": 568,
   "id": "6201c884",
   "metadata": {},
   "outputs": [
    {
     "data": {
      "text/plain": [
       "array([ 83, 111, 159, 201, 187, 155, 104])"
      ]
     },
     "execution_count": 568,
     "metadata": {},
     "output_type": "execute_result"
    }
   ],
   "source": [
    "sample_size_"
   ]
  },
  {
   "cell_type": "code",
   "execution_count": 569,
   "id": "69b69f8d",
   "metadata": {},
   "outputs": [
    {
     "data": {
      "image/png": "[encoded data removed]",
      "text/plain": [
       "<Figure size 432x288 with 1 Axes>"
      ]
     },
     "metadata": {
      "needs_background": "light"
     },
     "output_type": "display_data"
    }
   ],
   "source": [
    "fig, ax = plt.subplots()\n",
    "ax.hist(samples, density=True, bins='auto', histtype='stepfilled', alpha=0.2)\n",
    "plt.show()"
   ]
  },
  {
   "cell_type": "code",
   "execution_count": null,
   "id": "caa4c2fd",
   "metadata": {},
   "outputs": [],
   "source": [
    "a = (\"a\", \"b\", \"c\", \"d\", \"e\", \"f\", \"g\", \"h\")\n",
    "\n",
    "x = slice(0, 8, 2)"
   ]
  },
  {
   "cell_type": "code",
   "execution_count": 444,
   "id": "849666e8",
   "metadata": {},
   "outputs": [],
   "source": [
    "samples, weights, modes, var = dm.get_multimodal(5, 20, 1000)"
   ]
  },
  {
   "cell_type": "code",
   "execution_count": 358,
   "id": "a5786183",
   "metadata": {},
   "outputs": [],
   "source": [
    "nr_modes = 5\n",
    "nr_sample = 10\n",
    "sample_size = 100"
   ]
  },
  {
   "cell_type": "code",
   "execution_count": 437,
   "id": "c226ca18",
   "metadata": {},
   "outputs": [],
   "source": [
    "mm_df, mode_list, var_list, sample_size_list = dm.get_multimodal(nr_modes, nr_sample, sample_size)"
   ]
  },
  {
   "cell_type": "code",
   "execution_count": null,
   "id": "accb2842",
   "metadata": {},
   "outputs": [],
   "source": [
    "sample_size_list = [5, 10, 25, 50, 100, 500, 1000]\n",
    "nr_moments_list = list(range(2,21))\n",
    "get_moments_no_label"
   ]
  },
  {
   "cell_type": "code",
   "execution_count": 438,
   "id": "0613eace",
   "metadata": {},
   "outputs": [
    {
     "ename": "AttributeError",
     "evalue": "'list' object has no attribute 'iloc'",
     "output_type": "error",
     "traceback": [
      "\u001b[1;31m---------------------------------------------------------------------------\u001b[0m",
      "\u001b[1;31mAttributeError\u001b[0m                            Traceback (most recent call last)",
      "\u001b[1;32m<ipython-input-438-6e0f6333f9f8>\u001b[0m in \u001b[0;36m<module>\u001b[1;34m\u001b[0m\n\u001b[0;32m      1\u001b[0m \u001b[0mx_b\u001b[0m \u001b[1;33m=\u001b[0m \u001b[0mnp\u001b[0m\u001b[1;33m.\u001b[0m\u001b[0mlinspace\u001b[0m\u001b[1;33m(\u001b[0m\u001b[1;36m0\u001b[0m\u001b[1;33m,\u001b[0m\u001b[1;36m15\u001b[0m\u001b[1;33m,\u001b[0m\u001b[1;36m50\u001b[0m\u001b[1;33m)\u001b[0m\u001b[1;33m\u001b[0m\u001b[1;33m\u001b[0m\u001b[0m\n\u001b[1;32m----> 2\u001b[1;33m \u001b[0mkde_df\u001b[0m \u001b[1;33m=\u001b[0m \u001b[0mdem\u001b[0m\u001b[1;33m.\u001b[0m\u001b[0mget_kde\u001b[0m\u001b[1;33m(\u001b[0m\u001b[0mmm_df\u001b[0m\u001b[1;33m,\u001b[0m \u001b[0mx_b\u001b[0m\u001b[1;33m)\u001b[0m\u001b[1;33m\u001b[0m\u001b[1;33m\u001b[0m\u001b[0m\n\u001b[0m",
      "\u001b[1;32m~\\Desktop\\SU\\Thesis\\thesis\\density_estimation_modules.py\u001b[0m in \u001b[0;36mget_kde\u001b[1;34m(df, x)\u001b[0m\n\u001b[0;32m     56\u001b[0m \u001b[1;33m\u001b[0m\u001b[0m\n\u001b[0;32m     57\u001b[0m     \u001b[1;32mfor\u001b[0m \u001b[0mi\u001b[0m \u001b[1;32min\u001b[0m \u001b[0mrange\u001b[0m\u001b[1;33m(\u001b[0m\u001b[0mlen\u001b[0m\u001b[1;33m(\u001b[0m\u001b[0mdf\u001b[0m\u001b[1;33m)\u001b[0m\u001b[1;33m)\u001b[0m\u001b[1;33m:\u001b[0m\u001b[1;33m\u001b[0m\u001b[1;33m\u001b[0m\u001b[0m\n\u001b[1;32m---> 58\u001b[1;33m         \u001b[0mX\u001b[0m \u001b[1;33m=\u001b[0m \u001b[0mdf\u001b[0m\u001b[1;33m.\u001b[0m\u001b[0miloc\u001b[0m\u001b[1;33m[\u001b[0m\u001b[0mi\u001b[0m\u001b[1;33m,\u001b[0m\u001b[1;33m:\u001b[0m\u001b[1;33m-\u001b[0m\u001b[1;36m1\u001b[0m\u001b[1;33m]\u001b[0m\u001b[1;33m\u001b[0m\u001b[1;33m\u001b[0m\u001b[0m\n\u001b[0m\u001b[0;32m     59\u001b[0m         \u001b[0mkde\u001b[0m \u001b[1;33m=\u001b[0m \u001b[0mstats\u001b[0m\u001b[1;33m.\u001b[0m\u001b[0mgaussian_kde\u001b[0m\u001b[1;33m(\u001b[0m\u001b[0mlist\u001b[0m\u001b[1;33m(\u001b[0m\u001b[0mX\u001b[0m\u001b[1;33m)\u001b[0m\u001b[1;33m)\u001b[0m\u001b[1;33m\u001b[0m\u001b[1;33m\u001b[0m\u001b[0m\n\u001b[0;32m     60\u001b[0m         \u001b[0mvalues\u001b[0m \u001b[1;33m=\u001b[0m \u001b[0mx\u001b[0m\u001b[1;33m\u001b[0m\u001b[1;33m\u001b[0m\u001b[0m\n",
      "\u001b[1;31mAttributeError\u001b[0m: 'list' object has no attribute 'iloc'"
     ]
    }
   ],
   "source": [
    "x_b = np.linspace(0,15,50)\n",
    "kde_df = dem.get_kde(mm_df, x_b)"
   ]
  },
  {
   "cell_type": "code",
   "execution_count": 366,
   "id": "155840ea",
   "metadata": {},
   "outputs": [
    {
     "data": {
      "image/png": "[encoded data removed]",
      "text/plain": [
       "<Figure size 432x288 with 1 Axes>"
      ]
     },
     "metadata": {
      "needs_background": "light"
     },
     "output_type": "display_data"
    }
   ],
   "source": [
    "dem.get_kde_plot(kde_df,x_b)"
   ]
  }
 ],
 "metadata": {
  "kernelspec": {
   "display_name": "Python 3",
   "language": "python",
   "name": "python3"
  },
  "language_info": {
   "codemirror_mode": {
    "name": "ipython",
    "version": 3
   },
   "file_extension": ".py",
   "mimetype": "text/x-python",
   "name": "python",
   "nbconvert_exporter": "python",
   "pygments_lexer": "ipython3",
   "version": "3.8.8"
  }
 },
 "nbformat": 4,
 "nbformat_minor": 5
}
