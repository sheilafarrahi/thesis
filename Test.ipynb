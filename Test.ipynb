{
 "cells": [
  {
   "cell_type": "code",
   "execution_count": 67,
   "id": "aaccdb39",
   "metadata": {},
   "outputs": [],
   "source": [
    "import numpy as np\n",
    "import pandas as pd\n",
    "import random\n",
    "from functools import partial\n",
    "from scipy.stats import moment"
   ]
  },
  {
   "cell_type": "code",
   "execution_count": 57,
   "id": "5409857c",
   "metadata": {},
   "outputs": [
    {
     "data": {
      "text/plain": [
       "<module 'exploration_modules' from 'C:\\\\Users\\\\shfar\\\\Desktop\\\\SU\\\\Thesis\\\\thesis\\\\exploration_modules.py'>"
      ]
     },
     "execution_count": 57,
     "metadata": {},
     "output_type": "execute_result"
    }
   ],
   "source": [
    "import distribution_modules as dm\n",
    "import density_estimation_modules as dem\n",
    "import classification_modules as cm\n",
    "import exploration_modules as expo\n",
    "import importlib\n",
    "\n",
    "importlib.reload(dm)\n",
    "importlib.reload(dem)\n",
    "importlib.reload(cm)\n",
    "importlib.reload(expo)"
   ]
  },
  {
   "cell_type": "code",
   "execution_count": 55,
   "id": "122680d9",
   "metadata": {},
   "outputs": [],
   "source": [
    "nr_sample_sets = 20\n",
    "sample_size = 10"
   ]
  },
  {
   "cell_type": "code",
   "execution_count": 58,
   "id": "3fb55cf1",
   "metadata": {},
   "outputs": [],
   "source": [
    "bounded_dists = dm.get_bounded_distribution()\n",
    "bounded_samples_flex = dm.get_samples_flex(bounded_dists, nr_sample_sets, sample_size)"
   ]
  },
  {
   "cell_type": "code",
   "execution_count": 59,
   "id": "d333999c",
   "metadata": {},
   "outputs": [
    {
     "data": {
      "text/html": [
       "<div>\n",
       "<style scoped>\n",
       "    .dataframe tbody tr th:only-of-type {\n",
       "        vertical-align: middle;\n",
       "    }\n",
       "\n",
       "    .dataframe tbody tr th {\n",
       "        vertical-align: top;\n",
       "    }\n",
       "\n",
       "    .dataframe thead th {\n",
       "        text-align: right;\n",
       "    }\n",
       "</style>\n",
       "<table border=\"1\" class=\"dataframe\">\n",
       "  <thead>\n",
       "    <tr style=\"text-align: right;\">\n",
       "      <th></th>\n",
       "      <th>data</th>\n",
       "      <th>len</th>\n",
       "      <th>label</th>\n",
       "    </tr>\n",
       "  </thead>\n",
       "  <tbody>\n",
       "    <tr>\n",
       "      <th>0</th>\n",
       "      <td>[0.6706614128555164, 0.19697710674983204, 0.17...</td>\n",
       "      <td>5</td>\n",
       "      <td>beta_1_2</td>\n",
       "    </tr>\n",
       "    <tr>\n",
       "      <th>1</th>\n",
       "      <td>[0.7120915808018828, 0.41794714398163385, 0.46...</td>\n",
       "      <td>8</td>\n",
       "      <td>beta_1_2</td>\n",
       "    </tr>\n",
       "    <tr>\n",
       "      <th>2</th>\n",
       "      <td>[0.24055282712605372, 0.37362096238992204, 0.3...</td>\n",
       "      <td>7</td>\n",
       "      <td>beta_1_2</td>\n",
       "    </tr>\n",
       "    <tr>\n",
       "      <th>3</th>\n",
       "      <td>[0.2861150888007423, 0.2905968518216268, 0.277...</td>\n",
       "      <td>8</td>\n",
       "      <td>beta_1_2</td>\n",
       "    </tr>\n",
       "    <tr>\n",
       "      <th>4</th>\n",
       "      <td>[0.05854033011692699, 0.8385507020467675, 0.09...</td>\n",
       "      <td>4</td>\n",
       "      <td>beta_1_2</td>\n",
       "    </tr>\n",
       "    <tr>\n",
       "      <th>...</th>\n",
       "      <td>...</td>\n",
       "      <td>...</td>\n",
       "      <td>...</td>\n",
       "    </tr>\n",
       "    <tr>\n",
       "      <th>75</th>\n",
       "      <td>[0.24390847354919093, 0.33090134603568666, 0.4...</td>\n",
       "      <td>10</td>\n",
       "      <td>beta_1_5</td>\n",
       "    </tr>\n",
       "    <tr>\n",
       "      <th>76</th>\n",
       "      <td>[0.021110158965791246, 0.2852492477479389, 0.0...</td>\n",
       "      <td>6</td>\n",
       "      <td>beta_1_5</td>\n",
       "    </tr>\n",
       "    <tr>\n",
       "      <th>77</th>\n",
       "      <td>[0.19786732957884634, 0.2933498823199187, 0.10...</td>\n",
       "      <td>10</td>\n",
       "      <td>beta_1_5</td>\n",
       "    </tr>\n",
       "    <tr>\n",
       "      <th>78</th>\n",
       "      <td>[0.09635441231860857, 0.2627938755325696, 0.05...</td>\n",
       "      <td>3</td>\n",
       "      <td>beta_1_5</td>\n",
       "    </tr>\n",
       "    <tr>\n",
       "      <th>79</th>\n",
       "      <td>[0.3351150082747697]</td>\n",
       "      <td>1</td>\n",
       "      <td>beta_1_5</td>\n",
       "    </tr>\n",
       "  </tbody>\n",
       "</table>\n",
       "<p>80 rows × 3 columns</p>\n",
       "</div>"
      ],
      "text/plain": [
       "                                                 data  len     label\n",
       "0   [0.6706614128555164, 0.19697710674983204, 0.17...    5  beta_1_2\n",
       "1   [0.7120915808018828, 0.41794714398163385, 0.46...    8  beta_1_2\n",
       "2   [0.24055282712605372, 0.37362096238992204, 0.3...    7  beta_1_2\n",
       "3   [0.2861150888007423, 0.2905968518216268, 0.277...    8  beta_1_2\n",
       "4   [0.05854033011692699, 0.8385507020467675, 0.09...    4  beta_1_2\n",
       "..                                                ...  ...       ...\n",
       "75  [0.24390847354919093, 0.33090134603568666, 0.4...   10  beta_1_5\n",
       "76  [0.021110158965791246, 0.2852492477479389, 0.0...    6  beta_1_5\n",
       "77  [0.19786732957884634, 0.2933498823199187, 0.10...   10  beta_1_5\n",
       "78  [0.09635441231860857, 0.2627938755325696, 0.05...    3  beta_1_5\n",
       "79                               [0.3351150082747697]    1  beta_1_5\n",
       "\n",
       "[80 rows x 3 columns]"
      ]
     },
     "execution_count": 59,
     "metadata": {},
     "output_type": "execute_result"
    }
   ],
   "source": [
    "bounded_samples_flex"
   ]
  },
  {
   "cell_type": "code",
   "execution_count": 71,
   "id": "cb28e5fb",
   "metadata": {},
   "outputs": [],
   "source": [
    "nr_moments = 3\n",
    "def get_moments_(df,nr_moments):\n",
    "    moments = list()\n",
    "    m1 = np.mean(df)\n",
    "    moments.append(m1)\n",
    "    for i in range(2,nr_moments+1): #calculate from 2nd moment\n",
    "        moments.append(moment(df, i))\n",
    "\n",
    "    return moments"
   ]
  },
  {
   "cell_type": "code",
   "execution_count": 73,
   "id": "93023e9c",
   "metadata": {},
   "outputs": [],
   "source": [
    "partial_moments = partial(get_moments_, nr_moments=3)"
   ]
  },
  {
   "cell_type": "code",
   "execution_count": 74,
   "id": "211a4265",
   "metadata": {},
   "outputs": [],
   "source": [
    "x = bounded_samples_flex['data'].apply(partial_moments)"
   ]
  },
  {
   "cell_type": "code",
   "execution_count": 75,
   "id": "05d33908",
   "metadata": {},
   "outputs": [
    {
     "data": {
      "text/html": [
       "<div>\n",
       "<style scoped>\n",
       "    .dataframe tbody tr th:only-of-type {\n",
       "        vertical-align: middle;\n",
       "    }\n",
       "\n",
       "    .dataframe tbody tr th {\n",
       "        vertical-align: top;\n",
       "    }\n",
       "\n",
       "    .dataframe thead th {\n",
       "        text-align: right;\n",
       "    }\n",
       "</style>\n",
       "<table border=\"1\" class=\"dataframe\">\n",
       "  <thead>\n",
       "    <tr style=\"text-align: right;\">\n",
       "      <th></th>\n",
       "      <th>0</th>\n",
       "      <th>1</th>\n",
       "      <th>2</th>\n",
       "    </tr>\n",
       "  </thead>\n",
       "  <tbody>\n",
       "    <tr>\n",
       "      <th>0</th>\n",
       "      <td>0.390783</td>\n",
       "      <td>0.037281</td>\n",
       "      <td>0.001809</td>\n",
       "    </tr>\n",
       "    <tr>\n",
       "      <th>1</th>\n",
       "      <td>0.345022</td>\n",
       "      <td>0.037387</td>\n",
       "      <td>0.002621</td>\n",
       "    </tr>\n",
       "    <tr>\n",
       "      <th>2</th>\n",
       "      <td>0.475431</td>\n",
       "      <td>0.060909</td>\n",
       "      <td>0.010831</td>\n",
       "    </tr>\n",
       "    <tr>\n",
       "      <th>3</th>\n",
       "      <td>0.382099</td>\n",
       "      <td>0.086724</td>\n",
       "      <td>0.019461</td>\n",
       "    </tr>\n",
       "    <tr>\n",
       "      <th>4</th>\n",
       "      <td>0.304366</td>\n",
       "      <td>0.098751</td>\n",
       "      <td>0.032069</td>\n",
       "    </tr>\n",
       "    <tr>\n",
       "      <th>...</th>\n",
       "      <td>...</td>\n",
       "      <td>...</td>\n",
       "      <td>...</td>\n",
       "    </tr>\n",
       "    <tr>\n",
       "      <th>75</th>\n",
       "      <td>0.276993</td>\n",
       "      <td>0.011097</td>\n",
       "      <td>0.000031</td>\n",
       "    </tr>\n",
       "    <tr>\n",
       "      <th>76</th>\n",
       "      <td>0.132222</td>\n",
       "      <td>0.009193</td>\n",
       "      <td>0.000368</td>\n",
       "    </tr>\n",
       "    <tr>\n",
       "      <th>77</th>\n",
       "      <td>0.154452</td>\n",
       "      <td>0.010044</td>\n",
       "      <td>0.000053</td>\n",
       "    </tr>\n",
       "    <tr>\n",
       "      <th>78</th>\n",
       "      <td>0.139310</td>\n",
       "      <td>0.007859</td>\n",
       "      <td>0.000427</td>\n",
       "    </tr>\n",
       "    <tr>\n",
       "      <th>79</th>\n",
       "      <td>0.335115</td>\n",
       "      <td>0.000000</td>\n",
       "      <td>0.000000</td>\n",
       "    </tr>\n",
       "  </tbody>\n",
       "</table>\n",
       "<p>80 rows × 3 columns</p>\n",
       "</div>"
      ],
      "text/plain": [
       "           0         1         2\n",
       "0   0.390783  0.037281  0.001809\n",
       "1   0.345022  0.037387  0.002621\n",
       "2   0.475431  0.060909  0.010831\n",
       "3   0.382099  0.086724  0.019461\n",
       "4   0.304366  0.098751  0.032069\n",
       "..       ...       ...       ...\n",
       "75  0.276993  0.011097  0.000031\n",
       "76  0.132222  0.009193  0.000368\n",
       "77  0.154452  0.010044  0.000053\n",
       "78  0.139310  0.007859  0.000427\n",
       "79  0.335115  0.000000  0.000000\n",
       "\n",
       "[80 rows x 3 columns]"
      ]
     },
     "execution_count": 75,
     "metadata": {},
     "output_type": "execute_result"
    }
   ],
   "source": [
    "new_df = pd.DataFrame(x.tolist())\n",
    "new_df"
   ]
  },
  {
   "cell_type": "code",
   "execution_count": 189,
   "id": "1946eab1",
   "metadata": {},
   "outputs": [
    {
     "data": {
      "text/plain": [
       "['m1', 'm2', 'm3']"
      ]
     },
     "execution_count": 189,
     "metadata": {},
     "output_type": "execute_result"
    }
   ],
   "source": [
    "['m'+str(j) for j in range(1,i+1)]"
   ]
  }
 ],
 "metadata": {
  "kernelspec": {
   "display_name": "Python 3",
   "language": "python",
   "name": "python3"
  },
  "language_info": {
   "codemirror_mode": {
    "name": "ipython",
    "version": 3
   },
   "file_extension": ".py",
   "mimetype": "text/x-python",
   "name": "python",
   "nbconvert_exporter": "python",
   "pygments_lexer": "ipython3",
   "version": "3.8.8"
  }
 },
 "nbformat": 4,
 "nbformat_minor": 5
}
