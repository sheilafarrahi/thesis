{
 "cells": [
  {
   "cell_type": "code",
   "execution_count": null,
   "id": "8a894284-0be6-49a5-a044-ba604dcc23a1",
   "metadata": {},
   "outputs": [],
   "source": [
    "\"\"\" This will import the code from your file. \"\"\"\n",
    "import python_file_example as pfe"
   ]
  },
  {
   "cell_type": "code",
   "execution_count": null,
   "id": "315f169a-ec70-451e-8576-b058cd7815a3",
   "metadata": {},
   "outputs": [],
   "source": [
    "\"\"\" If you change something in the python file, it will not automatically update in the notebook. \n",
    "To update it, run this code below. \n",
    "It reload the file from the harddrive. \n",
    "You can also restart the notebook to reload the file.\"\"\"\n",
    "import importlib\n",
    "importlib.reload(pfe)"
   ]
  },
  {
   "cell_type": "code",
   "execution_count": null,
   "id": "2ff3a083-5776-444b-9379-6c6a23ea6f81",
   "metadata": {},
   "outputs": [],
   "source": [
    "\"\"\" Now you can use the functions in the file. \"\"\"\n",
    "distribution_classes_on_finite_interval = pfe.get_distributions()"
   ]
  },
  {
   "cell_type": "code",
   "execution_count": null,
   "id": "a482e596-fb89-44f5-b74b-e2e8978e97b5",
   "metadata": {},
   "outputs": [],
   "source": [
    "pfe.plot_density_functions(distribution_classes_on_finite_interval)"
   ]
  },
  {
   "cell_type": "code",
   "execution_count": null,
   "id": "80d3459a-0370-4313-8a85-374a06e089e1",
   "metadata": {},
   "outputs": [],
   "source": [
    "pfe.plot_histograms_of_samples(distribution_classes_on_finite_interval, num_samples=120)"
   ]
  },
  {
   "cell_type": "code",
   "execution_count": null,
   "id": "71b17f9c-b5dd-4b4b-9318-bab83bdeba18",
   "metadata": {},
   "outputs": [],
   "source": []
  }
 ],
 "metadata": {
  "kernelspec": {
   "display_name": "Python 3 (ipykernel)",
   "language": "python",
   "name": "python3"
  },
  "language_info": {
   "codemirror_mode": {
    "name": "ipython",
    "version": 3
   },
   "file_extension": ".py",
   "mimetype": "text/x-python",
   "name": "python",
   "nbconvert_exporter": "python",
   "pygments_lexer": "ipython3",
   "version": "3.10.6"
  }
 },
 "nbformat": 4,
 "nbformat_minor": 5
}
