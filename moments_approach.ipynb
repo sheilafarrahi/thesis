{
 "cells": [
  {
   "cell_type": "code",
   "execution_count": 13,
   "id": "dbe9816c",
   "metadata": {},
   "outputs": [
    {
     "data": {
      "text/plain": [
       "<module 'exploration_modules' from 'C:\\\\Users\\\\shfar\\\\Desktop\\\\SU\\\\Thesis\\\\thesis\\\\exploration_modules.py'>"
      ]
     },
     "execution_count": 13,
     "metadata": {},
     "output_type": "execute_result"
    }
   ],
   "source": [
    "import distribution_modules as dm\n",
    "import density_estimation_modules as dem\n",
    "import classification_modules as cm\n",
    "import exploration_modules as expo\n",
    "import importlib\n",
    "# \n",
    "importlib.reload(dm)\n",
    "importlib.reload(dem)\n",
    "importlib.reload(cm)\n",
    "importlib.reload(expo)"
   ]
  },
  {
   "cell_type": "code",
   "execution_count": 14,
   "id": "684324bc",
   "metadata": {},
   "outputs": [],
   "source": [
    "import numpy as np\n",
    "import pandas as pd\n",
    "import matplotlib.pyplot as plt\n",
    "import seaborn as sns"
   ]
  },
  {
   "cell_type": "code",
   "execution_count": 15,
   "id": "1d7b3c03",
   "metadata": {},
   "outputs": [],
   "source": [
    "# set configuration\n",
    "sample_size, nr_sample_sets, nr_moments = 1000, 20, 4\n",
    "n_folds = 5\n",
    "test_size = 0.2"
   ]
  },
  {
   "cell_type": "code",
   "execution_count": 43,
   "id": "fb8ca306",
   "metadata": {},
   "outputs": [],
   "source": [
    "sample_size, nr_sample_sets, nr_moments = 1000, 1, 4\n",
    "bounded_dists = dm.get_bounded_distribution()\n",
    "bounded_samples = dm.get_samples(bounded_dists, nr_sample_sets, sample_size)"
   ]
  },
  {
   "cell_type": "code",
   "execution_count": 57,
   "id": "03e10701",
   "metadata": {},
   "outputs": [],
   "source": [
    "heavytail_dists = dm.get_heavytail_distribution()\n",
    "heavytail_samples = dm.get_samples(heavytail_dists, nr_sample_sets, sample_size)"
   ]
  },
  {
   "cell_type": "code",
   "execution_count": 68,
   "id": "d45aa7bc",
   "metadata": {},
   "outputs": [
    {
     "data": {
      "text/plain": [
       "(0.0, 30.0)"
      ]
     },
     "execution_count": 68,
     "metadata": {},
     "output_type": "execute_result"
    },
    {
     "data": {
      "image/png": "[encoded data removed]",
      "text/plain": [
       "<Figure size 432x288 with 1 Axes>"
      ]
     },
     "metadata": {
      "needs_background": "light"
     },
     "output_type": "display_data"
    }
   ],
   "source": [
    "fig, ax = plt.subplots()\n",
    "sample = heavytail_samples.iloc[2,:-1]\n",
    "ax.hist(sample, density=True, histtype='stepfilled', bins='auto')\n",
    "plt.ylim(0,1)\n",
    "plt.xlim(0,30)"
   ]
  },
  {
   "cell_type": "code",
   "execution_count": 69,
   "id": "aacb1f25",
   "metadata": {},
   "outputs": [
    {
     "data": {
      "text/plain": [
       "(0.0, 30.0)"
      ]
     },
     "execution_count": 69,
     "metadata": {},
     "output_type": "execute_result"
    },
    {
     "data": {
      "image/png": "[encoded data removed]",
      "text/plain": [
       "<Figure size 432x288 with 1 Axes>"
      ]
     },
     "metadata": {
      "needs_background": "light"
     },
     "output_type": "display_data"
    }
   ],
   "source": [
    "fig, ax = plt.subplots()\n",
    "sample = heavytail_samples.iloc[0,:-1]\n",
    "ax.hist(sample, density=True, histtype='stepfilled', bins='auto', color='green')\n",
    "plt.ylim(0,1)\n",
    "plt.xlim(0,30)"
   ]
  },
  {
   "cell_type": "code",
   "execution_count": 52,
   "id": "8c2085e5",
   "metadata": {},
   "outputs": [],
   "source": [
    "data = dm.get_samples_flex(bounded_dists, 1, 1000)"
   ]
  },
  {
   "cell_type": "code",
   "execution_count": 56,
   "id": "871b296a",
   "metadata": {},
   "outputs": [
    {
     "data": {
      "text/plain": [
       "(0.0, 1.0)"
      ]
     },
     "execution_count": 56,
     "metadata": {},
     "output_type": "execute_result"
    },
    {
     "data": {
      "image/png": "[encoded data removed]",
      "text/plain": [
       "<Figure size 432x288 with 1 Axes>"
      ]
     },
     "metadata": {
      "needs_background": "light"
     },
     "output_type": "display_data"
    }
   ],
   "source": [
    "sample = data['sample_set'][0].tolist()\n",
    "plt.hist(sample, density=True, histtype='stepfilled', bins='auto')\n",
    "plt.ylim(0,3)\n",
    "plt.xlim(0,1)"
   ]
  },
  {
   "cell_type": "code",
   "execution_count": 55,
   "id": "1985983f",
   "metadata": {},
   "outputs": [
    {
     "data": {
      "text/plain": [
       "(0.0, 1.0)"
      ]
     },
     "execution_count": 55,
     "metadata": {},
     "output_type": "execute_result"
    },
    {
     "data": {
      "image/png": "[encoded data removed]",
      "text/plain": [
       "<Figure size 432x288 with 1 Axes>"
      ]
     },
     "metadata": {
      "needs_background": "light"
     },
     "output_type": "display_data"
    }
   ],
   "source": [
    "sample = data['sample_set'][1].tolist()\n",
    "plt.hist(sample, density=True, histtype='stepfilled', bins='auto', color='green')\n",
    "plt.ylim(0,3)\n",
    "plt.xlim(0,1)"
   ]
  },
  {
   "cell_type": "markdown",
   "id": "c2a1c95d",
   "metadata": {},
   "source": [
    "## Bounded distributions"
   ]
  },
  {
   "cell_type": "markdown",
   "id": "197de834",
   "metadata": {},
   "source": [
    "### same number of elements"
   ]
  },
  {
   "cell_type": "code",
   "execution_count": 17,
   "id": "1e922e10",
   "metadata": {},
   "outputs": [],
   "source": [
    "bounded_dists = dm.get_bounded_distribution()\n",
    "bounded_samples = dm.get_samples(bounded_dists, nr_sample_sets, sample_size)\n",
    "#dm.plot_histograms_of_samples(bounded_samples)"
   ]
  },
  {
   "cell_type": "code",
   "execution_count": 9,
   "id": "784bbbbf",
   "metadata": {},
   "outputs": [
    {
     "data": {
      "text/html": [
       "<div>\n",
       "<style scoped>\n",
       "    .dataframe tbody tr th:only-of-type {\n",
       "        vertical-align: middle;\n",
       "    }\n",
       "\n",
       "    .dataframe tbody tr th {\n",
       "        vertical-align: top;\n",
       "    }\n",
       "\n",
       "    .dataframe thead th {\n",
       "        text-align: right;\n",
       "    }\n",
       "</style>\n",
       "<table border=\"1\" class=\"dataframe\">\n",
       "  <thead>\n",
       "    <tr style=\"text-align: right;\">\n",
       "      <th></th>\n",
       "      <th>m1</th>\n",
       "      <th>m2</th>\n",
       "      <th>m3</th>\n",
       "      <th>m4</th>\n",
       "      <th>label</th>\n",
       "    </tr>\n",
       "  </thead>\n",
       "  <tbody>\n",
       "    <tr>\n",
       "      <th>0</th>\n",
       "      <td>0.328803</td>\n",
       "      <td>0.054296</td>\n",
       "      <td>0.006966</td>\n",
       "      <td>0.006937</td>\n",
       "      <td>beta_1_2</td>\n",
       "    </tr>\n",
       "    <tr>\n",
       "      <th>1</th>\n",
       "      <td>0.325356</td>\n",
       "      <td>0.056483</td>\n",
       "      <td>0.008560</td>\n",
       "      <td>0.008081</td>\n",
       "      <td>beta_1_2</td>\n",
       "    </tr>\n",
       "    <tr>\n",
       "      <th>2</th>\n",
       "      <td>0.314695</td>\n",
       "      <td>0.054682</td>\n",
       "      <td>0.008226</td>\n",
       "      <td>0.007484</td>\n",
       "      <td>beta_1_2</td>\n",
       "    </tr>\n",
       "  </tbody>\n",
       "</table>\n",
       "</div>"
      ],
      "text/plain": [
       "         m1        m2        m3        m4     label\n",
       "0  0.328803  0.054296  0.006966  0.006937  beta_1_2\n",
       "1  0.325356  0.056483  0.008560  0.008081  beta_1_2\n",
       "2  0.314695  0.054682  0.008226  0.007484  beta_1_2"
      ]
     },
     "execution_count": 9,
     "metadata": {},
     "output_type": "execute_result"
    }
   ],
   "source": [
    "moments_df = dem.get_moments(bounded_samples, nr_moments)\n",
    "moments_df.head(3)"
   ]
  },
  {
   "cell_type": "code",
   "execution_count": 10,
   "id": "058106ec",
   "metadata": {
    "scrolled": true
   },
   "outputs": [
    {
     "data": {
      "image/png": "[encoded data removed]",
      "text/plain": [
       "<Figure size 432x288 with 1 Axes>"
      ]
     },
     "metadata": {
      "needs_background": "light"
     },
     "output_type": "display_data"
    },
    {
     "data": {
      "image/png": "[encoded data removed]",
      "text/plain": [
       "<Figure size 432x288 with 1 Axes>"
      ]
     },
     "metadata": {
      "needs_background": "light"
     },
     "output_type": "display_data"
    },
    {
     "data": {
      "image/png": "[encoded data removed]",
      "text/plain": [
       "<Figure size 432x288 with 1 Axes>"
      ]
     },
     "metadata": {
      "needs_background": "light"
     },
     "output_type": "display_data"
    },
    {
     "data": {
      "image/png": "[encoded data removed]",
      "text/plain": [
       "<Figure size 432x288 with 1 Axes>"
      ]
     },
     "metadata": {
      "needs_background": "light"
     },
     "output_type": "display_data"
    }
   ],
   "source": [
    "dem.get_histogram_of_moments(moments_df)"
   ]
  },
  {
   "cell_type": "code",
   "execution_count": 11,
   "id": "5d4bfd1a",
   "metadata": {},
   "outputs": [],
   "source": [
    "sample_size_list = [5, 10, 50, 100, 500, 1000]\n",
    "nr_moments_list = np.arange(1,21)"
   ]
  },
  {
   "cell_type": "markdown",
   "id": "2d77a4d7",
   "metadata": {},
   "source": [
    "#### SVM"
   ]
  },
  {
   "cell_type": "code",
   "execution_count": 9,
   "id": "efaa43e7",
   "metadata": {},
   "outputs": [],
   "source": [
    "cost = [0.01, 0.1, 0.5, 1, 5, 10]\n",
    "gamma = [0.01, 0.1, 1, 5, 10]"
   ]
  },
  {
   "cell_type": "code",
   "execution_count": 10,
   "id": "857cdf1a",
   "metadata": {},
   "outputs": [
    {
     "data": {
      "application/vnd.jupyter.widget-view+json": {
       "model_id": "4be281aa775b4f72b9f1ff1c37e60161",
       "version_major": 2,
       "version_minor": 0
      },
      "text/plain": [
       "Completed:   0%|          | 0/6 [00:00<?, ?it/s]"
      ]
     },
     "metadata": {},
     "output_type": "display_data"
    }
   ],
   "source": [
    "res_svm = cm.cv_samplesize_moments_svm(sample_size_list, nr_moments_list, bounded_dists, nr_sample_sets, n_folds, test_size, cost, gamma)"
   ]
  },
  {
   "cell_type": "code",
   "execution_count": 11,
   "id": "99fdfded",
   "metadata": {},
   "outputs": [
    {
     "data": {
      "image/png": "[encoded data removed]",
      "text/plain": [
       "<Figure size 432x288 with 1 Axes>"
      ]
     },
     "metadata": {
      "needs_background": "light"
     },
     "output_type": "display_data"
    }
   ],
   "source": [
    "cm.plot_cv_moments_v2(res_svm)"
   ]
  },
  {
   "cell_type": "markdown",
   "id": "fbe6a9de",
   "metadata": {},
   "source": [
    "#### Logistic Regression"
   ]
  },
  {
   "cell_type": "code",
   "execution_count": 12,
   "id": "d5c57e96",
   "metadata": {},
   "outputs": [],
   "source": [
    "C = [0.01, 0.1, 0.5, 1, 5, 10]"
   ]
  },
  {
   "cell_type": "code",
   "execution_count": 13,
   "id": "ea46097c",
   "metadata": {},
   "outputs": [
    {
     "data": {
      "application/vnd.jupyter.widget-view+json": {
       "model_id": "7be0e82f57e84ec9a5b376917f3cc652",
       "version_major": 2,
       "version_minor": 0
      },
      "text/plain": [
       "Completed:   0%|          | 0/6 [00:00<?, ?it/s]"
      ]
     },
     "metadata": {},
     "output_type": "display_data"
    }
   ],
   "source": [
    "res_lr = cm.cv_samplesize_moments_lr(sample_size_list, nr_moments_list, bounded_dists, nr_sample_sets, n_folds, test_size, C)"
   ]
  },
  {
   "cell_type": "code",
   "execution_count": 14,
   "id": "89ab0c0c",
   "metadata": {},
   "outputs": [
    {
     "data": {
      "image/png": "[encoded data removed]",
      "text/plain": [
       "<Figure size 432x288 with 1 Axes>"
      ]
     },
     "metadata": {
      "needs_background": "light"
     },
     "output_type": "display_data"
    }
   ],
   "source": [
    "cm.plot_cv_moments_v2(res_lr)"
   ]
  },
  {
   "cell_type": "markdown",
   "id": "c86fe062",
   "metadata": {},
   "source": [
    "### Varying number of elements"
   ]
  },
  {
   "cell_type": "markdown",
   "id": "5a36ebe0",
   "metadata": {},
   "source": [
    "#### SVM"
   ]
  },
  {
   "cell_type": "code",
   "execution_count": 12,
   "id": "f292c2bc",
   "metadata": {},
   "outputs": [
    {
     "data": {
      "application/vnd.jupyter.widget-view+json": {
       "model_id": "44dfeb425ed1421da425a773ac62cf0f",
       "version_major": 2,
       "version_minor": 0
      },
      "text/plain": [
       "Completed:   0%|          | 0/6 [00:00<?, ?it/s]"
      ]
     },
     "metadata": {},
     "output_type": "display_data"
    }
   ],
   "source": [
    "res_flex_svm = cm.cv_samplesize_moments_svm(sample_size_list, nr_moments_list, bounded_dists, nr_sample_sets, n_folds, test_size, cost, gamma, flex=True)"
   ]
  },
  {
   "cell_type": "code",
   "execution_count": 16,
   "id": "a6344730",
   "metadata": {},
   "outputs": [
    {
     "data": {
      "image/png": "[encoded data removed]",
      "text/plain": [
       "<Figure size 432x288 with 1 Axes>"
      ]
     },
     "metadata": {
      "needs_background": "light"
     },
     "output_type": "display_data"
    }
   ],
   "source": [
    "cm.plot_cv_moments_v2(res_flex_svm)"
   ]
  },
  {
   "cell_type": "markdown",
   "id": "06de52d9",
   "metadata": {},
   "source": [
    "#### Logistic regression"
   ]
  },
  {
   "cell_type": "code",
   "execution_count": 17,
   "id": "c80cac75",
   "metadata": {
    "scrolled": true
   },
   "outputs": [
    {
     "data": {
      "application/vnd.jupyter.widget-view+json": {
       "model_id": "54972fce5c5f49a38cadd910ca0ce223",
       "version_major": 2,
       "version_minor": 0
      },
      "text/plain": [
       "Completed:   0%|          | 0/6 [00:00<?, ?it/s]"
      ]
     },
     "metadata": {},
     "output_type": "display_data"
    },
    {
     "name": "stderr",
     "output_type": "stream",
     "text": [
      "C:\\Users\\shfar\\Desktop\\SU\\Thesis\\thesis\\classification_modules.py:239: RuntimeWarning: divide by zero encountered in log\n",
      "  loss = loss - np.log(sum(one_hot_matrix[j]*prob_row))\n",
      "C:\\Users\\shfar\\Desktop\\SU\\Thesis\\thesis\\classification_modules.py:239: RuntimeWarning: divide by zero encountered in log\n",
      "  loss = loss - np.log(sum(one_hot_matrix[j]*prob_row))\n",
      "C:\\Users\\shfar\\Desktop\\SU\\Thesis\\thesis\\classification_modules.py:239: RuntimeWarning: divide by zero encountered in log\n",
      "  loss = loss - np.log(sum(one_hot_matrix[j]*prob_row))\n",
      "C:\\Users\\shfar\\Desktop\\SU\\Thesis\\thesis\\classification_modules.py:239: RuntimeWarning: divide by zero encountered in log\n",
      "  loss = loss - np.log(sum(one_hot_matrix[j]*prob_row))\n",
      "C:\\Users\\shfar\\Desktop\\SU\\Thesis\\thesis\\classification_modules.py:239: RuntimeWarning: divide by zero encountered in log\n",
      "  loss = loss - np.log(sum(one_hot_matrix[j]*prob_row))\n",
      "C:\\Users\\shfar\\Desktop\\SU\\Thesis\\thesis\\classification_modules.py:239: RuntimeWarning: divide by zero encountered in log\n",
      "  loss = loss - np.log(sum(one_hot_matrix[j]*prob_row))\n",
      "C:\\Users\\shfar\\Desktop\\SU\\Thesis\\thesis\\classification_modules.py:239: RuntimeWarning: divide by zero encountered in log\n",
      "  loss = loss - np.log(sum(one_hot_matrix[j]*prob_row))\n",
      "C:\\Users\\shfar\\Desktop\\SU\\Thesis\\thesis\\classification_modules.py:239: RuntimeWarning: divide by zero encountered in log\n",
      "  loss = loss - np.log(sum(one_hot_matrix[j]*prob_row))\n",
      "C:\\Users\\shfar\\Desktop\\SU\\Thesis\\thesis\\classification_modules.py:239: RuntimeWarning: divide by zero encountered in log\n",
      "  loss = loss - np.log(sum(one_hot_matrix[j]*prob_row))\n",
      "C:\\Users\\shfar\\Desktop\\SU\\Thesis\\thesis\\classification_modules.py:239: RuntimeWarning: divide by zero encountered in log\n",
      "  loss = loss - np.log(sum(one_hot_matrix[j]*prob_row))\n",
      "C:\\Users\\shfar\\Desktop\\SU\\Thesis\\thesis\\classification_modules.py:239: RuntimeWarning: divide by zero encountered in log\n",
      "  loss = loss - np.log(sum(one_hot_matrix[j]*prob_row))\n",
      "C:\\Users\\shfar\\Desktop\\SU\\Thesis\\thesis\\classification_modules.py:239: RuntimeWarning: divide by zero encountered in log\n",
      "  loss = loss - np.log(sum(one_hot_matrix[j]*prob_row))\n",
      "C:\\Users\\shfar\\Desktop\\SU\\Thesis\\thesis\\classification_modules.py:239: RuntimeWarning: divide by zero encountered in log\n",
      "  loss = loss - np.log(sum(one_hot_matrix[j]*prob_row))\n",
      "C:\\Users\\shfar\\Desktop\\SU\\Thesis\\thesis\\classification_modules.py:239: RuntimeWarning: divide by zero encountered in log\n",
      "  loss = loss - np.log(sum(one_hot_matrix[j]*prob_row))\n",
      "C:\\Users\\shfar\\Desktop\\SU\\Thesis\\thesis\\classification_modules.py:239: RuntimeWarning: divide by zero encountered in log\n",
      "  loss = loss - np.log(sum(one_hot_matrix[j]*prob_row))\n",
      "C:\\Users\\shfar\\Desktop\\SU\\Thesis\\thesis\\classification_modules.py:239: RuntimeWarning: divide by zero encountered in log\n",
      "  loss = loss - np.log(sum(one_hot_matrix[j]*prob_row))\n",
      "C:\\Users\\shfar\\Desktop\\SU\\Thesis\\thesis\\classification_modules.py:239: RuntimeWarning: divide by zero encountered in log\n",
      "  loss = loss - np.log(sum(one_hot_matrix[j]*prob_row))\n",
      "C:\\Users\\shfar\\Desktop\\SU\\Thesis\\thesis\\classification_modules.py:239: RuntimeWarning: divide by zero encountered in log\n",
      "  loss = loss - np.log(sum(one_hot_matrix[j]*prob_row))\n",
      "C:\\Users\\shfar\\Desktop\\SU\\Thesis\\thesis\\classification_modules.py:239: RuntimeWarning: divide by zero encountered in log\n",
      "  loss = loss - np.log(sum(one_hot_matrix[j]*prob_row))\n",
      "C:\\Users\\shfar\\Desktop\\SU\\Thesis\\thesis\\classification_modules.py:239: RuntimeWarning: divide by zero encountered in log\n",
      "  loss = loss - np.log(sum(one_hot_matrix[j]*prob_row))\n",
      "C:\\Users\\shfar\\Desktop\\SU\\Thesis\\thesis\\classification_modules.py:239: RuntimeWarning: divide by zero encountered in log\n",
      "  loss = loss - np.log(sum(one_hot_matrix[j]*prob_row))\n",
      "C:\\Users\\shfar\\Desktop\\SU\\Thesis\\thesis\\classification_modules.py:239: RuntimeWarning: divide by zero encountered in log\n",
      "  loss = loss - np.log(sum(one_hot_matrix[j]*prob_row))\n",
      "C:\\Users\\shfar\\Desktop\\SU\\Thesis\\thesis\\classification_modules.py:239: RuntimeWarning: divide by zero encountered in log\n",
      "  loss = loss - np.log(sum(one_hot_matrix[j]*prob_row))\n",
      "C:\\Users\\shfar\\Desktop\\SU\\Thesis\\thesis\\classification_modules.py:239: RuntimeWarning: divide by zero encountered in log\n",
      "  loss = loss - np.log(sum(one_hot_matrix[j]*prob_row))\n",
      "C:\\Users\\shfar\\Desktop\\SU\\Thesis\\thesis\\classification_modules.py:239: RuntimeWarning: divide by zero encountered in log\n",
      "  loss = loss - np.log(sum(one_hot_matrix[j]*prob_row))\n",
      "C:\\Users\\shfar\\Desktop\\SU\\Thesis\\thesis\\classification_modules.py:239: RuntimeWarning: divide by zero encountered in log\n",
      "  loss = loss - np.log(sum(one_hot_matrix[j]*prob_row))\n",
      "C:\\Users\\shfar\\Desktop\\SU\\Thesis\\thesis\\classification_modules.py:239: RuntimeWarning: divide by zero encountered in log\n",
      "  loss = loss - np.log(sum(one_hot_matrix[j]*prob_row))\n",
      "C:\\Users\\shfar\\Desktop\\SU\\Thesis\\thesis\\classification_modules.py:239: RuntimeWarning: divide by zero encountered in log\n",
      "  loss = loss - np.log(sum(one_hot_matrix[j]*prob_row))\n",
      "C:\\Users\\shfar\\Desktop\\SU\\Thesis\\thesis\\classification_modules.py:239: RuntimeWarning: divide by zero encountered in log\n",
      "  loss = loss - np.log(sum(one_hot_matrix[j]*prob_row))\n",
      "C:\\Users\\shfar\\Desktop\\SU\\Thesis\\thesis\\classification_modules.py:239: RuntimeWarning: divide by zero encountered in log\n",
      "  loss = loss - np.log(sum(one_hot_matrix[j]*prob_row))\n",
      "C:\\Users\\shfar\\Desktop\\SU\\Thesis\\thesis\\classification_modules.py:239: RuntimeWarning: divide by zero encountered in log\n",
      "  loss = loss - np.log(sum(one_hot_matrix[j]*prob_row))\n",
      "C:\\Users\\shfar\\Desktop\\SU\\Thesis\\thesis\\classification_modules.py:239: RuntimeWarning: divide by zero encountered in log\n",
      "  loss = loss - np.log(sum(one_hot_matrix[j]*prob_row))\n",
      "C:\\Users\\shfar\\Desktop\\SU\\Thesis\\thesis\\classification_modules.py:239: RuntimeWarning: divide by zero encountered in log\n",
      "  loss = loss - np.log(sum(one_hot_matrix[j]*prob_row))\n",
      "C:\\Users\\shfar\\Desktop\\SU\\Thesis\\thesis\\classification_modules.py:239: RuntimeWarning: divide by zero encountered in log\n",
      "  loss = loss - np.log(sum(one_hot_matrix[j]*prob_row))\n"
     ]
    }
   ],
   "source": [
    "res_flex_lr = cm.cv_samplesize_moments_lr(sample_size_list, nr_moments_list, bounded_dists, nr_sample_sets, n_folds, test_size, C, flex=True)"
   ]
  },
  {
   "cell_type": "code",
   "execution_count": 24,
   "id": "20ea35ff",
   "metadata": {},
   "outputs": [
    {
     "data": {
      "image/png": "[encoded data removed]",
      "text/plain": [
       "<Figure size 432x288 with 1 Axes>"
      ]
     },
     "metadata": {
      "needs_background": "light"
     },
     "output_type": "display_data"
    }
   ],
   "source": [
    "cm.plot_cv_moments_v2(res_flex_lr)"
   ]
  },
  {
   "cell_type": "code",
   "execution_count": 12,
   "id": "607a4e98",
   "metadata": {},
   "outputs": [
    {
     "data": {
      "text/html": [
       "<div>\n",
       "<style scoped>\n",
       "    .dataframe tbody tr th:only-of-type {\n",
       "        vertical-align: middle;\n",
       "    }\n",
       "\n",
       "    .dataframe tbody tr th {\n",
       "        vertical-align: top;\n",
       "    }\n",
       "\n",
       "    .dataframe thead th {\n",
       "        text-align: right;\n",
       "    }\n",
       "</style>\n",
       "<table border=\"1\" class=\"dataframe\">\n",
       "  <thead>\n",
       "    <tr style=\"text-align: right;\">\n",
       "      <th></th>\n",
       "      <th>sample_set</th>\n",
       "      <th>len</th>\n",
       "      <th>label</th>\n",
       "    </tr>\n",
       "  </thead>\n",
       "  <tbody>\n",
       "    <tr>\n",
       "      <th>0</th>\n",
       "      <td>[0.3136208278214952]</td>\n",
       "      <td>1</td>\n",
       "      <td>beta_1_2</td>\n",
       "    </tr>\n",
       "    <tr>\n",
       "      <th>1</th>\n",
       "      <td>[0.2740346441664781, 0.11646258557783584]</td>\n",
       "      <td>2</td>\n",
       "      <td>beta_1_2</td>\n",
       "    </tr>\n",
       "    <tr>\n",
       "      <th>2</th>\n",
       "      <td>[0.5242401761034906, 0.11559386939648097, 0.02...</td>\n",
       "      <td>3</td>\n",
       "      <td>beta_1_2</td>\n",
       "    </tr>\n",
       "    <tr>\n",
       "      <th>3</th>\n",
       "      <td>[0.17123319383897645, 0.142519774003839]</td>\n",
       "      <td>2</td>\n",
       "      <td>beta_1_2</td>\n",
       "    </tr>\n",
       "    <tr>\n",
       "      <th>4</th>\n",
       "      <td>[0.2913250410812569, 0.04328116914623929, 0.32...</td>\n",
       "      <td>3</td>\n",
       "      <td>beta_1_2</td>\n",
       "    </tr>\n",
       "    <tr>\n",
       "      <th>...</th>\n",
       "      <td>...</td>\n",
       "      <td>...</td>\n",
       "      <td>...</td>\n",
       "    </tr>\n",
       "    <tr>\n",
       "      <th>75</th>\n",
       "      <td>[0.05270145675896166, 0.2047236536635063, 0.04...</td>\n",
       "      <td>5</td>\n",
       "      <td>beta_1_5</td>\n",
       "    </tr>\n",
       "    <tr>\n",
       "      <th>76</th>\n",
       "      <td>[0.11663890280721961, 0.24847265110431316]</td>\n",
       "      <td>2</td>\n",
       "      <td>beta_1_5</td>\n",
       "    </tr>\n",
       "    <tr>\n",
       "      <th>77</th>\n",
       "      <td>[0.3488182471025885, 0.26796439644404135, 0.51...</td>\n",
       "      <td>4</td>\n",
       "      <td>beta_1_5</td>\n",
       "    </tr>\n",
       "    <tr>\n",
       "      <th>78</th>\n",
       "      <td>[0.029919011287146514, 0.3790265991624738, 0.5...</td>\n",
       "      <td>5</td>\n",
       "      <td>beta_1_5</td>\n",
       "    </tr>\n",
       "    <tr>\n",
       "      <th>79</th>\n",
       "      <td>[0.09190057953168392]</td>\n",
       "      <td>1</td>\n",
       "      <td>beta_1_5</td>\n",
       "    </tr>\n",
       "  </tbody>\n",
       "</table>\n",
       "<p>80 rows × 3 columns</p>\n",
       "</div>"
      ],
      "text/plain": [
       "                                           sample_set  len     label\n",
       "0                                [0.3136208278214952]    1  beta_1_2\n",
       "1           [0.2740346441664781, 0.11646258557783584]    2  beta_1_2\n",
       "2   [0.5242401761034906, 0.11559386939648097, 0.02...    3  beta_1_2\n",
       "3            [0.17123319383897645, 0.142519774003839]    2  beta_1_2\n",
       "4   [0.2913250410812569, 0.04328116914623929, 0.32...    3  beta_1_2\n",
       "..                                                ...  ...       ...\n",
       "75  [0.05270145675896166, 0.2047236536635063, 0.04...    5  beta_1_5\n",
       "76         [0.11663890280721961, 0.24847265110431316]    2  beta_1_5\n",
       "77  [0.3488182471025885, 0.26796439644404135, 0.51...    4  beta_1_5\n",
       "78  [0.029919011287146514, 0.3790265991624738, 0.5...    5  beta_1_5\n",
       "79                              [0.09190057953168392]    1  beta_1_5\n",
       "\n",
       "[80 rows x 3 columns]"
      ]
     },
     "execution_count": 12,
     "metadata": {},
     "output_type": "execute_result"
    }
   ],
   "source": [
    "c_vector = [0.01, 0.1, 0.5, 1, 5, 10]\n",
    "n_folds = 5\n",
    "data = dm.get_samples_flex(bounded_dists, 20, 5)\n",
    "data"
   ]
  },
  {
   "cell_type": "code",
   "execution_count": 27,
   "id": "cb5b6080",
   "metadata": {},
   "outputs": [],
   "source": [
    "from functools import partial\n",
    "from sklearn.preprocessing import StandardScaler\n",
    "from sklearn.linear_model import LogisticRegression"
   ]
  },
  {
   "cell_type": "code",
   "execution_count": 16,
   "id": "a39e424e",
   "metadata": {},
   "outputs": [
    {
     "data": {
      "text/html": [
       "<div>\n",
       "<style scoped>\n",
       "    .dataframe tbody tr th:only-of-type {\n",
       "        vertical-align: middle;\n",
       "    }\n",
       "\n",
       "    .dataframe tbody tr th {\n",
       "        vertical-align: top;\n",
       "    }\n",
       "\n",
       "    .dataframe thead th {\n",
       "        text-align: right;\n",
       "    }\n",
       "</style>\n",
       "<table border=\"1\" class=\"dataframe\">\n",
       "  <thead>\n",
       "    <tr style=\"text-align: right;\">\n",
       "      <th></th>\n",
       "      <th>0</th>\n",
       "      <th>1</th>\n",
       "      <th>2</th>\n",
       "      <th>label</th>\n",
       "    </tr>\n",
       "  </thead>\n",
       "  <tbody>\n",
       "    <tr>\n",
       "      <th>0</th>\n",
       "      <td>0.313621</td>\n",
       "      <td>0.000000</td>\n",
       "      <td>0.000000e+00</td>\n",
       "      <td>beta_1_2</td>\n",
       "    </tr>\n",
       "    <tr>\n",
       "      <th>1</th>\n",
       "      <td>0.195249</td>\n",
       "      <td>0.006207</td>\n",
       "      <td>0.000000e+00</td>\n",
       "      <td>beta_1_2</td>\n",
       "    </tr>\n",
       "    <tr>\n",
       "      <th>2</th>\n",
       "      <td>0.221490</td>\n",
       "      <td>0.047208</td>\n",
       "      <td>6.311157e-03</td>\n",
       "      <td>beta_1_2</td>\n",
       "    </tr>\n",
       "    <tr>\n",
       "      <th>3</th>\n",
       "      <td>0.156876</td>\n",
       "      <td>0.000206</td>\n",
       "      <td>-8.682088e-21</td>\n",
       "      <td>beta_1_2</td>\n",
       "    </tr>\n",
       "    <tr>\n",
       "      <th>4</th>\n",
       "      <td>0.219027</td>\n",
       "      <td>0.015605</td>\n",
       "      <td>-1.314412e-03</td>\n",
       "      <td>beta_1_2</td>\n",
       "    </tr>\n",
       "    <tr>\n",
       "      <th>...</th>\n",
       "      <td>...</td>\n",
       "      <td>...</td>\n",
       "      <td>...</td>\n",
       "      <td>...</td>\n",
       "    </tr>\n",
       "    <tr>\n",
       "      <th>75</th>\n",
       "      <td>0.121124</td>\n",
       "      <td>0.006808</td>\n",
       "      <td>2.457776e-04</td>\n",
       "      <td>beta_1_5</td>\n",
       "    </tr>\n",
       "    <tr>\n",
       "      <th>76</th>\n",
       "      <td>0.182556</td>\n",
       "      <td>0.004345</td>\n",
       "      <td>0.000000e+00</td>\n",
       "      <td>beta_1_5</td>\n",
       "    </tr>\n",
       "    <tr>\n",
       "      <th>77</th>\n",
       "      <td>0.369684</td>\n",
       "      <td>0.008504</td>\n",
       "      <td>5.722993e-04</td>\n",
       "      <td>beta_1_5</td>\n",
       "    </tr>\n",
       "    <tr>\n",
       "      <th>78</th>\n",
       "      <td>0.244067</td>\n",
       "      <td>0.040958</td>\n",
       "      <td>2.220413e-03</td>\n",
       "      <td>beta_1_5</td>\n",
       "    </tr>\n",
       "    <tr>\n",
       "      <th>79</th>\n",
       "      <td>0.091901</td>\n",
       "      <td>0.000000</td>\n",
       "      <td>0.000000e+00</td>\n",
       "      <td>beta_1_5</td>\n",
       "    </tr>\n",
       "  </tbody>\n",
       "</table>\n",
       "<p>80 rows × 4 columns</p>\n",
       "</div>"
      ],
      "text/plain": [
       "           0         1             2     label\n",
       "0   0.313621  0.000000  0.000000e+00  beta_1_2\n",
       "1   0.195249  0.006207  0.000000e+00  beta_1_2\n",
       "2   0.221490  0.047208  6.311157e-03  beta_1_2\n",
       "3   0.156876  0.000206 -8.682088e-21  beta_1_2\n",
       "4   0.219027  0.015605 -1.314412e-03  beta_1_2\n",
       "..       ...       ...           ...       ...\n",
       "75  0.121124  0.006808  2.457776e-04  beta_1_5\n",
       "76  0.182556  0.004345  0.000000e+00  beta_1_5\n",
       "77  0.369684  0.008504  5.722993e-04  beta_1_5\n",
       "78  0.244067  0.040958  2.220413e-03  beta_1_5\n",
       "79  0.091901  0.000000  0.000000e+00  beta_1_5\n",
       "\n",
       "[80 rows x 4 columns]"
      ]
     },
     "execution_count": 16,
     "metadata": {},
     "output_type": "execute_result"
    }
   ],
   "source": [
    "m = 3\n",
    "partial_moments = partial(dem.get_moments_partial, nr_moments=m)\n",
    "moments_res = data['sample_set'].apply(partial_moments)\n",
    "moments_df = pd.DataFrame(moments_res.tolist())\n",
    "moments_df['label'] = data['label']\n",
    "moments_df            "
   ]
  },
  {
   "cell_type": "code",
   "execution_count": 18,
   "id": "3780fda6",
   "metadata": {},
   "outputs": [
    {
     "data": {
      "text/plain": [
       "[0.25, 0.25, 0.3125, 0.375, 0.3125]"
      ]
     },
     "execution_count": 18,
     "metadata": {},
     "output_type": "execute_result"
    }
   ],
   "source": [
    "score = cm.lr_model_m(moments_df, n_folds, c_vector)\n",
    "score"
   ]
  },
  {
   "cell_type": "code",
   "execution_count": 29,
   "id": "4ef81f12",
   "metadata": {},
   "outputs": [],
   "source": [
    "C = [0.1]\n",
    "X = moments_df.iloc[:, :-1]\n",
    "y = moments_df.iloc[:,-1]\n",
    "train_index_list, test_index_list = cm.split_n_folds(data, n_folds)"
   ]
  },
  {
   "cell_type": "code",
   "execution_count": 30,
   "id": "13ea416f",
   "metadata": {},
   "outputs": [],
   "source": [
    "result = list()\n",
    "for c in C:\n",
    "    cv_error = list()\n",
    "    for i in range(1):\n",
    "        X_train = X.iloc[train_index_list[i]]\n",
    "        y_train = y.iloc[train_index_list[i]]\n",
    "        X_test = X.iloc[test_index_list[i]]\n",
    "        y_test = y.iloc[test_index_list[i]]\n",
    "        y_test = y_test.reset_index(drop=True)\n",
    " \n",
    "        # standardize the data\n",
    "        scaler_train = StandardScaler()\n",
    "        scaler_train.fit(X_train)\n",
    "        X_train_scaled = scaler_train.transform(X_train)\n",
    "        X_test_scaled = scaler_train.transform(X_test)\n",
    "        clf_lr = LogisticRegression(penalty ='l2', C=c, class_weight='balanced', multi_class='ovr')\n",
    "        clf_lr.fit(X_train_scaled, y_train)\n",
    "        prob = clf_lr.predict_proba(X_test_scaled)\n",
    "        pred = clf_lr.predict(X_test_scaled)\n",
    "            \n",
    "        one_hot_matrix = list()\n",
    "        for l in range(len(y_test)):\n",
    "            one_hot_matrix.append(list((y_test[l] == clf_lr.classes_ )*1))\n",
    "        loss = 0\n",
    "        for j in range(len(y_test)):\n",
    "            prob_row = prob[j]\n",
    "            loss = loss - np.log(sum(one_hot_matrix[j]*prob_row))\n",
    "\n",
    "        loss = loss/len(y_test)\n",
    "        cv_error.append(loss)\n",
    "        result.append( dict(zip(['cv_error','lambda'],[loss, 1/c]))) \n",
    "result_df = pd.DataFrame(result)\n"
   ]
  },
  {
   "cell_type": "code",
   "execution_count": 33,
   "id": "0d02a7d1",
   "metadata": {},
   "outputs": [
    {
     "data": {
      "text/plain": [
       "0.27157161367980964"
      ]
     },
     "execution_count": 33,
     "metadata": {},
     "output_type": "execute_result"
    }
   ],
   "source": [
    "sum(one_hot_matrix[j]*prob_row)"
   ]
  },
  {
   "cell_type": "code",
   "execution_count": null,
   "id": "0ff88b4d",
   "metadata": {},
   "outputs": [],
   "source": [
    "# find the best model, using one standard error rule\n",
    "res_agg = result_df.groupby(['lambda'], as_index=False).agg({'cv_error':['mean','std']})\n",
    "res_agg.columns = ['lambda','mean','std']\n",
    "res_agg['se']=res_agg['std']/np.sqrt(n_folds)\n",
    "min_err_index = np.argmin(res_agg['mean'])\n",
    "threshold = res_agg['mean'][min_err_index] + res_agg['se'][min_err_index]\n",
    "models = res_agg.loc[res_agg['mean']<=threshold]\n",
    "models_lambda =list(models['lambda'])\n"
   ]
  },
  {
   "cell_type": "markdown",
   "id": "b395afbd",
   "metadata": {},
   "source": [
    "### standardized"
   ]
  },
  {
   "cell_type": "markdown",
   "id": "5ca9a59c",
   "metadata": {},
   "source": [
    "#### svm"
   ]
  },
  {
   "cell_type": "code",
   "execution_count": 20,
   "id": "52b2adac",
   "metadata": {},
   "outputs": [
    {
     "data": {
      "application/vnd.jupyter.widget-view+json": {
       "model_id": "626056192e924f4d84b19f2d81387bac",
       "version_major": 2,
       "version_minor": 0
      },
      "text/plain": [
       "Completed:   0%|          | 0/6 [00:00<?, ?it/s]"
      ]
     },
     "metadata": {},
     "output_type": "display_data"
    }
   ],
   "source": [
    "res_st_svm = cm.cv_samplesize_moments_svm(sample_size_list, nr_moments_list, bounded_dists, nr_sample_sets, n_folds, test_size, cost, gamma, standardize = True)"
   ]
  },
  {
   "cell_type": "code",
   "execution_count": 21,
   "id": "3d9fff24",
   "metadata": {},
   "outputs": [
    {
     "data": {
      "image/png": "[encoded data removed]",
      "text/plain": [
       "<Figure size 432x288 with 1 Axes>"
      ]
     },
     "metadata": {
      "needs_background": "light"
     },
     "output_type": "display_data"
    }
   ],
   "source": [
    "cm.plot_cv_moments_v2(res_st_svm)"
   ]
  },
  {
   "cell_type": "markdown",
   "id": "3f905ba6",
   "metadata": {},
   "source": [
    "#### logistic regression"
   ]
  },
  {
   "cell_type": "code",
   "execution_count": 22,
   "id": "79bfd0cc",
   "metadata": {},
   "outputs": [
    {
     "data": {
      "application/vnd.jupyter.widget-view+json": {
       "model_id": "f41ecc4a4ba844ba8633d0c58ab8096d",
       "version_major": 2,
       "version_minor": 0
      },
      "text/plain": [
       "Completed:   0%|          | 0/6 [00:00<?, ?it/s]"
      ]
     },
     "metadata": {},
     "output_type": "display_data"
    }
   ],
   "source": [
    "res_st_lr = cm.cv_samplesize_moments_lr(sample_size_list, nr_moments_list, bounded_dists, nr_sample_sets, n_folds, test_size, C, standardize = True)"
   ]
  },
  {
   "cell_type": "code",
   "execution_count": 23,
   "id": "b98adf9f",
   "metadata": {},
   "outputs": [
    {
     "data": {
      "image/png": "[encoded data removed]",
      "text/plain": [
       "<Figure size 432x288 with 1 Axes>"
      ]
     },
     "metadata": {
      "needs_background": "light"
     },
     "output_type": "display_data"
    }
   ],
   "source": [
    "cm.plot_cv_moments_v2(res_st_lr)"
   ]
  },
  {
   "cell_type": "markdown",
   "id": "24cd9fc0",
   "metadata": {},
   "source": [
    "## Heavytail distributions"
   ]
  },
  {
   "cell_type": "code",
   "execution_count": 36,
   "id": "ffd5de03",
   "metadata": {},
   "outputs": [
    {
     "data": {
      "image/png": "[encoded data removed]",
      "text/plain": [
       "<Figure size 432x288 with 1 Axes>"
      ]
     },
     "metadata": {
      "needs_background": "light"
     },
     "output_type": "display_data"
    },
    {
     "data": {
      "image/png": "[encoded data removed]",
      "text/plain": [
       "<Figure size 432x288 with 1 Axes>"
      ]
     },
     "metadata": {
      "needs_background": "light"
     },
     "output_type": "display_data"
    },
    {
     "data": {
      "image/png": "[encoded data removed]",
      "text/plain": [
       "<Figure size 432x288 with 1 Axes>"
      ]
     },
     "metadata": {
      "needs_background": "light"
     },
     "output_type": "display_data"
    },
    {
     "data": {
      "image/png": "[encoded data removed]",
      "text/plain": [
       "<Figure size 432x288 with 1 Axes>"
      ]
     },
     "metadata": {
      "needs_background": "light"
     },
     "output_type": "display_data"
    }
   ],
   "source": [
    "heavytail_dists = dm.get_heavytail_distribution()\n",
    "heavytail_samples = dm.get_samples(heavytail_dists, nr_sample_sets, sample_size, transform = True)\n",
    "dm.plot_histograms_of_samples(heavytail_samples)"
   ]
  },
  {
   "cell_type": "code",
   "execution_count": 26,
   "id": "76a05d90",
   "metadata": {},
   "outputs": [
    {
     "data": {
      "text/html": [
       "<div>\n",
       "<style scoped>\n",
       "    .dataframe tbody tr th:only-of-type {\n",
       "        vertical-align: middle;\n",
       "    }\n",
       "\n",
       "    .dataframe tbody tr th {\n",
       "        vertical-align: top;\n",
       "    }\n",
       "\n",
       "    .dataframe thead th {\n",
       "        text-align: right;\n",
       "    }\n",
       "</style>\n",
       "<table border=\"1\" class=\"dataframe\">\n",
       "  <thead>\n",
       "    <tr style=\"text-align: right;\">\n",
       "      <th></th>\n",
       "      <th>m1</th>\n",
       "      <th>label</th>\n",
       "    </tr>\n",
       "  </thead>\n",
       "  <tbody>\n",
       "    <tr>\n",
       "      <th>0</th>\n",
       "      <td>0.856877</td>\n",
       "      <td>cauchy</td>\n",
       "    </tr>\n",
       "    <tr>\n",
       "      <th>1</th>\n",
       "      <td>0.751252</td>\n",
       "      <td>cauchy</td>\n",
       "    </tr>\n",
       "    <tr>\n",
       "      <th>2</th>\n",
       "      <td>0.961129</td>\n",
       "      <td>cauchy</td>\n",
       "    </tr>\n",
       "  </tbody>\n",
       "</table>\n",
       "</div>"
      ],
      "text/plain": [
       "         m1   label\n",
       "0  0.856877  cauchy\n",
       "1  0.751252  cauchy\n",
       "2  0.961129  cauchy"
      ]
     },
     "execution_count": 26,
     "metadata": {},
     "output_type": "execute_result"
    }
   ],
   "source": [
    "nr_moments=1\n",
    "moments_df = dem.get_moments(heavytail_samples, nr_moments)\n",
    "moments_df.head(3)"
   ]
  },
  {
   "cell_type": "code",
   "execution_count": 27,
   "id": "0c68889a",
   "metadata": {
    "scrolled": true
   },
   "outputs": [
    {
     "data": {
      "image/png": "[encoded data removed]",
      "text/plain": [
       "<Figure size 432x288 with 1 Axes>"
      ]
     },
     "metadata": {
      "needs_background": "light"
     },
     "output_type": "display_data"
    }
   ],
   "source": [
    "dem.get_histogram_of_moments(moments_df)"
   ]
  },
  {
   "cell_type": "markdown",
   "id": "43226550",
   "metadata": {},
   "source": [
    "#### SVM"
   ]
  },
  {
   "cell_type": "code",
   "execution_count": 28,
   "id": "2950b5c2",
   "metadata": {},
   "outputs": [
    {
     "data": {
      "application/vnd.jupyter.widget-view+json": {
       "model_id": "653b96fbb1674406abf753ee2d7104b8",
       "version_major": 2,
       "version_minor": 0
      },
      "text/plain": [
       "Completed:   0%|          | 0/6 [00:00<?, ?it/s]"
      ]
     },
     "metadata": {},
     "output_type": "display_data"
    }
   ],
   "source": [
    "res_ht_svm = cm.cv_samplesize_moments_svm(sample_size_list, nr_moments_list, heavytail_dists, nr_sample_sets, n_folds, test_size, cost, gamma, transform=True)"
   ]
  },
  {
   "cell_type": "code",
   "execution_count": 29,
   "id": "bda85de1",
   "metadata": {},
   "outputs": [
    {
     "data": {
      "image/png": "[encoded data removed]",
      "text/plain": [
       "<Figure size 432x288 with 1 Axes>"
      ]
     },
     "metadata": {
      "needs_background": "light"
     },
     "output_type": "display_data"
    }
   ],
   "source": [
    "cm.plot_cv_moments_v2(res_ht_svm)"
   ]
  },
  {
   "cell_type": "code",
   "execution_count": 30,
   "id": "e6b2d3dd",
   "metadata": {},
   "outputs": [
    {
     "data": {
      "application/vnd.jupyter.widget-view+json": {
       "model_id": "ddd95d7da72147a68ecb68651b2b4ee2",
       "version_major": 2,
       "version_minor": 0
      },
      "text/plain": [
       "Completed:   0%|          | 0/6 [00:00<?, ?it/s]"
      ]
     },
     "metadata": {},
     "output_type": "display_data"
    }
   ],
   "source": [
    "res_ht_svm = cm.cv_samplesize_moments_svm(sample_size_list, nr_moments_list, heavytail_dists, nr_sample_sets, n_folds, test_size, cost, gamma)"
   ]
  },
  {
   "cell_type": "code",
   "execution_count": 31,
   "id": "d2fc8b3d",
   "metadata": {},
   "outputs": [
    {
     "data": {
      "image/png": "[encoded data removed]",
      "text/plain": [
       "<Figure size 432x288 with 1 Axes>"
      ]
     },
     "metadata": {
      "needs_background": "light"
     },
     "output_type": "display_data"
    }
   ],
   "source": [
    "cm.plot_cv_moments_v2(res_ht_svm)"
   ]
  },
  {
   "cell_type": "markdown",
   "id": "28c643e1",
   "metadata": {},
   "source": [
    "#### Logistic Regression"
   ]
  },
  {
   "cell_type": "code",
   "execution_count": 32,
   "id": "ea482a48",
   "metadata": {},
   "outputs": [
    {
     "data": {
      "application/vnd.jupyter.widget-view+json": {
       "model_id": "3ec458734ba3401ba9d0ce59e5e440bc",
       "version_major": 2,
       "version_minor": 0
      },
      "text/plain": [
       "Completed:   0%|          | 0/6 [00:00<?, ?it/s]"
      ]
     },
     "metadata": {},
     "output_type": "display_data"
    },
    {
     "name": "stderr",
     "output_type": "stream",
     "text": [
      "C:\\Users\\shfar\\Desktop\\SU\\Thesis\\thesis\\classification_modules.py:239: RuntimeWarning: divide by zero encountered in log\n",
      "  loss = loss - np.log(sum(one_hot_matrix[j]*prob_row))\n",
      "C:\\Users\\shfar\\Desktop\\SU\\Thesis\\thesis\\classification_modules.py:239: RuntimeWarning: divide by zero encountered in log\n",
      "  loss = loss - np.log(sum(one_hot_matrix[j]*prob_row))\n",
      "C:\\Users\\shfar\\Desktop\\SU\\Thesis\\thesis\\classification_modules.py:239: RuntimeWarning: divide by zero encountered in log\n",
      "  loss = loss - np.log(sum(one_hot_matrix[j]*prob_row))\n",
      "C:\\Users\\shfar\\Desktop\\SU\\Thesis\\thesis\\classification_modules.py:239: RuntimeWarning: divide by zero encountered in log\n",
      "  loss = loss - np.log(sum(one_hot_matrix[j]*prob_row))\n",
      "C:\\Users\\shfar\\Desktop\\SU\\Thesis\\thesis\\classification_modules.py:239: RuntimeWarning: divide by zero encountered in log\n",
      "  loss = loss - np.log(sum(one_hot_matrix[j]*prob_row))\n",
      "C:\\Users\\shfar\\Desktop\\SU\\Thesis\\thesis\\classification_modules.py:239: RuntimeWarning: divide by zero encountered in log\n",
      "  loss = loss - np.log(sum(one_hot_matrix[j]*prob_row))\n",
      "C:\\Users\\shfar\\Desktop\\SU\\Thesis\\thesis\\classification_modules.py:239: RuntimeWarning: divide by zero encountered in log\n",
      "  loss = loss - np.log(sum(one_hot_matrix[j]*prob_row))\n",
      "C:\\Users\\shfar\\Desktop\\SU\\Thesis\\thesis\\classification_modules.py:239: RuntimeWarning: divide by zero encountered in log\n",
      "  loss = loss - np.log(sum(one_hot_matrix[j]*prob_row))\n",
      "C:\\Users\\shfar\\Desktop\\SU\\Thesis\\thesis\\classification_modules.py:239: RuntimeWarning: divide by zero encountered in log\n",
      "  loss = loss - np.log(sum(one_hot_matrix[j]*prob_row))\n",
      "C:\\Users\\shfar\\Desktop\\SU\\Thesis\\thesis\\classification_modules.py:239: RuntimeWarning: divide by zero encountered in log\n",
      "  loss = loss - np.log(sum(one_hot_matrix[j]*prob_row))\n",
      "C:\\Users\\shfar\\Desktop\\SU\\Thesis\\thesis\\classification_modules.py:239: RuntimeWarning: divide by zero encountered in log\n",
      "  loss = loss - np.log(sum(one_hot_matrix[j]*prob_row))\n",
      "C:\\Users\\shfar\\Desktop\\SU\\Thesis\\thesis\\classification_modules.py:239: RuntimeWarning: divide by zero encountered in log\n",
      "  loss = loss - np.log(sum(one_hot_matrix[j]*prob_row))\n",
      "C:\\Users\\shfar\\Desktop\\SU\\Thesis\\thesis\\classification_modules.py:239: RuntimeWarning: divide by zero encountered in log\n",
      "  loss = loss - np.log(sum(one_hot_matrix[j]*prob_row))\n",
      "C:\\Users\\shfar\\Desktop\\SU\\Thesis\\thesis\\classification_modules.py:239: RuntimeWarning: divide by zero encountered in log\n",
      "  loss = loss - np.log(sum(one_hot_matrix[j]*prob_row))\n",
      "C:\\Users\\shfar\\Desktop\\SU\\Thesis\\thesis\\classification_modules.py:239: RuntimeWarning: divide by zero encountered in log\n",
      "  loss = loss - np.log(sum(one_hot_matrix[j]*prob_row))\n",
      "C:\\Users\\shfar\\Desktop\\SU\\Thesis\\thesis\\classification_modules.py:239: RuntimeWarning: divide by zero encountered in log\n",
      "  loss = loss - np.log(sum(one_hot_matrix[j]*prob_row))\n",
      "C:\\Users\\shfar\\Desktop\\SU\\Thesis\\thesis\\classification_modules.py:239: RuntimeWarning: divide by zero encountered in log\n",
      "  loss = loss - np.log(sum(one_hot_matrix[j]*prob_row))\n",
      "C:\\Users\\shfar\\Desktop\\SU\\Thesis\\thesis\\classification_modules.py:239: RuntimeWarning: divide by zero encountered in log\n",
      "  loss = loss - np.log(sum(one_hot_matrix[j]*prob_row))\n",
      "C:\\Users\\shfar\\Desktop\\SU\\Thesis\\thesis\\classification_modules.py:239: RuntimeWarning: divide by zero encountered in log\n",
      "  loss = loss - np.log(sum(one_hot_matrix[j]*prob_row))\n",
      "C:\\Users\\shfar\\Desktop\\SU\\Thesis\\thesis\\classification_modules.py:239: RuntimeWarning: divide by zero encountered in log\n",
      "  loss = loss - np.log(sum(one_hot_matrix[j]*prob_row))\n",
      "C:\\Users\\shfar\\Desktop\\SU\\Thesis\\thesis\\classification_modules.py:239: RuntimeWarning: divide by zero encountered in log\n",
      "  loss = loss - np.log(sum(one_hot_matrix[j]*prob_row))\n",
      "C:\\Users\\shfar\\Desktop\\SU\\Thesis\\thesis\\classification_modules.py:239: RuntimeWarning: divide by zero encountered in log\n",
      "  loss = loss - np.log(sum(one_hot_matrix[j]*prob_row))\n",
      "C:\\Users\\shfar\\Desktop\\SU\\Thesis\\thesis\\classification_modules.py:239: RuntimeWarning: divide by zero encountered in log\n",
      "  loss = loss - np.log(sum(one_hot_matrix[j]*prob_row))\n",
      "C:\\Users\\shfar\\Desktop\\SU\\Thesis\\thesis\\classification_modules.py:239: RuntimeWarning: divide by zero encountered in log\n",
      "  loss = loss - np.log(sum(one_hot_matrix[j]*prob_row))\n",
      "C:\\Users\\shfar\\Desktop\\SU\\Thesis\\thesis\\classification_modules.py:239: RuntimeWarning: divide by zero encountered in log\n",
      "  loss = loss - np.log(sum(one_hot_matrix[j]*prob_row))\n",
      "C:\\Users\\shfar\\Desktop\\SU\\Thesis\\thesis\\classification_modules.py:239: RuntimeWarning: divide by zero encountered in log\n",
      "  loss = loss - np.log(sum(one_hot_matrix[j]*prob_row))\n",
      "C:\\Users\\shfar\\Desktop\\SU\\Thesis\\thesis\\classification_modules.py:239: RuntimeWarning: divide by zero encountered in log\n",
      "  loss = loss - np.log(sum(one_hot_matrix[j]*prob_row))\n",
      "C:\\Users\\shfar\\Desktop\\SU\\Thesis\\thesis\\classification_modules.py:239: RuntimeWarning: divide by zero encountered in log\n",
      "  loss = loss - np.log(sum(one_hot_matrix[j]*prob_row))\n",
      "C:\\Users\\shfar\\Desktop\\SU\\Thesis\\thesis\\classification_modules.py:239: RuntimeWarning: divide by zero encountered in log\n",
      "  loss = loss - np.log(sum(one_hot_matrix[j]*prob_row))\n",
      "C:\\Users\\shfar\\Desktop\\SU\\Thesis\\thesis\\classification_modules.py:239: RuntimeWarning: divide by zero encountered in log\n",
      "  loss = loss - np.log(sum(one_hot_matrix[j]*prob_row))\n",
      "C:\\Users\\shfar\\Desktop\\SU\\Thesis\\thesis\\classification_modules.py:239: RuntimeWarning: divide by zero encountered in log\n",
      "  loss = loss - np.log(sum(one_hot_matrix[j]*prob_row))\n",
      "C:\\Users\\shfar\\Desktop\\SU\\Thesis\\thesis\\classification_modules.py:239: RuntimeWarning: divide by zero encountered in log\n",
      "  loss = loss - np.log(sum(one_hot_matrix[j]*prob_row))\n",
      "C:\\Users\\shfar\\Desktop\\SU\\Thesis\\thesis\\classification_modules.py:239: RuntimeWarning: divide by zero encountered in log\n",
      "  loss = loss - np.log(sum(one_hot_matrix[j]*prob_row))\n",
      "C:\\Users\\shfar\\Desktop\\SU\\Thesis\\thesis\\classification_modules.py:239: RuntimeWarning: divide by zero encountered in log\n",
      "  loss = loss - np.log(sum(one_hot_matrix[j]*prob_row))\n",
      "C:\\Users\\shfar\\Desktop\\SU\\Thesis\\thesis\\classification_modules.py:239: RuntimeWarning: divide by zero encountered in log\n",
      "  loss = loss - np.log(sum(one_hot_matrix[j]*prob_row))\n",
      "C:\\Users\\shfar\\Desktop\\SU\\Thesis\\thesis\\classification_modules.py:239: RuntimeWarning: divide by zero encountered in log\n",
      "  loss = loss - np.log(sum(one_hot_matrix[j]*prob_row))\n",
      "C:\\Users\\shfar\\Desktop\\SU\\Thesis\\thesis\\classification_modules.py:239: RuntimeWarning: divide by zero encountered in log\n",
      "  loss = loss - np.log(sum(one_hot_matrix[j]*prob_row))\n",
      "C:\\Users\\shfar\\Desktop\\SU\\Thesis\\thesis\\classification_modules.py:239: RuntimeWarning: divide by zero encountered in log\n",
      "  loss = loss - np.log(sum(one_hot_matrix[j]*prob_row))\n",
      "C:\\Users\\shfar\\Desktop\\SU\\Thesis\\thesis\\classification_modules.py:239: RuntimeWarning: divide by zero encountered in log\n",
      "  loss = loss - np.log(sum(one_hot_matrix[j]*prob_row))\n",
      "C:\\Users\\shfar\\Desktop\\SU\\Thesis\\thesis\\classification_modules.py:239: RuntimeWarning: divide by zero encountered in log\n",
      "  loss = loss - np.log(sum(one_hot_matrix[j]*prob_row))\n",
      "C:\\Users\\shfar\\Desktop\\SU\\Thesis\\thesis\\classification_modules.py:239: RuntimeWarning: divide by zero encountered in log\n",
      "  loss = loss - np.log(sum(one_hot_matrix[j]*prob_row))\n",
      "C:\\Users\\shfar\\Desktop\\SU\\Thesis\\thesis\\classification_modules.py:239: RuntimeWarning: divide by zero encountered in log\n",
      "  loss = loss - np.log(sum(one_hot_matrix[j]*prob_row))\n",
      "C:\\Users\\shfar\\Desktop\\SU\\Thesis\\thesis\\classification_modules.py:239: RuntimeWarning: divide by zero encountered in log\n",
      "  loss = loss - np.log(sum(one_hot_matrix[j]*prob_row))\n",
      "C:\\Users\\shfar\\Desktop\\SU\\Thesis\\thesis\\classification_modules.py:239: RuntimeWarning: divide by zero encountered in log\n",
      "  loss = loss - np.log(sum(one_hot_matrix[j]*prob_row))\n",
      "C:\\Users\\shfar\\Desktop\\SU\\Thesis\\thesis\\classification_modules.py:239: RuntimeWarning: divide by zero encountered in log\n",
      "  loss = loss - np.log(sum(one_hot_matrix[j]*prob_row))\n",
      "C:\\Users\\shfar\\Desktop\\SU\\Thesis\\thesis\\classification_modules.py:239: RuntimeWarning: divide by zero encountered in log\n",
      "  loss = loss - np.log(sum(one_hot_matrix[j]*prob_row))\n",
      "C:\\Users\\shfar\\Desktop\\SU\\Thesis\\thesis\\classification_modules.py:239: RuntimeWarning: divide by zero encountered in log\n",
      "  loss = loss - np.log(sum(one_hot_matrix[j]*prob_row))\n"
     ]
    },
    {
     "name": "stderr",
     "output_type": "stream",
     "text": [
      "C:\\Users\\shfar\\Desktop\\SU\\Thesis\\thesis\\classification_modules.py:239: RuntimeWarning: divide by zero encountered in log\n",
      "  loss = loss - np.log(sum(one_hot_matrix[j]*prob_row))\n",
      "C:\\Users\\shfar\\Desktop\\SU\\Thesis\\thesis\\classification_modules.py:239: RuntimeWarning: divide by zero encountered in log\n",
      "  loss = loss - np.log(sum(one_hot_matrix[j]*prob_row))\n",
      "C:\\Users\\shfar\\Desktop\\SU\\Thesis\\thesis\\classification_modules.py:239: RuntimeWarning: divide by zero encountered in log\n",
      "  loss = loss - np.log(sum(one_hot_matrix[j]*prob_row))\n",
      "C:\\Users\\shfar\\Desktop\\SU\\Thesis\\thesis\\classification_modules.py:239: RuntimeWarning: divide by zero encountered in log\n",
      "  loss = loss - np.log(sum(one_hot_matrix[j]*prob_row))\n",
      "C:\\Users\\shfar\\Desktop\\SU\\Thesis\\thesis\\classification_modules.py:239: RuntimeWarning: divide by zero encountered in log\n",
      "  loss = loss - np.log(sum(one_hot_matrix[j]*prob_row))\n",
      "C:\\Users\\shfar\\Desktop\\SU\\Thesis\\thesis\\classification_modules.py:239: RuntimeWarning: divide by zero encountered in log\n",
      "  loss = loss - np.log(sum(one_hot_matrix[j]*prob_row))\n",
      "C:\\Users\\shfar\\Desktop\\SU\\Thesis\\thesis\\classification_modules.py:239: RuntimeWarning: divide by zero encountered in log\n",
      "  loss = loss - np.log(sum(one_hot_matrix[j]*prob_row))\n",
      "C:\\Users\\shfar\\Desktop\\SU\\Thesis\\thesis\\classification_modules.py:239: RuntimeWarning: divide by zero encountered in log\n",
      "  loss = loss - np.log(sum(one_hot_matrix[j]*prob_row))\n",
      "C:\\Users\\shfar\\Desktop\\SU\\Thesis\\thesis\\classification_modules.py:239: RuntimeWarning: divide by zero encountered in log\n",
      "  loss = loss - np.log(sum(one_hot_matrix[j]*prob_row))\n",
      "C:\\Users\\shfar\\Desktop\\SU\\Thesis\\thesis\\classification_modules.py:239: RuntimeWarning: divide by zero encountered in log\n",
      "  loss = loss - np.log(sum(one_hot_matrix[j]*prob_row))\n",
      "C:\\Users\\shfar\\Desktop\\SU\\Thesis\\thesis\\classification_modules.py:239: RuntimeWarning: divide by zero encountered in log\n",
      "  loss = loss - np.log(sum(one_hot_matrix[j]*prob_row))\n",
      "C:\\Users\\shfar\\Desktop\\SU\\Thesis\\thesis\\classification_modules.py:239: RuntimeWarning: divide by zero encountered in log\n",
      "  loss = loss - np.log(sum(one_hot_matrix[j]*prob_row))\n",
      "C:\\Users\\shfar\\Desktop\\SU\\Thesis\\thesis\\classification_modules.py:239: RuntimeWarning: divide by zero encountered in log\n",
      "  loss = loss - np.log(sum(one_hot_matrix[j]*prob_row))\n",
      "C:\\Users\\shfar\\Desktop\\SU\\Thesis\\thesis\\classification_modules.py:239: RuntimeWarning: divide by zero encountered in log\n",
      "  loss = loss - np.log(sum(one_hot_matrix[j]*prob_row))\n",
      "C:\\Users\\shfar\\Desktop\\SU\\Thesis\\thesis\\classification_modules.py:239: RuntimeWarning: divide by zero encountered in log\n",
      "  loss = loss - np.log(sum(one_hot_matrix[j]*prob_row))\n",
      "C:\\Users\\shfar\\Desktop\\SU\\Thesis\\thesis\\classification_modules.py:239: RuntimeWarning: divide by zero encountered in log\n",
      "  loss = loss - np.log(sum(one_hot_matrix[j]*prob_row))\n",
      "C:\\Users\\shfar\\Desktop\\SU\\Thesis\\thesis\\classification_modules.py:239: RuntimeWarning: divide by zero encountered in log\n",
      "  loss = loss - np.log(sum(one_hot_matrix[j]*prob_row))\n",
      "C:\\Users\\shfar\\Desktop\\SU\\Thesis\\thesis\\classification_modules.py:239: RuntimeWarning: divide by zero encountered in log\n",
      "  loss = loss - np.log(sum(one_hot_matrix[j]*prob_row))\n",
      "C:\\Users\\shfar\\Desktop\\SU\\Thesis\\thesis\\classification_modules.py:239: RuntimeWarning: divide by zero encountered in log\n",
      "  loss = loss - np.log(sum(one_hot_matrix[j]*prob_row))\n",
      "C:\\Users\\shfar\\Desktop\\SU\\Thesis\\thesis\\classification_modules.py:239: RuntimeWarning: divide by zero encountered in log\n",
      "  loss = loss - np.log(sum(one_hot_matrix[j]*prob_row))\n",
      "C:\\Users\\shfar\\Desktop\\SU\\Thesis\\thesis\\classification_modules.py:239: RuntimeWarning: divide by zero encountered in log\n",
      "  loss = loss - np.log(sum(one_hot_matrix[j]*prob_row))\n",
      "C:\\Users\\shfar\\Desktop\\SU\\Thesis\\thesis\\classification_modules.py:239: RuntimeWarning: divide by zero encountered in log\n",
      "  loss = loss - np.log(sum(one_hot_matrix[j]*prob_row))\n",
      "C:\\Users\\shfar\\Desktop\\SU\\Thesis\\thesis\\classification_modules.py:239: RuntimeWarning: divide by zero encountered in log\n",
      "  loss = loss - np.log(sum(one_hot_matrix[j]*prob_row))\n",
      "C:\\Users\\shfar\\Desktop\\SU\\Thesis\\thesis\\classification_modules.py:239: RuntimeWarning: divide by zero encountered in log\n",
      "  loss = loss - np.log(sum(one_hot_matrix[j]*prob_row))\n",
      "C:\\Users\\shfar\\Desktop\\SU\\Thesis\\thesis\\classification_modules.py:239: RuntimeWarning: divide by zero encountered in log\n",
      "  loss = loss - np.log(sum(one_hot_matrix[j]*prob_row))\n",
      "C:\\Users\\shfar\\Desktop\\SU\\Thesis\\thesis\\classification_modules.py:239: RuntimeWarning: divide by zero encountered in log\n",
      "  loss = loss - np.log(sum(one_hot_matrix[j]*prob_row))\n",
      "C:\\Users\\shfar\\Desktop\\SU\\Thesis\\thesis\\classification_modules.py:239: RuntimeWarning: divide by zero encountered in log\n",
      "  loss = loss - np.log(sum(one_hot_matrix[j]*prob_row))\n",
      "C:\\Users\\shfar\\Desktop\\SU\\Thesis\\thesis\\classification_modules.py:239: RuntimeWarning: divide by zero encountered in log\n",
      "  loss = loss - np.log(sum(one_hot_matrix[j]*prob_row))\n",
      "C:\\Users\\shfar\\Desktop\\SU\\Thesis\\thesis\\classification_modules.py:239: RuntimeWarning: divide by zero encountered in log\n",
      "  loss = loss - np.log(sum(one_hot_matrix[j]*prob_row))\n",
      "C:\\Users\\shfar\\Desktop\\SU\\Thesis\\thesis\\classification_modules.py:239: RuntimeWarning: divide by zero encountered in log\n",
      "  loss = loss - np.log(sum(one_hot_matrix[j]*prob_row))\n",
      "C:\\Users\\shfar\\Desktop\\SU\\Thesis\\thesis\\classification_modules.py:239: RuntimeWarning: divide by zero encountered in log\n",
      "  loss = loss - np.log(sum(one_hot_matrix[j]*prob_row))\n",
      "C:\\Users\\shfar\\Desktop\\SU\\Thesis\\thesis\\classification_modules.py:239: RuntimeWarning: divide by zero encountered in log\n",
      "  loss = loss - np.log(sum(one_hot_matrix[j]*prob_row))\n",
      "C:\\Users\\shfar\\Desktop\\SU\\Thesis\\thesis\\classification_modules.py:239: RuntimeWarning: divide by zero encountered in log\n",
      "  loss = loss - np.log(sum(one_hot_matrix[j]*prob_row))\n",
      "C:\\Users\\shfar\\Desktop\\SU\\Thesis\\thesis\\classification_modules.py:239: RuntimeWarning: divide by zero encountered in log\n",
      "  loss = loss - np.log(sum(one_hot_matrix[j]*prob_row))\n",
      "C:\\Users\\shfar\\Desktop\\SU\\Thesis\\thesis\\classification_modules.py:239: RuntimeWarning: divide by zero encountered in log\n",
      "  loss = loss - np.log(sum(one_hot_matrix[j]*prob_row))\n",
      "C:\\Users\\shfar\\Desktop\\SU\\Thesis\\thesis\\classification_modules.py:239: RuntimeWarning: divide by zero encountered in log\n",
      "  loss = loss - np.log(sum(one_hot_matrix[j]*prob_row))\n",
      "C:\\Users\\shfar\\Desktop\\SU\\Thesis\\thesis\\classification_modules.py:239: RuntimeWarning: divide by zero encountered in log\n",
      "  loss = loss - np.log(sum(one_hot_matrix[j]*prob_row))\n",
      "C:\\Users\\shfar\\Desktop\\SU\\Thesis\\thesis\\classification_modules.py:239: RuntimeWarning: divide by zero encountered in log\n",
      "  loss = loss - np.log(sum(one_hot_matrix[j]*prob_row))\n",
      "C:\\Users\\shfar\\Desktop\\SU\\Thesis\\thesis\\classification_modules.py:239: RuntimeWarning: divide by zero encountered in log\n",
      "  loss = loss - np.log(sum(one_hot_matrix[j]*prob_row))\n",
      "C:\\Users\\shfar\\Desktop\\SU\\Thesis\\thesis\\classification_modules.py:239: RuntimeWarning: divide by zero encountered in log\n",
      "  loss = loss - np.log(sum(one_hot_matrix[j]*prob_row))\n",
      "C:\\Users\\shfar\\Desktop\\SU\\Thesis\\thesis\\classification_modules.py:239: RuntimeWarning: divide by zero encountered in log\n",
      "  loss = loss - np.log(sum(one_hot_matrix[j]*prob_row))\n",
      "C:\\Users\\shfar\\Desktop\\SU\\Thesis\\thesis\\classification_modules.py:239: RuntimeWarning: divide by zero encountered in log\n",
      "  loss = loss - np.log(sum(one_hot_matrix[j]*prob_row))\n",
      "C:\\Users\\shfar\\Desktop\\SU\\Thesis\\thesis\\classification_modules.py:239: RuntimeWarning: divide by zero encountered in log\n",
      "  loss = loss - np.log(sum(one_hot_matrix[j]*prob_row))\n",
      "C:\\Users\\shfar\\Desktop\\SU\\Thesis\\thesis\\classification_modules.py:239: RuntimeWarning: divide by zero encountered in log\n",
      "  loss = loss - np.log(sum(one_hot_matrix[j]*prob_row))\n",
      "C:\\Users\\shfar\\Desktop\\SU\\Thesis\\thesis\\classification_modules.py:239: RuntimeWarning: divide by zero encountered in log\n",
      "  loss = loss - np.log(sum(one_hot_matrix[j]*prob_row))\n",
      "C:\\Users\\shfar\\Desktop\\SU\\Thesis\\thesis\\classification_modules.py:239: RuntimeWarning: divide by zero encountered in log\n",
      "  loss = loss - np.log(sum(one_hot_matrix[j]*prob_row))\n"
     ]
    },
    {
     "ename": "IndexError",
     "evalue": "list index out of range",
     "output_type": "error",
     "traceback": [
      "\u001b[1;31m---------------------------------------------------------------------------\u001b[0m",
      "\u001b[1;31mIndexError\u001b[0m                                Traceback (most recent call last)",
      "\u001b[1;32m<ipython-input-32-0ce061d6ba32>\u001b[0m in \u001b[0;36m<module>\u001b[1;34m\u001b[0m\n\u001b[1;32m----> 1\u001b[1;33m \u001b[0mres_ht_lr\u001b[0m \u001b[1;33m=\u001b[0m \u001b[0mcm\u001b[0m\u001b[1;33m.\u001b[0m\u001b[0mcv_samplesize_moments_lr\u001b[0m\u001b[1;33m(\u001b[0m\u001b[0msample_size_list\u001b[0m\u001b[1;33m,\u001b[0m \u001b[0mnr_moments_list\u001b[0m\u001b[1;33m,\u001b[0m \u001b[0mheavytail_dists\u001b[0m\u001b[1;33m,\u001b[0m \u001b[0mnr_sample_sets\u001b[0m\u001b[1;33m,\u001b[0m \u001b[0mn_folds\u001b[0m\u001b[1;33m,\u001b[0m \u001b[0mtest_size\u001b[0m\u001b[1;33m,\u001b[0m \u001b[0mC\u001b[0m\u001b[1;33m,\u001b[0m \u001b[0mtransform\u001b[0m\u001b[1;33m=\u001b[0m\u001b[1;32mTrue\u001b[0m\u001b[1;33m)\u001b[0m\u001b[1;33m\u001b[0m\u001b[1;33m\u001b[0m\u001b[0m\n\u001b[0m",
      "\u001b[1;32m~\\Desktop\\SU\\Thesis\\thesis\\classification_modules.py\u001b[0m in \u001b[0;36mcv_samplesize_moments_lr\u001b[1;34m(sample_size_list, nr_moments_list, dists, nr_sample_sets, n_folds, test_size, C_vector, transform, flex, standardize)\u001b[0m\n\u001b[0;32m    354\u001b[0m             \u001b[1;32mfor\u001b[0m \u001b[0mj\u001b[0m \u001b[1;32min\u001b[0m \u001b[0mnr_moments_list\u001b[0m\u001b[1;33m:\u001b[0m\u001b[1;33m\u001b[0m\u001b[1;33m\u001b[0m\u001b[0m\n\u001b[0;32m    355\u001b[0m                 \u001b[0mmoments_df\u001b[0m \u001b[1;33m=\u001b[0m \u001b[0mdem\u001b[0m\u001b[1;33m.\u001b[0m\u001b[0mget_moments\u001b[0m\u001b[1;33m(\u001b[0m\u001b[0msamples\u001b[0m\u001b[1;33m,\u001b[0m \u001b[0mj\u001b[0m\u001b[1;33m)\u001b[0m\u001b[1;33m\u001b[0m\u001b[1;33m\u001b[0m\u001b[0m\n\u001b[1;32m--> 356\u001b[1;33m                 \u001b[0mscore\u001b[0m \u001b[1;33m=\u001b[0m \u001b[0mlr_model_m\u001b[0m\u001b[1;33m(\u001b[0m\u001b[0mmoments_df\u001b[0m\u001b[1;33m,\u001b[0m \u001b[0mn_folds\u001b[0m\u001b[1;33m,\u001b[0m \u001b[0mC_vector\u001b[0m\u001b[1;33m)\u001b[0m\u001b[1;33m\u001b[0m\u001b[1;33m\u001b[0m\u001b[0m\n\u001b[0m\u001b[0;32m    357\u001b[0m                 \u001b[0mresult_\u001b[0m \u001b[1;33m=\u001b[0m \u001b[0mdict\u001b[0m\u001b[1;33m(\u001b[0m\u001b[0mzip\u001b[0m\u001b[1;33m(\u001b[0m\u001b[1;33m[\u001b[0m\u001b[1;34m'score'\u001b[0m\u001b[1;33m,\u001b[0m\u001b[1;34m'nr_moments'\u001b[0m\u001b[1;33m,\u001b[0m\u001b[1;34m'sample_size'\u001b[0m\u001b[1;33m]\u001b[0m\u001b[1;33m,\u001b[0m\u001b[1;33m[\u001b[0m\u001b[0mscore\u001b[0m\u001b[1;33m,\u001b[0m \u001b[0mj\u001b[0m\u001b[1;33m,\u001b[0m \u001b[0mi\u001b[0m\u001b[1;33m]\u001b[0m\u001b[1;33m)\u001b[0m\u001b[1;33m)\u001b[0m\u001b[1;33m\u001b[0m\u001b[1;33m\u001b[0m\u001b[0m\n\u001b[0;32m    358\u001b[0m                 \u001b[0mresult_df\u001b[0m \u001b[1;33m=\u001b[0m \u001b[0mpd\u001b[0m\u001b[1;33m.\u001b[0m\u001b[0mDataFrame\u001b[0m\u001b[1;33m(\u001b[0m\u001b[0mresult_\u001b[0m\u001b[1;33m)\u001b[0m\u001b[1;33m\u001b[0m\u001b[1;33m\u001b[0m\u001b[0m\n",
      "\u001b[1;32m~\\Desktop\\SU\\Thesis\\thesis\\classification_modules.py\u001b[0m in \u001b[0;36mlr_model_m\u001b[1;34m(data, n_folds, c_vector)\u001b[0m\n\u001b[0;32m    267\u001b[0m         \u001b[0my_test\u001b[0m \u001b[1;33m=\u001b[0m \u001b[0my\u001b[0m\u001b[1;33m.\u001b[0m\u001b[0miloc\u001b[0m\u001b[1;33m[\u001b[0m\u001b[0mtest_index_list\u001b[0m\u001b[1;33m[\u001b[0m\u001b[0mi\u001b[0m\u001b[1;33m]\u001b[0m\u001b[1;33m]\u001b[0m\u001b[1;33m\u001b[0m\u001b[1;33m\u001b[0m\u001b[0m\n\u001b[0;32m    268\u001b[0m         \u001b[0my_test\u001b[0m \u001b[1;33m=\u001b[0m \u001b[0my_test\u001b[0m\u001b[1;33m.\u001b[0m\u001b[0mreset_index\u001b[0m\u001b[1;33m(\u001b[0m\u001b[0mdrop\u001b[0m\u001b[1;33m=\u001b[0m\u001b[1;32mTrue\u001b[0m\u001b[1;33m)\u001b[0m\u001b[1;33m\u001b[0m\u001b[1;33m\u001b[0m\u001b[0m\n\u001b[1;32m--> 269\u001b[1;33m         \u001b[0mlambda_\u001b[0m\u001b[1;33m,\u001b[0m \u001b[0mresult_df\u001b[0m \u001b[1;33m=\u001b[0m \u001b[0mgrid_search_lr\u001b[0m\u001b[1;33m(\u001b[0m\u001b[0mtrain\u001b[0m\u001b[1;33m,\u001b[0m \u001b[0mn_folds\u001b[0m\u001b[1;33m,\u001b[0m \u001b[0mc_vector\u001b[0m\u001b[1;33m)\u001b[0m\u001b[1;33m\u001b[0m\u001b[1;33m\u001b[0m\u001b[0m\n\u001b[0m\u001b[0;32m    270\u001b[0m \u001b[1;33m\u001b[0m\u001b[0m\n\u001b[0;32m    271\u001b[0m         \u001b[0mscaler_train\u001b[0m \u001b[1;33m=\u001b[0m \u001b[0mStandardScaler\u001b[0m\u001b[1;33m(\u001b[0m\u001b[1;33m)\u001b[0m\u001b[1;33m\u001b[0m\u001b[1;33m\u001b[0m\u001b[0m\n",
      "\u001b[1;32m~\\Desktop\\SU\\Thesis\\thesis\\classification_modules.py\u001b[0m in \u001b[0;36mgrid_search_lr\u001b[1;34m(data, n_folds, C)\u001b[0m\n\u001b[0;32m    251\u001b[0m     \u001b[0mmodels\u001b[0m \u001b[1;33m=\u001b[0m \u001b[0mres_agg\u001b[0m\u001b[1;33m.\u001b[0m\u001b[0mloc\u001b[0m\u001b[1;33m[\u001b[0m\u001b[0mres_agg\u001b[0m\u001b[1;33m[\u001b[0m\u001b[1;34m'mean'\u001b[0m\u001b[1;33m]\u001b[0m\u001b[1;33m<=\u001b[0m\u001b[0mthreshold\u001b[0m\u001b[1;33m]\u001b[0m\u001b[1;33m\u001b[0m\u001b[1;33m\u001b[0m\u001b[0m\n\u001b[0;32m    252\u001b[0m     \u001b[0mmodels_lambda\u001b[0m \u001b[1;33m=\u001b[0m\u001b[0mlist\u001b[0m\u001b[1;33m(\u001b[0m\u001b[0mmodels\u001b[0m\u001b[1;33m[\u001b[0m\u001b[1;34m'lambda'\u001b[0m\u001b[1;33m]\u001b[0m\u001b[1;33m)\u001b[0m\u001b[1;33m\u001b[0m\u001b[1;33m\u001b[0m\u001b[0m\n\u001b[1;32m--> 253\u001b[1;33m     \u001b[1;32mreturn\u001b[0m \u001b[0mmodels_lambda\u001b[0m\u001b[1;33m[\u001b[0m\u001b[1;36m0\u001b[0m\u001b[1;33m]\u001b[0m\u001b[1;33m,\u001b[0m \u001b[0mresult_df\u001b[0m\u001b[1;33m\u001b[0m\u001b[1;33m\u001b[0m\u001b[0m\n\u001b[0m\u001b[0;32m    254\u001b[0m \u001b[1;33m\u001b[0m\u001b[0m\n\u001b[0;32m    255\u001b[0m \u001b[1;33m\u001b[0m\u001b[0m\n",
      "\u001b[1;31mIndexError\u001b[0m: list index out of range"
     ]
    }
   ],
   "source": [
    "res_ht_lr = cm.cv_samplesize_moments_lr(sample_size_list, nr_moments_list, heavytail_dists, nr_sample_sets, n_folds, test_size, C, transform=True)"
   ]
  },
  {
   "cell_type": "code",
   "execution_count": null,
   "id": "964182f0",
   "metadata": {},
   "outputs": [],
   "source": [
    "cm.plot_cv_moments_v2(res_ht_lr)"
   ]
  },
  {
   "cell_type": "code",
   "execution_count": 54,
   "id": "c0751cb4",
   "metadata": {},
   "outputs": [
    {
     "data": {
      "text/html": [
       "<div>\n",
       "<style scoped>\n",
       "    .dataframe tbody tr th:only-of-type {\n",
       "        vertical-align: middle;\n",
       "    }\n",
       "\n",
       "    .dataframe tbody tr th {\n",
       "        vertical-align: top;\n",
       "    }\n",
       "\n",
       "    .dataframe thead th {\n",
       "        text-align: right;\n",
       "    }\n",
       "</style>\n",
       "<table border=\"1\" class=\"dataframe\">\n",
       "  <thead>\n",
       "    <tr style=\"text-align: right;\">\n",
       "      <th></th>\n",
       "      <th>nr_moments</th>\n",
       "      <th>sample_size</th>\n",
       "      <th>mean</th>\n",
       "      <th>std</th>\n",
       "      <th>se</th>\n",
       "      <th>nr_features</th>\n",
       "    </tr>\n",
       "  </thead>\n",
       "  <tbody>\n",
       "    <tr>\n",
       "      <th>0</th>\n",
       "      <td>1</td>\n",
       "      <td>5</td>\n",
       "      <td>0.291667</td>\n",
       "      <td>0.041667</td>\n",
       "      <td>0.018634</td>\n",
       "      <td>2</td>\n",
       "    </tr>\n",
       "    <tr>\n",
       "      <th>1</th>\n",
       "      <td>1</td>\n",
       "      <td>10</td>\n",
       "      <td>0.408333</td>\n",
       "      <td>0.061802</td>\n",
       "      <td>0.027639</td>\n",
       "      <td>2</td>\n",
       "    </tr>\n",
       "    <tr>\n",
       "      <th>2</th>\n",
       "      <td>1</td>\n",
       "      <td>50</td>\n",
       "      <td>0.541667</td>\n",
       "      <td>0.051031</td>\n",
       "      <td>0.022822</td>\n",
       "      <td>2</td>\n",
       "    </tr>\n",
       "    <tr>\n",
       "      <th>3</th>\n",
       "      <td>1</td>\n",
       "      <td>100</td>\n",
       "      <td>0.591667</td>\n",
       "      <td>0.099478</td>\n",
       "      <td>0.044488</td>\n",
       "      <td>2</td>\n",
       "    </tr>\n",
       "    <tr>\n",
       "      <th>4</th>\n",
       "      <td>1</td>\n",
       "      <td>500</td>\n",
       "      <td>0.833333</td>\n",
       "      <td>0.051031</td>\n",
       "      <td>0.022822</td>\n",
       "      <td>2</td>\n",
       "    </tr>\n",
       "    <tr>\n",
       "      <th>5</th>\n",
       "      <td>1</td>\n",
       "      <td>1000</td>\n",
       "      <td>0.925000</td>\n",
       "      <td>0.068465</td>\n",
       "      <td>0.030619</td>\n",
       "      <td>2</td>\n",
       "    </tr>\n",
       "    <tr>\n",
       "      <th>6</th>\n",
       "      <td>2</td>\n",
       "      <td>5</td>\n",
       "      <td>0.600000</td>\n",
       "      <td>0.037268</td>\n",
       "      <td>0.016667</td>\n",
       "      <td>3</td>\n",
       "    </tr>\n",
       "    <tr>\n",
       "      <th>7</th>\n",
       "      <td>2</td>\n",
       "      <td>10</td>\n",
       "      <td>0.650000</td>\n",
       "      <td>0.047507</td>\n",
       "      <td>0.021246</td>\n",
       "      <td>3</td>\n",
       "    </tr>\n",
       "    <tr>\n",
       "      <th>8</th>\n",
       "      <td>2</td>\n",
       "      <td>50</td>\n",
       "      <td>0.808333</td>\n",
       "      <td>0.086402</td>\n",
       "      <td>0.038640</td>\n",
       "      <td>3</td>\n",
       "    </tr>\n",
       "    <tr>\n",
       "      <th>9</th>\n",
       "      <td>2</td>\n",
       "      <td>100</td>\n",
       "      <td>0.841667</td>\n",
       "      <td>0.074536</td>\n",
       "      <td>0.033333</td>\n",
       "      <td>3</td>\n",
       "    </tr>\n",
       "    <tr>\n",
       "      <th>10</th>\n",
       "      <td>2</td>\n",
       "      <td>500</td>\n",
       "      <td>0.958333</td>\n",
       "      <td>0.029463</td>\n",
       "      <td>0.013176</td>\n",
       "      <td>3</td>\n",
       "    </tr>\n",
       "    <tr>\n",
       "      <th>11</th>\n",
       "      <td>2</td>\n",
       "      <td>1000</td>\n",
       "      <td>1.000000</td>\n",
       "      <td>0.000000</td>\n",
       "      <td>0.000000</td>\n",
       "      <td>3</td>\n",
       "    </tr>\n",
       "    <tr>\n",
       "      <th>12</th>\n",
       "      <td>3</td>\n",
       "      <td>5</td>\n",
       "      <td>0.591667</td>\n",
       "      <td>0.045644</td>\n",
       "      <td>0.020412</td>\n",
       "      <td>4</td>\n",
       "    </tr>\n",
       "    <tr>\n",
       "      <th>13</th>\n",
       "      <td>3</td>\n",
       "      <td>10</td>\n",
       "      <td>0.658333</td>\n",
       "      <td>0.034861</td>\n",
       "      <td>0.015590</td>\n",
       "      <td>4</td>\n",
       "    </tr>\n",
       "    <tr>\n",
       "      <th>14</th>\n",
       "      <td>3</td>\n",
       "      <td>50</td>\n",
       "      <td>0.825000</td>\n",
       "      <td>0.068465</td>\n",
       "      <td>0.030619</td>\n",
       "      <td>4</td>\n",
       "    </tr>\n",
       "    <tr>\n",
       "      <th>15</th>\n",
       "      <td>3</td>\n",
       "      <td>100</td>\n",
       "      <td>0.891667</td>\n",
       "      <td>0.069722</td>\n",
       "      <td>0.031180</td>\n",
       "      <td>4</td>\n",
       "    </tr>\n",
       "    <tr>\n",
       "      <th>16</th>\n",
       "      <td>3</td>\n",
       "      <td>500</td>\n",
       "      <td>0.991667</td>\n",
       "      <td>0.018634</td>\n",
       "      <td>0.008333</td>\n",
       "      <td>4</td>\n",
       "    </tr>\n",
       "    <tr>\n",
       "      <th>17</th>\n",
       "      <td>3</td>\n",
       "      <td>1000</td>\n",
       "      <td>1.000000</td>\n",
       "      <td>0.000000</td>\n",
       "      <td>0.000000</td>\n",
       "      <td>4</td>\n",
       "    </tr>\n",
       "    <tr>\n",
       "      <th>18</th>\n",
       "      <td>4</td>\n",
       "      <td>5</td>\n",
       "      <td>0.583333</td>\n",
       "      <td>0.051031</td>\n",
       "      <td>0.022822</td>\n",
       "      <td>5</td>\n",
       "    </tr>\n",
       "    <tr>\n",
       "      <th>19</th>\n",
       "      <td>4</td>\n",
       "      <td>10</td>\n",
       "      <td>0.641667</td>\n",
       "      <td>0.037268</td>\n",
       "      <td>0.016667</td>\n",
       "      <td>5</td>\n",
       "    </tr>\n",
       "    <tr>\n",
       "      <th>20</th>\n",
       "      <td>4</td>\n",
       "      <td>50</td>\n",
       "      <td>0.800000</td>\n",
       "      <td>0.122899</td>\n",
       "      <td>0.054962</td>\n",
       "      <td>5</td>\n",
       "    </tr>\n",
       "    <tr>\n",
       "      <th>21</th>\n",
       "      <td>4</td>\n",
       "      <td>100</td>\n",
       "      <td>0.891667</td>\n",
       "      <td>0.069722</td>\n",
       "      <td>0.031180</td>\n",
       "      <td>5</td>\n",
       "    </tr>\n",
       "    <tr>\n",
       "      <th>22</th>\n",
       "      <td>4</td>\n",
       "      <td>500</td>\n",
       "      <td>0.991667</td>\n",
       "      <td>0.018634</td>\n",
       "      <td>0.008333</td>\n",
       "      <td>5</td>\n",
       "    </tr>\n",
       "    <tr>\n",
       "      <th>23</th>\n",
       "      <td>4</td>\n",
       "      <td>1000</td>\n",
       "      <td>1.000000</td>\n",
       "      <td>0.000000</td>\n",
       "      <td>0.000000</td>\n",
       "      <td>5</td>\n",
       "    </tr>\n",
       "  </tbody>\n",
       "</table>\n",
       "</div>"
      ],
      "text/plain": [
       "    nr_moments  sample_size      mean       std        se  nr_features\n",
       "0            1            5  0.291667  0.041667  0.018634            2\n",
       "1            1           10  0.408333  0.061802  0.027639            2\n",
       "2            1           50  0.541667  0.051031  0.022822            2\n",
       "3            1          100  0.591667  0.099478  0.044488            2\n",
       "4            1          500  0.833333  0.051031  0.022822            2\n",
       "5            1         1000  0.925000  0.068465  0.030619            2\n",
       "6            2            5  0.600000  0.037268  0.016667            3\n",
       "7            2           10  0.650000  0.047507  0.021246            3\n",
       "8            2           50  0.808333  0.086402  0.038640            3\n",
       "9            2          100  0.841667  0.074536  0.033333            3\n",
       "10           2          500  0.958333  0.029463  0.013176            3\n",
       "11           2         1000  1.000000  0.000000  0.000000            3\n",
       "12           3            5  0.591667  0.045644  0.020412            4\n",
       "13           3           10  0.658333  0.034861  0.015590            4\n",
       "14           3           50  0.825000  0.068465  0.030619            4\n",
       "15           3          100  0.891667  0.069722  0.031180            4\n",
       "16           3          500  0.991667  0.018634  0.008333            4\n",
       "17           3         1000  1.000000  0.000000  0.000000            4\n",
       "18           4            5  0.583333  0.051031  0.022822            5\n",
       "19           4           10  0.641667  0.037268  0.016667            5\n",
       "20           4           50  0.800000  0.122899  0.054962            5\n",
       "21           4          100  0.891667  0.069722  0.031180            5\n",
       "22           4          500  0.991667  0.018634  0.008333            5\n",
       "23           4         1000  1.000000  0.000000  0.000000            5"
      ]
     },
     "execution_count": 54,
     "metadata": {},
     "output_type": "execute_result"
    }
   ],
   "source": [
    "res_ht_lr"
   ]
  },
  {
   "cell_type": "markdown",
   "id": "570ef6c6",
   "metadata": {},
   "source": [
    "### Multi-modal"
   ]
  },
  {
   "cell_type": "code",
   "execution_count": 32,
   "id": "a3f8aaae",
   "metadata": {},
   "outputs": [],
   "source": [
    "nr_modes = 5\n",
    "nr_sample_sets = 20\n",
    "nr_mm_dist = 10\n",
    "sample_size=100"
   ]
  },
  {
   "cell_type": "code",
   "execution_count": 33,
   "id": "6a18f626",
   "metadata": {},
   "outputs": [
    {
     "data": {
      "text/html": [
       "<div>\n",
       "<style scoped>\n",
       "    .dataframe tbody tr th:only-of-type {\n",
       "        vertical-align: middle;\n",
       "    }\n",
       "\n",
       "    .dataframe tbody tr th {\n",
       "        vertical-align: top;\n",
       "    }\n",
       "\n",
       "    .dataframe thead th {\n",
       "        text-align: right;\n",
       "    }\n",
       "</style>\n",
       "<table border=\"1\" class=\"dataframe\">\n",
       "  <thead>\n",
       "    <tr style=\"text-align: right;\">\n",
       "      <th></th>\n",
       "      <th>m1</th>\n",
       "      <th>m2</th>\n",
       "      <th>m3</th>\n",
       "      <th>m4</th>\n",
       "      <th>m5</th>\n",
       "      <th>m6</th>\n",
       "      <th>m7</th>\n",
       "      <th>m8</th>\n",
       "      <th>m9</th>\n",
       "      <th>m10</th>\n",
       "      <th>label</th>\n",
       "    </tr>\n",
       "  </thead>\n",
       "  <tbody>\n",
       "    <tr>\n",
       "      <th>0</th>\n",
       "      <td>6.316580</td>\n",
       "      <td>5.468673</td>\n",
       "      <td>1.320971</td>\n",
       "      <td>58.677928</td>\n",
       "      <td>-2.165480</td>\n",
       "      <td>969.651244</td>\n",
       "      <td>-492.415030</td>\n",
       "      <td>20433.416940</td>\n",
       "      <td>-18624.981999</td>\n",
       "      <td>4.890857e+05</td>\n",
       "      <td>Dist 01</td>\n",
       "    </tr>\n",
       "    <tr>\n",
       "      <th>1</th>\n",
       "      <td>6.283168</td>\n",
       "      <td>5.479111</td>\n",
       "      <td>0.847752</td>\n",
       "      <td>62.133076</td>\n",
       "      <td>-2.912453</td>\n",
       "      <td>1083.288959</td>\n",
       "      <td>-351.615718</td>\n",
       "      <td>24136.477918</td>\n",
       "      <td>-12654.661280</td>\n",
       "      <td>6.098784e+05</td>\n",
       "      <td>Dist 01</td>\n",
       "    </tr>\n",
       "    <tr>\n",
       "      <th>2</th>\n",
       "      <td>6.345198</td>\n",
       "      <td>5.664053</td>\n",
       "      <td>0.195211</td>\n",
       "      <td>76.429417</td>\n",
       "      <td>-79.823619</td>\n",
       "      <td>1808.351742</td>\n",
       "      <td>-4935.204525</td>\n",
       "      <td>58154.963095</td>\n",
       "      <td>-243510.555939</td>\n",
       "      <td>2.177646e+06</td>\n",
       "      <td>Dist 01</td>\n",
       "    </tr>\n",
       "  </tbody>\n",
       "</table>\n",
       "</div>"
      ],
      "text/plain": [
       "         m1        m2        m3         m4         m5           m6  \\\n",
       "0  6.316580  5.468673  1.320971  58.677928  -2.165480   969.651244   \n",
       "1  6.283168  5.479111  0.847752  62.133076  -2.912453  1083.288959   \n",
       "2  6.345198  5.664053  0.195211  76.429417 -79.823619  1808.351742   \n",
       "\n",
       "            m7            m8             m9           m10    label  \n",
       "0  -492.415030  20433.416940  -18624.981999  4.890857e+05  Dist 01  \n",
       "1  -351.615718  24136.477918  -12654.661280  6.098784e+05  Dist 01  \n",
       "2 -4935.204525  58154.963095 -243510.555939  2.177646e+06  Dist 01  "
      ]
     },
     "execution_count": 33,
     "metadata": {},
     "output_type": "execute_result"
    }
   ],
   "source": [
    "mm_df= dm.get_multimodal_dists(nr_mm_dist, nr_sample_sets, nr_modes, sample_size)\n",
    "moments_df = dem.get_moments(mm_df, 10)\n",
    "moments_df.head(3)"
   ]
  },
  {
   "cell_type": "markdown",
   "id": "106fb3bd",
   "metadata": {},
   "source": [
    "#### SVM"
   ]
  },
  {
   "cell_type": "code",
   "execution_count": 34,
   "id": "c52d14f3",
   "metadata": {},
   "outputs": [
    {
     "data": {
      "application/vnd.jupyter.widget-view+json": {
       "model_id": "88498726f25740068e682e4cb5c6172b",
       "version_major": 2,
       "version_minor": 0
      },
      "text/plain": [
       "Completed:   0%|          | 0/6 [00:00<?, ?it/s]"
      ]
     },
     "metadata": {},
     "output_type": "display_data"
    }
   ],
   "source": [
    "res_mm_svm = cm.cv_samplesize_moments_svm_mm(sample_size_list, nr_moments_list, nr_sample_sets, nr_mm_dist, nr_modes, n_folds, test_size, cost, gamma)"
   ]
  },
  {
   "cell_type": "code",
   "execution_count": 35,
   "id": "131d6edd",
   "metadata": {},
   "outputs": [
    {
     "data": {
      "image/png": "[encoded data removed]",
      "text/plain": [
       "<Figure size 432x288 with 1 Axes>"
      ]
     },
     "metadata": {
      "needs_background": "light"
     },
     "output_type": "display_data"
    }
   ],
   "source": [
    "cm.plot_cv_moments_v2(res_mm_svm)"
   ]
  },
  {
   "cell_type": "markdown",
   "id": "ef0b9b66",
   "metadata": {},
   "source": [
    "#### Logistic Regression"
   ]
  },
  {
   "cell_type": "code",
   "execution_count": 36,
   "id": "52fae0f3",
   "metadata": {},
   "outputs": [
    {
     "data": {
      "application/vnd.jupyter.widget-view+json": {
       "model_id": "acdcee65d2924dae9858a5ff28b71ba8",
       "version_major": 2,
       "version_minor": 0
      },
      "text/plain": [
       "Completed:   0%|          | 0/6 [00:00<?, ?it/s]"
      ]
     },
     "metadata": {},
     "output_type": "display_data"
    }
   ],
   "source": [
    "res_mm_lr = cm.cv_samplesize_moments_lr_mm(sample_size_list, nr_moments_list, nr_sample_sets, nr_mm_dist, nr_modes, n_folds, test_size, C)"
   ]
  },
  {
   "cell_type": "code",
   "execution_count": 37,
   "id": "2c7f0ca2",
   "metadata": {},
   "outputs": [
    {
     "data": {
      "image/png": "[encoded data removed]",
      "text/plain": [
       "<Figure size 432x288 with 1 Axes>"
      ]
     },
     "metadata": {
      "needs_background": "light"
     },
     "output_type": "display_data"
    }
   ],
   "source": [
    "cm.plot_cv_moments_v2(res_mm_lr)"
   ]
  },
  {
   "cell_type": "code",
   "execution_count": 38,
   "id": "8fe926e5",
   "metadata": {},
   "outputs": [],
   "source": [
    "res_svm.to_csv('results/moments/res_svm_bounded.csv')\n",
    "res_flex_svm.to_csv('results/moments/res_svm_bounded_flex.csv')\n",
    "res_ht_svm.to_csv('results/moments/res_svm_heavytail.csv')\n",
    "res_mm_svm.to_csv('results/moments/res_svm_multimodal.csv')\n",
    "\n",
    "res_lr.to_csv('results/moments/res_lr_bounded.csv')\n",
    "res_flex_lr.to_csv('results/moments/res_svm_bounded_flex.csv')\n",
    "res_ht_lr.to_csv('results/moments/res_lr_heavytail.csv')\n",
    "res_mm_lr.to_csv('results/moments/res_lr_multimodal.csv')"
   ]
  },
  {
   "cell_type": "markdown",
   "id": "e5596ca5",
   "metadata": {},
   "source": [
    "# figures for report"
   ]
  },
  {
   "cell_type": "code",
   "execution_count": 6,
   "id": "9d35dd15",
   "metadata": {},
   "outputs": [],
   "source": [
    "cost = [0.01, 0.1, 0.5, 1, 3, 5, 7, 10]\n",
    "gamma = [0.01, 0.1, 1, 5, 10]"
   ]
  },
  {
   "cell_type": "code",
   "execution_count": 114,
   "id": "0bc45550",
   "metadata": {},
   "outputs": [
    {
     "data": {
      "text/html": [
       "<div>\n",
       "<style scoped>\n",
       "    .dataframe tbody tr th:only-of-type {\n",
       "        vertical-align: middle;\n",
       "    }\n",
       "\n",
       "    .dataframe tbody tr th {\n",
       "        vertical-align: top;\n",
       "    }\n",
       "\n",
       "    .dataframe thead th {\n",
       "        text-align: right;\n",
       "    }\n",
       "</style>\n",
       "<table border=\"1\" class=\"dataframe\">\n",
       "  <thead>\n",
       "    <tr style=\"text-align: right;\">\n",
       "      <th></th>\n",
       "      <th>m1</th>\n",
       "      <th>m2</th>\n",
       "      <th>m3</th>\n",
       "      <th>m4</th>\n",
       "      <th>m5</th>\n",
       "      <th>label</th>\n",
       "    </tr>\n",
       "  </thead>\n",
       "  <tbody>\n",
       "    <tr>\n",
       "      <th>0</th>\n",
       "      <td>0.320220</td>\n",
       "      <td>0.057638</td>\n",
       "      <td>0.008811</td>\n",
       "      <td>0.008488</td>\n",
       "      <td>0.003066</td>\n",
       "      <td>beta_1_2</td>\n",
       "    </tr>\n",
       "    <tr>\n",
       "      <th>1</th>\n",
       "      <td>0.320307</td>\n",
       "      <td>0.053861</td>\n",
       "      <td>0.005825</td>\n",
       "      <td>0.005708</td>\n",
       "      <td>0.001405</td>\n",
       "      <td>beta_1_2</td>\n",
       "    </tr>\n",
       "    <tr>\n",
       "      <th>2</th>\n",
       "      <td>0.310869</td>\n",
       "      <td>0.045293</td>\n",
       "      <td>0.008445</td>\n",
       "      <td>0.006562</td>\n",
       "      <td>0.002707</td>\n",
       "      <td>beta_1_2</td>\n",
       "    </tr>\n",
       "  </tbody>\n",
       "</table>\n",
       "</div>"
      ],
      "text/plain": [
       "         m1        m2        m3        m4        m5     label\n",
       "0  0.320220  0.057638  0.008811  0.008488  0.003066  beta_1_2\n",
       "1  0.320307  0.053861  0.005825  0.005708  0.001405  beta_1_2\n",
       "2  0.310869  0.045293  0.008445  0.006562  0.002707  beta_1_2"
      ]
     },
     "execution_count": 114,
     "metadata": {},
     "output_type": "execute_result"
    }
   ],
   "source": [
    "# set configuration\n",
    "sample_size, nr_sample_sets, nr_moments = 100, 20, 5\n",
    "n_folds = 5\n",
    "test_size = 0.2\n",
    "\n",
    "bounded_dists = dm.get_bounded_distribution()\n",
    "bounded_samples = dm.get_samples(bounded_dists, nr_sample_sets, sample_size)\n",
    "\n",
    "moments_df = dem.get_moments(bounded_samples, nr_moments)\n",
    "moments_df.head(3)"
   ]
  },
  {
   "cell_type": "code",
   "execution_count": 115,
   "id": "958360e6",
   "metadata": {},
   "outputs": [],
   "source": [
    "#grid search svm\n",
    "best_cost, best_gamma, result = cm.grid_search_svm(moments_df, 5, cost, gamma)"
   ]
  },
  {
   "cell_type": "code",
   "execution_count": 31,
   "id": "4cd0b0c6",
   "metadata": {},
   "outputs": [
    {
     "data": {
      "text/plain": [
       "5.0"
      ]
     },
     "execution_count": 31,
     "metadata": {},
     "output_type": "execute_result"
    }
   ],
   "source": [
    "best_cost"
   ]
  },
  {
   "cell_type": "code",
   "execution_count": 32,
   "id": "6bc34624",
   "metadata": {},
   "outputs": [
    {
     "data": {
      "text/plain": [
       "0.1"
      ]
     },
     "execution_count": 32,
     "metadata": {},
     "output_type": "execute_result"
    }
   ],
   "source": [
    "best_gamma"
   ]
  },
  {
   "cell_type": "code",
   "execution_count": 116,
   "id": "0162c125",
   "metadata": {},
   "outputs": [],
   "source": [
    "res_agg = result.groupby(['cost','gamma'], as_index=False).agg({'cv_error':['mean','std']})\n",
    "res_agg.columns = ['cost','gamma','mean','std']\n",
    "res_agg['se']=res_agg['std']/np.sqrt(5)"
   ]
  },
  {
   "cell_type": "code",
   "execution_count": 118,
   "id": "bfdce6bc",
   "metadata": {},
   "outputs": [
    {
     "data": {
      "image/png": "[encoded data removed]",
      "text/plain": [
       "<Figure size 432x288 with 1 Axes>"
      ]
     },
     "metadata": {
      "needs_background": "light"
     },
     "output_type": "display_data"
    }
   ],
   "source": [
    "plt.figure()\n",
    "for i in range(len(gamma)):\n",
    "    data = res_agg.loc[res_agg['gamma']==gamma[i]]\n",
    "    plt.errorbar(x=data['cost'], y=data['mean'], yerr=data['se'], label=gamma[i], capsize=2, alpha=0.7)\n",
    "    \n",
    "#sns.scatterplot(x=10, y=0, color='black')\n",
    "threshold_up = 0.478019 + 0.121844\n",
    "threshold_down = 0.478019 - 0.121844\n",
    "plt.axhline(y=threshold_up, ls='--', color='grey',linewidth=1)\n",
    "plt.axhline(y=threshold_down, ls='--', color='grey',linewidth=1)\n",
    "plt.scatter([10], [0.478019], color='red', zorder=10)\n",
    "plt.scatter([1], [0.575892], color='lightgreen', zorder=10)\n",
    "plt.legend(title='gamma')\n",
    "plt.xlabel('0 to ')\n",
    "plt.ylabel('CV error')\n",
    "plt.grid(color='#DDDDDD')\n",
    "plt.show()"
   ]
  },
  {
   "cell_type": "code",
   "execution_count": 45,
   "id": "60858cbb",
   "metadata": {},
   "outputs": [
    {
     "data": {
      "text/html": [
       "<div>\n",
       "<style scoped>\n",
       "    .dataframe tbody tr th:only-of-type {\n",
       "        vertical-align: middle;\n",
       "    }\n",
       "\n",
       "    .dataframe tbody tr th {\n",
       "        vertical-align: top;\n",
       "    }\n",
       "\n",
       "    .dataframe thead th {\n",
       "        text-align: right;\n",
       "    }\n",
       "</style>\n",
       "<table border=\"1\" class=\"dataframe\">\n",
       "  <thead>\n",
       "    <tr style=\"text-align: right;\">\n",
       "      <th></th>\n",
       "      <th>cost</th>\n",
       "      <th>gamma</th>\n",
       "      <th>mean</th>\n",
       "      <th>std</th>\n",
       "      <th>se</th>\n",
       "    </tr>\n",
       "  </thead>\n",
       "  <tbody>\n",
       "    <tr>\n",
       "      <th>0</th>\n",
       "      <td>0.01</td>\n",
       "      <td>0.01</td>\n",
       "      <td>1.402773</td>\n",
       "      <td>0.027425</td>\n",
       "      <td>0.012265</td>\n",
       "    </tr>\n",
       "    <tr>\n",
       "      <th>1</th>\n",
       "      <td>0.01</td>\n",
       "      <td>0.10</td>\n",
       "      <td>1.413632</td>\n",
       "      <td>0.013529</td>\n",
       "      <td>0.006050</td>\n",
       "    </tr>\n",
       "    <tr>\n",
       "      <th>2</th>\n",
       "      <td>0.01</td>\n",
       "      <td>1.00</td>\n",
       "      <td>1.408256</td>\n",
       "      <td>0.012939</td>\n",
       "      <td>0.005786</td>\n",
       "    </tr>\n",
       "    <tr>\n",
       "      <th>3</th>\n",
       "      <td>0.01</td>\n",
       "      <td>5.00</td>\n",
       "      <td>1.401430</td>\n",
       "      <td>0.007500</td>\n",
       "      <td>0.003354</td>\n",
       "    </tr>\n",
       "    <tr>\n",
       "      <th>4</th>\n",
       "      <td>0.01</td>\n",
       "      <td>10.00</td>\n",
       "      <td>1.409216</td>\n",
       "      <td>0.025616</td>\n",
       "      <td>0.011456</td>\n",
       "    </tr>\n",
       "    <tr>\n",
       "      <th>5</th>\n",
       "      <td>0.10</td>\n",
       "      <td>0.01</td>\n",
       "      <td>1.402978</td>\n",
       "      <td>0.025295</td>\n",
       "      <td>0.011312</td>\n",
       "    </tr>\n",
       "    <tr>\n",
       "      <th>6</th>\n",
       "      <td>0.10</td>\n",
       "      <td>0.10</td>\n",
       "      <td>0.970155</td>\n",
       "      <td>0.069926</td>\n",
       "      <td>0.031272</td>\n",
       "    </tr>\n",
       "    <tr>\n",
       "      <th>7</th>\n",
       "      <td>0.10</td>\n",
       "      <td>1.00</td>\n",
       "      <td>0.764633</td>\n",
       "      <td>0.068207</td>\n",
       "      <td>0.030503</td>\n",
       "    </tr>\n",
       "    <tr>\n",
       "      <th>8</th>\n",
       "      <td>0.10</td>\n",
       "      <td>5.00</td>\n",
       "      <td>1.456619</td>\n",
       "      <td>0.103876</td>\n",
       "      <td>0.046455</td>\n",
       "    </tr>\n",
       "    <tr>\n",
       "      <th>9</th>\n",
       "      <td>0.10</td>\n",
       "      <td>10.00</td>\n",
       "      <td>1.436773</td>\n",
       "      <td>0.016067</td>\n",
       "      <td>0.007186</td>\n",
       "    </tr>\n",
       "    <tr>\n",
       "      <th>10</th>\n",
       "      <td>0.50</td>\n",
       "      <td>0.01</td>\n",
       "      <td>1.065616</td>\n",
       "      <td>0.028479</td>\n",
       "      <td>0.012736</td>\n",
       "    </tr>\n",
       "    <tr>\n",
       "      <th>11</th>\n",
       "      <td>0.50</td>\n",
       "      <td>0.10</td>\n",
       "      <td>0.472505</td>\n",
       "      <td>0.142506</td>\n",
       "      <td>0.063731</td>\n",
       "    </tr>\n",
       "    <tr>\n",
       "      <th>12</th>\n",
       "      <td>0.50</td>\n",
       "      <td>1.00</td>\n",
       "      <td>0.302063</td>\n",
       "      <td>0.139156</td>\n",
       "      <td>0.062233</td>\n",
       "    </tr>\n",
       "    <tr>\n",
       "      <th>13</th>\n",
       "      <td>0.50</td>\n",
       "      <td>5.00</td>\n",
       "      <td>0.409894</td>\n",
       "      <td>0.194007</td>\n",
       "      <td>0.086762</td>\n",
       "    </tr>\n",
       "    <tr>\n",
       "      <th>14</th>\n",
       "      <td>0.50</td>\n",
       "      <td>10.00</td>\n",
       "      <td>0.772705</td>\n",
       "      <td>0.134794</td>\n",
       "      <td>0.060282</td>\n",
       "    </tr>\n",
       "    <tr>\n",
       "      <th>15</th>\n",
       "      <td>1.00</td>\n",
       "      <td>0.01</td>\n",
       "      <td>0.824885</td>\n",
       "      <td>0.072865</td>\n",
       "      <td>0.032586</td>\n",
       "    </tr>\n",
       "    <tr>\n",
       "      <th>16</th>\n",
       "      <td>1.00</td>\n",
       "      <td>0.10</td>\n",
       "      <td>0.353743</td>\n",
       "      <td>0.108299</td>\n",
       "      <td>0.048433</td>\n",
       "    </tr>\n",
       "    <tr>\n",
       "      <th>17</th>\n",
       "      <td>1.00</td>\n",
       "      <td>1.00</td>\n",
       "      <td>0.290710</td>\n",
       "      <td>0.124921</td>\n",
       "      <td>0.055866</td>\n",
       "    </tr>\n",
       "    <tr>\n",
       "      <th>18</th>\n",
       "      <td>1.00</td>\n",
       "      <td>5.00</td>\n",
       "      <td>0.358086</td>\n",
       "      <td>0.182659</td>\n",
       "      <td>0.081688</td>\n",
       "    </tr>\n",
       "    <tr>\n",
       "      <th>19</th>\n",
       "      <td>1.00</td>\n",
       "      <td>10.00</td>\n",
       "      <td>0.466402</td>\n",
       "      <td>0.219516</td>\n",
       "      <td>0.098171</td>\n",
       "    </tr>\n",
       "    <tr>\n",
       "      <th>20</th>\n",
       "      <td>3.00</td>\n",
       "      <td>0.01</td>\n",
       "      <td>0.491038</td>\n",
       "      <td>0.100533</td>\n",
       "      <td>0.044960</td>\n",
       "    </tr>\n",
       "    <tr>\n",
       "      <th>21</th>\n",
       "      <td>3.00</td>\n",
       "      <td>0.10</td>\n",
       "      <td>0.267253</td>\n",
       "      <td>0.106456</td>\n",
       "      <td>0.047609</td>\n",
       "    </tr>\n",
       "    <tr>\n",
       "      <th>22</th>\n",
       "      <td>3.00</td>\n",
       "      <td>1.00</td>\n",
       "      <td>0.295329</td>\n",
       "      <td>0.117318</td>\n",
       "      <td>0.052466</td>\n",
       "    </tr>\n",
       "    <tr>\n",
       "      <th>23</th>\n",
       "      <td>3.00</td>\n",
       "      <td>5.00</td>\n",
       "      <td>0.389457</td>\n",
       "      <td>0.205767</td>\n",
       "      <td>0.092022</td>\n",
       "    </tr>\n",
       "    <tr>\n",
       "      <th>24</th>\n",
       "      <td>3.00</td>\n",
       "      <td>10.00</td>\n",
       "      <td>0.501475</td>\n",
       "      <td>0.208534</td>\n",
       "      <td>0.093259</td>\n",
       "    </tr>\n",
       "    <tr>\n",
       "      <th>25</th>\n",
       "      <td>5.00</td>\n",
       "      <td>0.01</td>\n",
       "      <td>0.462838</td>\n",
       "      <td>0.104696</td>\n",
       "      <td>0.046822</td>\n",
       "    </tr>\n",
       "    <tr>\n",
       "      <th>26</th>\n",
       "      <td>5.00</td>\n",
       "      <td>0.10</td>\n",
       "      <td>0.250829</td>\n",
       "      <td>0.100181</td>\n",
       "      <td>0.044802</td>\n",
       "    </tr>\n",
       "    <tr>\n",
       "      <th>27</th>\n",
       "      <td>5.00</td>\n",
       "      <td>1.00</td>\n",
       "      <td>0.290007</td>\n",
       "      <td>0.135760</td>\n",
       "      <td>0.060714</td>\n",
       "    </tr>\n",
       "    <tr>\n",
       "      <th>28</th>\n",
       "      <td>5.00</td>\n",
       "      <td>5.00</td>\n",
       "      <td>0.454208</td>\n",
       "      <td>0.179998</td>\n",
       "      <td>0.080498</td>\n",
       "    </tr>\n",
       "    <tr>\n",
       "      <th>29</th>\n",
       "      <td>5.00</td>\n",
       "      <td>10.00</td>\n",
       "      <td>0.507973</td>\n",
       "      <td>0.221970</td>\n",
       "      <td>0.099268</td>\n",
       "    </tr>\n",
       "    <tr>\n",
       "      <th>30</th>\n",
       "      <td>7.00</td>\n",
       "      <td>0.01</td>\n",
       "      <td>0.399319</td>\n",
       "      <td>0.100644</td>\n",
       "      <td>0.045009</td>\n",
       "    </tr>\n",
       "    <tr>\n",
       "      <th>31</th>\n",
       "      <td>7.00</td>\n",
       "      <td>0.10</td>\n",
       "      <td>0.250450</td>\n",
       "      <td>0.099927</td>\n",
       "      <td>0.044689</td>\n",
       "    </tr>\n",
       "    <tr>\n",
       "      <th>32</th>\n",
       "      <td>7.00</td>\n",
       "      <td>1.00</td>\n",
       "      <td>0.297556</td>\n",
       "      <td>0.130272</td>\n",
       "      <td>0.058259</td>\n",
       "    </tr>\n",
       "    <tr>\n",
       "      <th>33</th>\n",
       "      <td>7.00</td>\n",
       "      <td>5.00</td>\n",
       "      <td>0.451254</td>\n",
       "      <td>0.185785</td>\n",
       "      <td>0.083086</td>\n",
       "    </tr>\n",
       "    <tr>\n",
       "      <th>34</th>\n",
       "      <td>7.00</td>\n",
       "      <td>10.00</td>\n",
       "      <td>0.542586</td>\n",
       "      <td>0.190220</td>\n",
       "      <td>0.085069</td>\n",
       "    </tr>\n",
       "    <tr>\n",
       "      <th>35</th>\n",
       "      <td>10.00</td>\n",
       "      <td>0.01</td>\n",
       "      <td>0.345728</td>\n",
       "      <td>0.090051</td>\n",
       "      <td>0.040272</td>\n",
       "    </tr>\n",
       "    <tr>\n",
       "      <th>36</th>\n",
       "      <td>10.00</td>\n",
       "      <td>0.10</td>\n",
       "      <td>0.245589</td>\n",
       "      <td>0.100594</td>\n",
       "      <td>0.044987</td>\n",
       "    </tr>\n",
       "    <tr>\n",
       "      <th>37</th>\n",
       "      <td>10.00</td>\n",
       "      <td>1.00</td>\n",
       "      <td>0.293030</td>\n",
       "      <td>0.141542</td>\n",
       "      <td>0.063299</td>\n",
       "    </tr>\n",
       "    <tr>\n",
       "      <th>38</th>\n",
       "      <td>10.00</td>\n",
       "      <td>5.00</td>\n",
       "      <td>0.474744</td>\n",
       "      <td>0.189336</td>\n",
       "      <td>0.084674</td>\n",
       "    </tr>\n",
       "    <tr>\n",
       "      <th>39</th>\n",
       "      <td>10.00</td>\n",
       "      <td>10.00</td>\n",
       "      <td>0.538144</td>\n",
       "      <td>0.183364</td>\n",
       "      <td>0.082003</td>\n",
       "    </tr>\n",
       "  </tbody>\n",
       "</table>\n",
       "</div>"
      ],
      "text/plain": [
       "     cost  gamma      mean       std        se\n",
       "0    0.01   0.01  1.402773  0.027425  0.012265\n",
       "1    0.01   0.10  1.413632  0.013529  0.006050\n",
       "2    0.01   1.00  1.408256  0.012939  0.005786\n",
       "3    0.01   5.00  1.401430  0.007500  0.003354\n",
       "4    0.01  10.00  1.409216  0.025616  0.011456\n",
       "5    0.10   0.01  1.402978  0.025295  0.011312\n",
       "6    0.10   0.10  0.970155  0.069926  0.031272\n",
       "7    0.10   1.00  0.764633  0.068207  0.030503\n",
       "8    0.10   5.00  1.456619  0.103876  0.046455\n",
       "9    0.10  10.00  1.436773  0.016067  0.007186\n",
       "10   0.50   0.01  1.065616  0.028479  0.012736\n",
       "11   0.50   0.10  0.472505  0.142506  0.063731\n",
       "12   0.50   1.00  0.302063  0.139156  0.062233\n",
       "13   0.50   5.00  0.409894  0.194007  0.086762\n",
       "14   0.50  10.00  0.772705  0.134794  0.060282\n",
       "15   1.00   0.01  0.824885  0.072865  0.032586\n",
       "16   1.00   0.10  0.353743  0.108299  0.048433\n",
       "17   1.00   1.00  0.290710  0.124921  0.055866\n",
       "18   1.00   5.00  0.358086  0.182659  0.081688\n",
       "19   1.00  10.00  0.466402  0.219516  0.098171\n",
       "20   3.00   0.01  0.491038  0.100533  0.044960\n",
       "21   3.00   0.10  0.267253  0.106456  0.047609\n",
       "22   3.00   1.00  0.295329  0.117318  0.052466\n",
       "23   3.00   5.00  0.389457  0.205767  0.092022\n",
       "24   3.00  10.00  0.501475  0.208534  0.093259\n",
       "25   5.00   0.01  0.462838  0.104696  0.046822\n",
       "26   5.00   0.10  0.250829  0.100181  0.044802\n",
       "27   5.00   1.00  0.290007  0.135760  0.060714\n",
       "28   5.00   5.00  0.454208  0.179998  0.080498\n",
       "29   5.00  10.00  0.507973  0.221970  0.099268\n",
       "30   7.00   0.01  0.399319  0.100644  0.045009\n",
       "31   7.00   0.10  0.250450  0.099927  0.044689\n",
       "32   7.00   1.00  0.297556  0.130272  0.058259\n",
       "33   7.00   5.00  0.451254  0.185785  0.083086\n",
       "34   7.00  10.00  0.542586  0.190220  0.085069\n",
       "35  10.00   0.01  0.345728  0.090051  0.040272\n",
       "36  10.00   0.10  0.245589  0.100594  0.044987\n",
       "37  10.00   1.00  0.293030  0.141542  0.063299\n",
       "38  10.00   5.00  0.474744  0.189336  0.084674\n",
       "39  10.00  10.00  0.538144  0.183364  0.082003"
      ]
     },
     "execution_count": 45,
     "metadata": {},
     "output_type": "execute_result"
    }
   ],
   "source": [
    "res_agg"
   ]
  },
  {
   "cell_type": "code",
   "execution_count": 174,
   "id": "3873f710",
   "metadata": {},
   "outputs": [],
   "source": [
    "C = [0.001, 0.01, 0.1, 0.2, 1, 2, 5, 7, 10]"
   ]
  },
  {
   "cell_type": "code",
   "execution_count": 175,
   "id": "bdad8094",
   "metadata": {},
   "outputs": [],
   "source": [
    "lambda_, result = cm.grid_search_lr(moments_df, 5, C)"
   ]
  },
  {
   "cell_type": "code",
   "execution_count": 176,
   "id": "1ac930a3",
   "metadata": {},
   "outputs": [
    {
     "data": {
      "text/plain": [
       "0.1"
      ]
     },
     "execution_count": 176,
     "metadata": {},
     "output_type": "execute_result"
    }
   ],
   "source": [
    "lambda_"
   ]
  },
  {
   "cell_type": "code",
   "execution_count": 177,
   "id": "a43022c6",
   "metadata": {},
   "outputs": [
    {
     "data": {
      "text/html": [
       "<div>\n",
       "<style scoped>\n",
       "    .dataframe tbody tr th:only-of-type {\n",
       "        vertical-align: middle;\n",
       "    }\n",
       "\n",
       "    .dataframe tbody tr th {\n",
       "        vertical-align: top;\n",
       "    }\n",
       "\n",
       "    .dataframe thead th {\n",
       "        text-align: right;\n",
       "    }\n",
       "</style>\n",
       "<table border=\"1\" class=\"dataframe\">\n",
       "  <thead>\n",
       "    <tr style=\"text-align: right;\">\n",
       "      <th></th>\n",
       "      <th>lambda</th>\n",
       "      <th>cv_error_mean</th>\n",
       "      <th>cv_error_std</th>\n",
       "      <th>acc_mean</th>\n",
       "      <th>acc_std</th>\n",
       "      <th>cv_error_se</th>\n",
       "      <th>C</th>\n",
       "    </tr>\n",
       "  </thead>\n",
       "  <tbody>\n",
       "    <tr>\n",
       "      <th>0</th>\n",
       "      <td>0.100000</td>\n",
       "      <td>0.595395</td>\n",
       "      <td>0.089608</td>\n",
       "      <td>0.825000</td>\n",
       "      <td>0.157012</td>\n",
       "      <td>0.040074</td>\n",
       "      <td>10.000</td>\n",
       "    </tr>\n",
       "    <tr>\n",
       "      <th>1</th>\n",
       "      <td>0.142857</td>\n",
       "      <td>0.614482</td>\n",
       "      <td>0.083607</td>\n",
       "      <td>0.825000</td>\n",
       "      <td>0.157012</td>\n",
       "      <td>0.037390</td>\n",
       "      <td>7.000</td>\n",
       "    </tr>\n",
       "    <tr>\n",
       "      <th>2</th>\n",
       "      <td>0.200000</td>\n",
       "      <td>0.633906</td>\n",
       "      <td>0.078484</td>\n",
       "      <td>0.825000</td>\n",
       "      <td>0.157012</td>\n",
       "      <td>0.035099</td>\n",
       "      <td>5.000</td>\n",
       "    </tr>\n",
       "    <tr>\n",
       "      <th>3</th>\n",
       "      <td>0.500000</td>\n",
       "      <td>0.693645</td>\n",
       "      <td>0.067229</td>\n",
       "      <td>0.841667</td>\n",
       "      <td>0.139443</td>\n",
       "      <td>0.030066</td>\n",
       "      <td>2.000</td>\n",
       "    </tr>\n",
       "    <tr>\n",
       "      <th>4</th>\n",
       "      <td>1.000000</td>\n",
       "      <td>0.744323</td>\n",
       "      <td>0.060833</td>\n",
       "      <td>0.850000</td>\n",
       "      <td>0.149071</td>\n",
       "      <td>0.027205</td>\n",
       "      <td>1.000</td>\n",
       "    </tr>\n",
       "    <tr>\n",
       "      <th>5</th>\n",
       "      <td>5.000000</td>\n",
       "      <td>0.872628</td>\n",
       "      <td>0.049128</td>\n",
       "      <td>0.816667</td>\n",
       "      <td>0.173305</td>\n",
       "      <td>0.021971</td>\n",
       "      <td>0.200</td>\n",
       "    </tr>\n",
       "    <tr>\n",
       "      <th>6</th>\n",
       "      <td>10.000000</td>\n",
       "      <td>0.931599</td>\n",
       "      <td>0.047270</td>\n",
       "      <td>0.775000</td>\n",
       "      <td>0.140064</td>\n",
       "      <td>0.021140</td>\n",
       "      <td>0.100</td>\n",
       "    </tr>\n",
       "    <tr>\n",
       "      <th>7</th>\n",
       "      <td>100.000000</td>\n",
       "      <td>1.138112</td>\n",
       "      <td>0.025273</td>\n",
       "      <td>0.650000</td>\n",
       "      <td>0.075691</td>\n",
       "      <td>0.011302</td>\n",
       "      <td>0.010</td>\n",
       "    </tr>\n",
       "    <tr>\n",
       "      <th>8</th>\n",
       "      <td>1000.000000</td>\n",
       "      <td>1.321189</td>\n",
       "      <td>0.003484</td>\n",
       "      <td>0.591667</td>\n",
       "      <td>0.099478</td>\n",
       "      <td>0.001558</td>\n",
       "      <td>0.001</td>\n",
       "    </tr>\n",
       "  </tbody>\n",
       "</table>\n",
       "</div>"
      ],
      "text/plain": [
       "        lambda  cv_error_mean  cv_error_std  acc_mean   acc_std  cv_error_se  \\\n",
       "0     0.100000       0.595395      0.089608  0.825000  0.157012     0.040074   \n",
       "1     0.142857       0.614482      0.083607  0.825000  0.157012     0.037390   \n",
       "2     0.200000       0.633906      0.078484  0.825000  0.157012     0.035099   \n",
       "3     0.500000       0.693645      0.067229  0.841667  0.139443     0.030066   \n",
       "4     1.000000       0.744323      0.060833  0.850000  0.149071     0.027205   \n",
       "5     5.000000       0.872628      0.049128  0.816667  0.173305     0.021971   \n",
       "6    10.000000       0.931599      0.047270  0.775000  0.140064     0.021140   \n",
       "7   100.000000       1.138112      0.025273  0.650000  0.075691     0.011302   \n",
       "8  1000.000000       1.321189      0.003484  0.591667  0.099478     0.001558   \n",
       "\n",
       "        C  \n",
       "0  10.000  \n",
       "1   7.000  \n",
       "2   5.000  \n",
       "3   2.000  \n",
       "4   1.000  \n",
       "5   0.200  \n",
       "6   0.100  \n",
       "7   0.010  \n",
       "8   0.001  "
      ]
     },
     "execution_count": 177,
     "metadata": {},
     "output_type": "execute_result"
    }
   ],
   "source": [
    "res_agg = result.groupby(['lambda'], as_index=False).agg({'cv_error':['mean','std'], 'acc':['mean','std']})\n",
    "res_agg.columns = ['lambda','cv_error_mean','cv_error_std','acc_mean','acc_std']\n",
    "res_agg['cv_error_se']=res_agg['cv_error_std']/np.sqrt(5)\n",
    "res_agg['C']=1/res_agg['lambda']\n",
    "res_agg"
   ]
  },
  {
   "cell_type": "code",
   "execution_count": 178,
   "id": "9a9c65a7",
   "metadata": {},
   "outputs": [
    {
     "data": {
      "text/plain": [
       "1.3862943611198906"
      ]
     },
     "execution_count": 178,
     "metadata": {},
     "output_type": "execute_result"
    }
   ],
   "source": [
    "(2*np.log(2))"
   ]
  },
  {
   "cell_type": "code",
   "execution_count": 197,
   "id": "48299f1b",
   "metadata": {},
   "outputs": [
    {
     "data": {
      "image/png": "[encoded data removed]",
      "text/plain": [
       "<Figure size 432x288 with 1 Axes>"
      ]
     },
     "metadata": {
      "needs_background": "light"
     },
     "output_type": "display_data"
    }
   ],
   "source": [
    "#plt.figure(figsize=(12, 8))\n",
    "plt.errorbar(x=res_agg['C'], y=res_agg['cv_error_mean'], yerr=res_agg['cv_error_se'], capsize=2, alpha=0.7)\n",
    "    \n",
    "#sns.scatterplot(x=10, y=0, color='black')\n",
    "#threshold_up = 2.584197 + 0.061599*4\n",
    "#threshold_down = 2.584197 - 0.061599*4\n",
    "#plt.axhline(y=threshold_up, ls='--', color='grey',linewidth=1)\n",
    "#plt.axhline(y=threshold_down, ls='--', color='grey',linewidth=1)\n",
    "#plt.scatter([5], [2.818729], color='red', zorder=10)\n",
    "#plt.scatter([10], [2.584197], color='lightgreen', zorder=10)\n",
    "#plt.xscale('log')\n",
    "plt.xlabel('1/$\\lambda$')\n",
    "plt.ylabel('CV error')\n",
    "plt.grid(color='#DDDDDD')\n",
    "plt.show()"
   ]
  },
  {
   "cell_type": "code",
   "execution_count": 15,
   "id": "bf854a0e",
   "metadata": {},
   "outputs": [],
   "source": [
    "from sklearn.preprocessing import StandardScaler\n",
    "from sklearn.linear_model import LogisticRegression, LogisticRegressionCV"
   ]
  },
  {
   "cell_type": "code",
   "execution_count": 150,
   "id": "519b2bac",
   "metadata": {},
   "outputs": [],
   "source": [
    "data = moments_df\n",
    "c= 100\n",
    "X = data.iloc[:, :-1]\n",
    "y = data.iloc[:,-1]\n",
    "train_index_list, test_index_list = cm.split_n_folds(data, n_folds)\n",
    "result = list()\n",
    "cv_error = list()\n",
    "for i in range(n_folds):\n",
    "    X_train = X.iloc[train_index_list[i]]\n",
    "    y_train = y.iloc[train_index_list[i]]\n",
    "    X_test = X.iloc[test_index_list[i]]\n",
    "    y_test = y.iloc[test_index_list[i]]\n",
    "    y_test = y_test.reset_index(drop=True)\n",
    " \n",
    "    # standardize the data\n",
    "    scaler_train = StandardScaler()\n",
    "    scaler_train.fit(X_train)\n",
    "    X_train_scaled = scaler_train.transform(X_train)\n",
    "    X_test_scaled = scaler_train.transform(X_test)\n",
    "    clf_lr = LogisticRegression(penalty ='l2', C=c, class_weight='balanced', multi_class='ovr')\n",
    "    clf_lr.fit(X_train_scaled, y_train)\n",
    "    prob = clf_lr.predict_proba(X_train_scaled)\n",
    "    pred = clf_lr.predict(X_train_scaled)\n",
    "    \n",
    "    one_hot_matrix = list()\n",
    "    for i in range(len(y_test)):\n",
    "        one_hot_matrix.append(list((y_test[i] == clf_lr.classes_ )*1))\n",
    "    \n",
    "    loss = 0\n",
    "    acc= 0\n",
    "    for j in range(len(y_test)):\n",
    "        prob_row=prob[j]\n",
    "        loss = loss - np.log(sum(one_hot_matrix[0]*prob_row))\n",
    "        if y_test[j] == pred[j]:\n",
    "            acc = acc + 1\n",
    "    loss = loss/len(y_test)\n",
    "    acc = acc / len(y_test)\n",
    "    \n",
    "    cv_error.append(loss)\n",
    "    result.append( dict(zip(['cv_error','lambda','acc'],[loss, 1/c, acc]))) \n",
    "result_df = pd.DataFrame(result)"
   ]
  },
  {
   "cell_type": "code",
   "execution_count": 151,
   "id": "53f0c8bc",
   "metadata": {},
   "outputs": [
    {
     "data": {
      "text/html": [
       "<div>\n",
       "<style scoped>\n",
       "    .dataframe tbody tr th:only-of-type {\n",
       "        vertical-align: middle;\n",
       "    }\n",
       "\n",
       "    .dataframe tbody tr th {\n",
       "        vertical-align: top;\n",
       "    }\n",
       "\n",
       "    .dataframe thead th {\n",
       "        text-align: right;\n",
       "    }\n",
       "</style>\n",
       "<table border=\"1\" class=\"dataframe\">\n",
       "  <thead>\n",
       "    <tr style=\"text-align: right;\">\n",
       "      <th></th>\n",
       "      <th>cv_error</th>\n",
       "      <th>lambda</th>\n",
       "      <th>acc</th>\n",
       "    </tr>\n",
       "  </thead>\n",
       "  <tbody>\n",
       "    <tr>\n",
       "      <th>0</th>\n",
       "      <td>0.175095</td>\n",
       "      <td>0.01</td>\n",
       "      <td>0.25</td>\n",
       "    </tr>\n",
       "    <tr>\n",
       "      <th>1</th>\n",
       "      <td>0.185571</td>\n",
       "      <td>0.01</td>\n",
       "      <td>0.25</td>\n",
       "    </tr>\n",
       "    <tr>\n",
       "      <th>2</th>\n",
       "      <td>0.161045</td>\n",
       "      <td>0.01</td>\n",
       "      <td>0.25</td>\n",
       "    </tr>\n",
       "    <tr>\n",
       "      <th>3</th>\n",
       "      <td>0.194558</td>\n",
       "      <td>0.01</td>\n",
       "      <td>0.25</td>\n",
       "    </tr>\n",
       "    <tr>\n",
       "      <th>4</th>\n",
       "      <td>0.151411</td>\n",
       "      <td>0.01</td>\n",
       "      <td>0.25</td>\n",
       "    </tr>\n",
       "  </tbody>\n",
       "</table>\n",
       "</div>"
      ],
      "text/plain": [
       "   cv_error  lambda   acc\n",
       "0  0.175095    0.01  0.25\n",
       "1  0.185571    0.01  0.25\n",
       "2  0.161045    0.01  0.25\n",
       "3  0.194558    0.01  0.25\n",
       "4  0.151411    0.01  0.25"
      ]
     },
     "execution_count": 151,
     "metadata": {},
     "output_type": "execute_result"
    }
   ],
   "source": [
    "result_df"
   ]
  }
 ],
 "metadata": {
  "kernelspec": {
   "display_name": "Python 3",
   "language": "python",
   "name": "python3"
  },
  "language_info": {
   "codemirror_mode": {
    "name": "ipython",
    "version": 3
   },
   "file_extension": ".py",
   "mimetype": "text/x-python",
   "name": "python",
   "nbconvert_exporter": "python",
   "pygments_lexer": "ipython3",
   "version": "3.8.8"
  }
 },
 "nbformat": 4,
 "nbformat_minor": 5
}
