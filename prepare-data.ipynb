{
 "cells": [
  {
   "cell_type": "code",
   "execution_count": 49,
   "id": "2d55d8ba-9066-4a4f-b233-150e53ac75f5",
   "metadata": {},
   "outputs": [],
   "source": [
    "import numpy as np\n",
    "import matplotlib.pyplot as plt\n",
    "import pandas as pd"
   ]
  },
  {
   "cell_type": "code",
   "execution_count": 50,
   "id": "adf7ed8a-5195-49bf-9778-d3e10c2d1645",
   "metadata": {},
   "outputs": [
    {
     "data": {
      "text/html": [
       "<div>\n",
       "<style scoped>\n",
       "    .dataframe tbody tr th:only-of-type {\n",
       "        vertical-align: middle;\n",
       "    }\n",
       "\n",
       "    .dataframe tbody tr th {\n",
       "        vertical-align: top;\n",
       "    }\n",
       "\n",
       "    .dataframe thead th {\n",
       "        text-align: right;\n",
       "    }\n",
       "</style>\n",
       "<table border=\"1\" class=\"dataframe\">\n",
       "  <thead>\n",
       "    <tr style=\"text-align: right;\">\n",
       "      <th></th>\n",
       "      <th>from_address</th>\n",
       "      <th>to_address</th>\n",
       "      <th>value</th>\n",
       "      <th>gas_value</th>\n",
       "      <th>count</th>\n",
       "    </tr>\n",
       "  </thead>\n",
       "  <tbody>\n",
       "    <tr>\n",
       "      <th>0</th>\n",
       "      <td>0x12df6b56e365f42bb38a885895819a8bcdb8bff8</td>\n",
       "      <td>0x7a250d5630b4cf539739df2c5dacb4c659f2488d</td>\n",
       "      <td>408.608386</td>\n",
       "      <td>1.036399</td>\n",
       "      <td>51</td>\n",
       "    </tr>\n",
       "    <tr>\n",
       "      <th>1</th>\n",
       "      <td>0xea2acf1b8a181e8a0f1aa40384d1ddaf096232aa</td>\n",
       "      <td>0x025a9bc3ea7fc8a49704451f61b5ee1eaf488850</td>\n",
       "      <td>2.658300</td>\n",
       "      <td>0.045066</td>\n",
       "      <td>50</td>\n",
       "    </tr>\n",
       "    <tr>\n",
       "      <th>2</th>\n",
       "      <td>0x455f011790046a920b5b505cd9188d3c2077d4e4</td>\n",
       "      <td>0x7b7d4a8ee76755d453042dfc05787e464f765638</td>\n",
       "      <td>45.203273</td>\n",
       "      <td>0.052132</td>\n",
       "      <td>59</td>\n",
       "    </tr>\n",
       "    <tr>\n",
       "      <th>3</th>\n",
       "      <td>0xd06cd3d829e67ad3455d5035b071813625b0de6b</td>\n",
       "      <td>0x0424b365094898eaa2d64d13f26cd9aaf220cf6c</td>\n",
       "      <td>0.018225</td>\n",
       "      <td>0.123154</td>\n",
       "      <td>74</td>\n",
       "    </tr>\n",
       "    <tr>\n",
       "      <th>4</th>\n",
       "      <td>0x69b71b9459e6ebde14a1b337a3720487aec111d4</td>\n",
       "      <td>0x1f39cc033edcac7e2a4f356aec55bee7f1cfdb34</td>\n",
       "      <td>0.859125</td>\n",
       "      <td>0.025099</td>\n",
       "      <td>174</td>\n",
       "    </tr>\n",
       "  </tbody>\n",
       "</table>\n",
       "</div>"
      ],
      "text/plain": [
       "                                 from_address  \\\n",
       "0  0x12df6b56e365f42bb38a885895819a8bcdb8bff8   \n",
       "1  0xea2acf1b8a181e8a0f1aa40384d1ddaf096232aa   \n",
       "2  0x455f011790046a920b5b505cd9188d3c2077d4e4   \n",
       "3  0xd06cd3d829e67ad3455d5035b071813625b0de6b   \n",
       "4  0x69b71b9459e6ebde14a1b337a3720487aec111d4   \n",
       "\n",
       "                                   to_address       value  gas_value  count  \n",
       "0  0x7a250d5630b4cf539739df2c5dacb4c659f2488d  408.608386   1.036399     51  \n",
       "1  0x025a9bc3ea7fc8a49704451f61b5ee1eaf488850    2.658300   0.045066     50  \n",
       "2  0x7b7d4a8ee76755d453042dfc05787e464f765638   45.203273   0.052132     59  \n",
       "3  0x0424b365094898eaa2d64d13f26cd9aaf220cf6c    0.018225   0.123154     74  \n",
       "4  0x1f39cc033edcac7e2a4f356aec55bee7f1cfdb34    0.859125   0.025099    174  "
      ]
     },
     "execution_count": 50,
     "metadata": {},
     "output_type": "execute_result"
    }
   ],
   "source": [
    "df = pd.read_csv('gs://ggf-eth-data/unprocessed_ethereum_2018_2020')\n",
    "df.head()"
   ]
  },
  {
   "cell_type": "code",
   "execution_count": 4,
   "id": "73ee306e-d444-49dc-b6d8-153a9cce113b",
   "metadata": {},
   "outputs": [
    {
     "data": {
      "text/plain": [
       "(2178388, 5)"
      ]
     },
     "execution_count": 4,
     "metadata": {},
     "output_type": "execute_result"
    }
   ],
   "source": [
    "df.shape"
   ]
  },
  {
   "cell_type": "code",
   "execution_count": 3,
   "id": "9c99928e-ca5e-43f5-91db-b28ed7344941",
   "metadata": {},
   "outputs": [
    {
     "data": {
      "text/plain": [
       "898376"
      ]
     },
     "execution_count": 3,
     "metadata": {},
     "output_type": "execute_result"
    }
   ],
   "source": [
    "# unique accounts\n",
    "len(df['from_address'].unique())"
   ]
  },
  {
   "cell_type": "code",
   "execution_count": 51,
   "id": "ed4950be-9c30-4d15-a066-7fe64fe2d33b",
   "metadata": {},
   "outputs": [
    {
     "data": {
      "text/html": [
       "<div>\n",
       "<style scoped>\n",
       "    .dataframe tbody tr th:only-of-type {\n",
       "        vertical-align: middle;\n",
       "    }\n",
       "\n",
       "    .dataframe tbody tr th {\n",
       "        vertical-align: top;\n",
       "    }\n",
       "\n",
       "    .dataframe thead th {\n",
       "        text-align: right;\n",
       "    }\n",
       "</style>\n",
       "<table border=\"1\" class=\"dataframe\">\n",
       "  <thead>\n",
       "    <tr style=\"text-align: right;\">\n",
       "      <th></th>\n",
       "      <th>from_address</th>\n",
       "      <th>count</th>\n",
       "    </tr>\n",
       "  </thead>\n",
       "  <tbody>\n",
       "    <tr>\n",
       "      <th>0</th>\n",
       "      <td>0x0000000000000d9054f605ca65a2647c2b521422</td>\n",
       "      <td>2</td>\n",
       "    </tr>\n",
       "    <tr>\n",
       "      <th>1</th>\n",
       "      <td>0x0000000000004681cb5d63ec5098e869a637d9be</td>\n",
       "      <td>2</td>\n",
       "    </tr>\n",
       "    <tr>\n",
       "      <th>2</th>\n",
       "      <td>0x0000000000015bbe9a1bfe5ba28e16c69b40a58b</td>\n",
       "      <td>1</td>\n",
       "    </tr>\n",
       "    <tr>\n",
       "      <th>3</th>\n",
       "      <td>0x00000000000d7fb20c9708261ad2e0b03f15fa04</td>\n",
       "      <td>1</td>\n",
       "    </tr>\n",
       "    <tr>\n",
       "      <th>4</th>\n",
       "      <td>0x0000000000333f28d3a20605c702f66c3143cccf</td>\n",
       "      <td>1</td>\n",
       "    </tr>\n",
       "  </tbody>\n",
       "</table>\n",
       "</div>"
      ],
      "text/plain": [
       "                                 from_address  count\n",
       "0  0x0000000000000d9054f605ca65a2647c2b521422      2\n",
       "1  0x0000000000004681cb5d63ec5098e869a637d9be      2\n",
       "2  0x0000000000015bbe9a1bfe5ba28e16c69b40a58b      1\n",
       "3  0x00000000000d7fb20c9708261ad2e0b03f15fa04      1\n",
       "4  0x0000000000333f28d3a20605c702f66c3143cccf      1"
      ]
     },
     "execution_count": 51,
     "metadata": {},
     "output_type": "execute_result"
    }
   ],
   "source": [
    "out_count = df.groupby('from_address').from_address.count().to_frame('count').reset_index()\n",
    "out_count.head()"
   ]
  },
  {
   "cell_type": "code",
   "execution_count": 6,
   "id": "b4b2ae09-5ccd-457a-8837-daca5b8368b6",
   "metadata": {},
   "outputs": [
    {
     "data": {
      "text/plain": [
       "823367    210132\n",
       "294844     88441\n",
       "462042     42482\n",
       "320166     35807\n",
       "272201     16604\n",
       "153393     14697\n",
       "508596     14609\n",
       "63413      12486\n",
       "628757     10198\n",
       "700         9407\n",
       "Name: count, dtype: int64"
      ]
     },
     "execution_count": 6,
     "metadata": {},
     "output_type": "execute_result"
    }
   ],
   "source": [
    "out_count['count'].sort_values(ascending=False).head(10)"
   ]
  },
  {
   "cell_type": "code",
   "execution_count": 7,
   "id": "0788d1a4-a5b5-4c53-b9e0-22a2b0f3e30d",
   "metadata": {},
   "outputs": [
    {
     "data": {
      "text/plain": [
       "count    898376.000000\n",
       "mean          2.424807\n",
       "std         252.131787\n",
       "min           1.000000\n",
       "25%           1.000000\n",
       "50%           1.000000\n",
       "75%           1.000000\n",
       "max      210132.000000\n",
       "Name: count, dtype: float64"
      ]
     },
     "execution_count": 7,
     "metadata": {},
     "output_type": "execute_result"
    }
   ],
   "source": [
    "out_count['count'].describe()"
   ]
  },
  {
   "cell_type": "code",
   "execution_count": 8,
   "id": "b4aef7e8-7272-495b-9aea-ac4952c5350a",
   "metadata": {},
   "outputs": [
    {
     "data": {
      "text/plain": [
       "7.0"
      ]
     },
     "execution_count": 8,
     "metadata": {},
     "output_type": "execute_result"
    }
   ],
   "source": [
    "out_count['count'].quantile(0.99)"
   ]
  },
  {
   "cell_type": "code",
   "execution_count": 21,
   "id": "3369f73d-dc60-496f-b76e-62b661741906",
   "metadata": {},
   "outputs": [
    {
     "data": {
      "text/plain": [
       "[<matplotlib.lines.Line2D at 0x7fd7378a9850>]"
      ]
     },
     "execution_count": 21,
     "metadata": {},
     "output_type": "execute_result"
    },
    {
     "data": {
      "image/png": "[encoded data removed]",
      "text/plain": [
       "<Figure size 640x480 with 1 Axes>"
      ]
     },
     "metadata": {},
     "output_type": "display_data"
    }
   ],
   "source": [
    "n = len(out_count['count']) # number of unique accounts\n",
    "counts = out_count['count']\n",
    "x = np.sort(counts)\n",
    "y = np.arange(n) / float(n)\n",
    "\n",
    "plt.xlabel('number of unique destinations')\n",
    "plt.ylabel('% of total')\n",
    "plt.title('CDF of unique destinations per source account')\n",
    "plt.plot(x, y)"
   ]
  },
  {
   "cell_type": "code",
   "execution_count": 22,
   "id": "3db92715-afd3-4699-8acf-003c63f021d4",
   "metadata": {},
   "outputs": [
    {
     "data": {
      "text/plain": [
       "[<matplotlib.lines.Line2D at 0x7fd737826990>]"
      ]
     },
     "execution_count": 22,
     "metadata": {},
     "output_type": "execute_result"
    },
    {
     "data": {
      "image/png": "[encoded data removed]",
      "text/plain": [
       "<Figure size 640x480 with 1 Axes>"
      ]
     },
     "metadata": {},
     "output_type": "display_data"
    }
   ],
   "source": [
    "x_log = np.log(x+1)\n",
    "y = np.arange(n) / float(n)\n",
    "\n",
    "plt.xlabel('number of unique destinations')\n",
    "plt.ylabel('% of total')\n",
    "plt.title('CDF of unique destinations per source account')\n",
    "plt.plot(x_log, y)"
   ]
  },
  {
   "cell_type": "code",
   "execution_count": 48,
   "id": "a51b13ba-be17-417e-a0b6-b34b2a560646",
   "metadata": {},
   "outputs": [
    {
     "name": "stdout",
     "output_type": "stream",
     "text": [
      "mean  0.7886576413699031 \n",
      "std  0.32372796424653316 \n",
      "min  0.6931471805599453 \n",
      "25%  0.6931471805599453 \n",
      "50%  0.6931471805599453 \n",
      "75%  0.6931471805599453 \n",
      "max  12.255495942562023\n"
     ]
    }
   ],
   "source": [
    "print('mean ', x_log.mean(), \n",
    "      '\\nstd ', x_log.std(),\n",
    "      '\\nmin ', x_log.min(),\n",
    "      '\\n25% ', np.quantile(x_log, 0.25),\n",
    "      '\\n50% ', np.quantile(x_log, 0.5),\n",
    "      '\\n75% ', np.quantile(x_log, 0.75),\n",
    "      '\\nmax ', x_log.max())"
   ]
  },
  {
   "cell_type": "code",
   "execution_count": 23,
   "id": "e5c58e53-2a88-4334-b024-5f197db20b0d",
   "metadata": {},
   "outputs": [],
   "source": [
    "data = df[['from_address','to_address','value']].head(10000)\n",
    "raw_data = data.to_dict('records')\n",
    "\n",
    "transaction_dict = {}\n",
    "for row in raw_data:\n",
    "    id_ = row['from_address']\n",
    "    if id_ not in transaction_dict:\n",
    "        transaction_dict[id_] = []\n",
    "    \n",
    "    value = row['value']\n",
    "    transaction_dict[id_].append(value)"
   ]
  },
  {
   "cell_type": "code",
   "execution_count": 27,
   "id": "12ef05cd-9a78-4e89-bd82-e338a277f425",
   "metadata": {},
   "outputs": [],
   "source": [
    "#transaction_dict"
   ]
  },
  {
   "cell_type": "code",
   "execution_count": 19,
   "id": "103736f3-6865-4ff9-8e24-a09f36bc623c",
   "metadata": {},
   "outputs": [
    {
     "data": {
      "text/plain": [
       "{'0xd06cd3d829e67ad3455d5035b071813625b0de6b': [0.01822458114945,\n",
       "  0.0579194588188799,\n",
       "  0.0259433540347499,\n",
       "  0.01926461185335,\n",
       "  0.0245689689580199,\n",
       "  0.01728306256158,\n",
       "  0.0237755170446299,\n",
       "  0.0101293320682199,\n",
       "  0.0186990531319699,\n",
       "  0.0130647801184299,\n",
       "  0.0389161713861299,\n",
       "  0.02325638196848]}"
      ]
     },
     "execution_count": 19,
     "metadata": {},
     "output_type": "execute_result"
    }
   ],
   "source": [
    " {k:v for k, v in transaction_dict.items() if k == '0xd06cd3d829e67ad3455d5035b071813625b0de6b'}"
   ]
  },
  {
   "cell_type": "code",
   "execution_count": null,
   "id": "4b4d7093-5c02-4243-942f-aa8c35a0e9f4",
   "metadata": {},
   "outputs": [],
   "source": [
    "#jupyter notebook --NotebookApp.iopub_data_rate_limit=1.0e10"
   ]
  },
  {
   "cell_type": "code",
   "execution_count": 62,
   "id": "b0a843b5-10ae-4a72-8b56-0125bf51d709",
   "metadata": {},
   "outputs": [
    {
     "data": {
      "text/plain": [
       "[<matplotlib.lines.Line2D at 0x7fd717dd09d0>]"
      ]
     },
     "execution_count": 62,
     "metadata": {},
     "output_type": "execute_result"
    },
    {
     "data": {
      "image/png": "[encoded data removed]",
      "text/plain": [
       "<Figure size 640x480 with 1 Axes>"
      ]
     },
     "metadata": {},
     "output_type": "display_data"
    }
   ],
   "source": [
    "out_count_filtered = out_count.loc[out_count['count'] >= 6]\n",
    "n = len(out_count_filtered['count']) # number of unique accounts\n",
    "counts = out_count_filtered['count']\n",
    "x = np.sort(counts)\n",
    "x_log = np.log(x)\n",
    "y = np.arange(n) / float(n)\n",
    "\n",
    "plt.xlabel('number of unique destinations')\n",
    "plt.ylabel('% of total')\n",
    "plt.title('CDF of unique destinations per source account')\n",
    "plt.plot(x_log, y)"
   ]
  },
  {
   "cell_type": "code",
   "execution_count": 63,
   "id": "9cc9d8e3-a8d2-42ca-86a2-dc64503ed076",
   "metadata": {},
   "outputs": [
    {
     "data": {
      "text/html": [
       "<div>\n",
       "<style scoped>\n",
       "    .dataframe tbody tr th:only-of-type {\n",
       "        vertical-align: middle;\n",
       "    }\n",
       "\n",
       "    .dataframe tbody tr th {\n",
       "        vertical-align: top;\n",
       "    }\n",
       "\n",
       "    .dataframe thead th {\n",
       "        text-align: right;\n",
       "    }\n",
       "</style>\n",
       "<table border=\"1\" class=\"dataframe\">\n",
       "  <thead>\n",
       "    <tr style=\"text-align: right;\">\n",
       "      <th></th>\n",
       "      <th>count</th>\n",
       "    </tr>\n",
       "  </thead>\n",
       "  <tbody>\n",
       "    <tr>\n",
       "      <th>count</th>\n",
       "      <td>12019.000000</td>\n",
       "    </tr>\n",
       "    <tr>\n",
       "      <th>mean</th>\n",
       "      <td>93.613113</td>\n",
       "    </tr>\n",
       "    <tr>\n",
       "      <th>std</th>\n",
       "      <td>2177.979513</td>\n",
       "    </tr>\n",
       "    <tr>\n",
       "      <th>min</th>\n",
       "      <td>6.000000</td>\n",
       "    </tr>\n",
       "    <tr>\n",
       "      <th>25%</th>\n",
       "      <td>7.000000</td>\n",
       "    </tr>\n",
       "    <tr>\n",
       "      <th>50%</th>\n",
       "      <td>10.000000</td>\n",
       "    </tr>\n",
       "    <tr>\n",
       "      <th>75%</th>\n",
       "      <td>20.000000</td>\n",
       "    </tr>\n",
       "    <tr>\n",
       "      <th>max</th>\n",
       "      <td>210132.000000</td>\n",
       "    </tr>\n",
       "  </tbody>\n",
       "</table>\n",
       "</div>"
      ],
      "text/plain": [
       "               count\n",
       "count   12019.000000\n",
       "mean       93.613113\n",
       "std      2177.979513\n",
       "min         6.000000\n",
       "25%         7.000000\n",
       "50%        10.000000\n",
       "75%        20.000000\n",
       "max    210132.000000"
      ]
     },
     "execution_count": 63,
     "metadata": {},
     "output_type": "execute_result"
    }
   ],
   "source": [
    "out_count_filtered.describe()"
   ]
  }
 ],
 "metadata": {
  "environment": {
   "kernel": "python3",
   "name": "common-cpu.m103",
   "type": "gcloud",
   "uri": "gcr.io/deeplearning-platform-release/base-cpu:m103"
  },
  "kernelspec": {
   "display_name": "Python 3",
   "language": "python",
   "name": "python3"
  },
  "language_info": {
   "codemirror_mode": {
    "name": "ipython",
    "version": 3
   },
   "file_extension": ".py",
   "mimetype": "text/x-python",
   "name": "python",
   "nbconvert_exporter": "python",
   "pygments_lexer": "ipython3",
   "version": "3.7.12"
  }
 },
 "nbformat": 4,
 "nbformat_minor": 5
}
