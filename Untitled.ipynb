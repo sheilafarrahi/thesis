{
 "cells": [
  {
   "cell_type": "code",
   "execution_count": 1,
   "id": "fccd66be-01bc-4e8c-8096-f1c7a1b1ca8b",
   "metadata": {},
   "outputs": [],
   "source": [
    "import numpy as np\n",
    "import matplotlib.pyplot as plt\n",
    "import pandas as pd"
   ]
  },
  {
   "cell_type": "code",
   "execution_count": 2,
   "id": "08a86069-3a44-4103-b0ec-68a8df51903b",
   "metadata": {},
   "outputs": [
    {
     "data": {
      "text/html": [
       "<div>\n",
       "<style scoped>\n",
       "    .dataframe tbody tr th:only-of-type {\n",
       "        vertical-align: middle;\n",
       "    }\n",
       "\n",
       "    .dataframe tbody tr th {\n",
       "        vertical-align: top;\n",
       "    }\n",
       "\n",
       "    .dataframe thead th {\n",
       "        text-align: right;\n",
       "    }\n",
       "</style>\n",
       "<table border=\"1\" class=\"dataframe\">\n",
       "  <thead>\n",
       "    <tr style=\"text-align: right;\">\n",
       "      <th></th>\n",
       "      <th>from_address</th>\n",
       "      <th>to_address</th>\n",
       "      <th>value</th>\n",
       "      <th>gas_value</th>\n",
       "      <th>count</th>\n",
       "    </tr>\n",
       "  </thead>\n",
       "  <tbody>\n",
       "    <tr>\n",
       "      <th>0</th>\n",
       "      <td>0x12df6b56e365f42bb38a885895819a8bcdb8bff8</td>\n",
       "      <td>0x7a250d5630b4cf539739df2c5dacb4c659f2488d</td>\n",
       "      <td>408.608386</td>\n",
       "      <td>1.036399</td>\n",
       "      <td>51</td>\n",
       "    </tr>\n",
       "    <tr>\n",
       "      <th>1</th>\n",
       "      <td>0xea2acf1b8a181e8a0f1aa40384d1ddaf096232aa</td>\n",
       "      <td>0x025a9bc3ea7fc8a49704451f61b5ee1eaf488850</td>\n",
       "      <td>2.658300</td>\n",
       "      <td>0.045066</td>\n",
       "      <td>50</td>\n",
       "    </tr>\n",
       "    <tr>\n",
       "      <th>2</th>\n",
       "      <td>0x455f011790046a920b5b505cd9188d3c2077d4e4</td>\n",
       "      <td>0x7b7d4a8ee76755d453042dfc05787e464f765638</td>\n",
       "      <td>45.203273</td>\n",
       "      <td>0.052132</td>\n",
       "      <td>59</td>\n",
       "    </tr>\n",
       "  </tbody>\n",
       "</table>\n",
       "</div>"
      ],
      "text/plain": [
       "                                 from_address  \\\n",
       "0  0x12df6b56e365f42bb38a885895819a8bcdb8bff8   \n",
       "1  0xea2acf1b8a181e8a0f1aa40384d1ddaf096232aa   \n",
       "2  0x455f011790046a920b5b505cd9188d3c2077d4e4   \n",
       "\n",
       "                                   to_address       value  gas_value  count  \n",
       "0  0x7a250d5630b4cf539739df2c5dacb4c659f2488d  408.608386   1.036399     51  \n",
       "1  0x025a9bc3ea7fc8a49704451f61b5ee1eaf488850    2.658300   0.045066     50  \n",
       "2  0x7b7d4a8ee76755d453042dfc05787e464f765638   45.203273   0.052132     59  "
      ]
     },
     "execution_count": 2,
     "metadata": {},
     "output_type": "execute_result"
    }
   ],
   "source": [
    "df = pd.read_csv('gs://ggf-eth-data/unprocessed_ethereum_2018_2020')\n",
    "df.head(3)"
   ]
  },
  {
   "cell_type": "code",
   "execution_count": 3,
   "id": "f2c5994c-5394-48b9-8bcd-c4a6afed825d",
   "metadata": {},
   "outputs": [
    {
     "data": {
      "text/html": [
       "<div>\n",
       "<style scoped>\n",
       "    .dataframe tbody tr th:only-of-type {\n",
       "        vertical-align: middle;\n",
       "    }\n",
       "\n",
       "    .dataframe tbody tr th {\n",
       "        vertical-align: top;\n",
       "    }\n",
       "\n",
       "    .dataframe thead th {\n",
       "        text-align: right;\n",
       "    }\n",
       "</style>\n",
       "<table border=\"1\" class=\"dataframe\">\n",
       "  <thead>\n",
       "    <tr style=\"text-align: right;\">\n",
       "      <th></th>\n",
       "      <th>from_address</th>\n",
       "      <th>to_address</th>\n",
       "      <th>value</th>\n",
       "      <th>gas_value</th>\n",
       "      <th>count</th>\n",
       "      <th>avg</th>\n",
       "    </tr>\n",
       "  </thead>\n",
       "  <tbody>\n",
       "    <tr>\n",
       "      <th>0</th>\n",
       "      <td>0x12df6b56e365f42bb38a885895819a8bcdb8bff8</td>\n",
       "      <td>0x7a250d5630b4cf539739df2c5dacb4c659f2488d</td>\n",
       "      <td>408.608386</td>\n",
       "      <td>1.036399</td>\n",
       "      <td>51</td>\n",
       "      <td>8.011929</td>\n",
       "    </tr>\n",
       "    <tr>\n",
       "      <th>1</th>\n",
       "      <td>0xea2acf1b8a181e8a0f1aa40384d1ddaf096232aa</td>\n",
       "      <td>0x025a9bc3ea7fc8a49704451f61b5ee1eaf488850</td>\n",
       "      <td>2.658300</td>\n",
       "      <td>0.045066</td>\n",
       "      <td>50</td>\n",
       "      <td>0.053166</td>\n",
       "    </tr>\n",
       "    <tr>\n",
       "      <th>2</th>\n",
       "      <td>0x455f011790046a920b5b505cd9188d3c2077d4e4</td>\n",
       "      <td>0x7b7d4a8ee76755d453042dfc05787e464f765638</td>\n",
       "      <td>45.203273</td>\n",
       "      <td>0.052132</td>\n",
       "      <td>59</td>\n",
       "      <td>0.766157</td>\n",
       "    </tr>\n",
       "    <tr>\n",
       "      <th>3</th>\n",
       "      <td>0xd06cd3d829e67ad3455d5035b071813625b0de6b</td>\n",
       "      <td>0x0424b365094898eaa2d64d13f26cd9aaf220cf6c</td>\n",
       "      <td>0.018225</td>\n",
       "      <td>0.123154</td>\n",
       "      <td>74</td>\n",
       "      <td>0.000246</td>\n",
       "    </tr>\n",
       "    <tr>\n",
       "      <th>4</th>\n",
       "      <td>0x69b71b9459e6ebde14a1b337a3720487aec111d4</td>\n",
       "      <td>0x1f39cc033edcac7e2a4f356aec55bee7f1cfdb34</td>\n",
       "      <td>0.859125</td>\n",
       "      <td>0.025099</td>\n",
       "      <td>174</td>\n",
       "      <td>0.004938</td>\n",
       "    </tr>\n",
       "  </tbody>\n",
       "</table>\n",
       "</div>"
      ],
      "text/plain": [
       "                                 from_address  \\\n",
       "0  0x12df6b56e365f42bb38a885895819a8bcdb8bff8   \n",
       "1  0xea2acf1b8a181e8a0f1aa40384d1ddaf096232aa   \n",
       "2  0x455f011790046a920b5b505cd9188d3c2077d4e4   \n",
       "3  0xd06cd3d829e67ad3455d5035b071813625b0de6b   \n",
       "4  0x69b71b9459e6ebde14a1b337a3720487aec111d4   \n",
       "\n",
       "                                   to_address       value  gas_value  count  \\\n",
       "0  0x7a250d5630b4cf539739df2c5dacb4c659f2488d  408.608386   1.036399     51   \n",
       "1  0x025a9bc3ea7fc8a49704451f61b5ee1eaf488850    2.658300   0.045066     50   \n",
       "2  0x7b7d4a8ee76755d453042dfc05787e464f765638   45.203273   0.052132     59   \n",
       "3  0x0424b365094898eaa2d64d13f26cd9aaf220cf6c    0.018225   0.123154     74   \n",
       "4  0x1f39cc033edcac7e2a4f356aec55bee7f1cfdb34    0.859125   0.025099    174   \n",
       "\n",
       "        avg  \n",
       "0  8.011929  \n",
       "1  0.053166  \n",
       "2  0.766157  \n",
       "3  0.000246  \n",
       "4  0.004938  "
      ]
     },
     "execution_count": 3,
     "metadata": {},
     "output_type": "execute_result"
    }
   ],
   "source": [
    "df['avg'] = df['value']/df['count']\n",
    "df.head()"
   ]
  },
  {
   "cell_type": "code",
   "execution_count": 6,
   "id": "ff7766de-5d04-4325-aba7-c487bb73f80e",
   "metadata": {},
   "outputs": [
    {
     "data": {
      "text/plain": [
       "0xea674fdde714fd979de3edf0f56aa9716b898ec8    210132\n",
       "0x52bc44d5378309ee2abf1539bf71de1b7d7be3b5     88441\n",
       "0x829bd824b016326a401d083b33d092293333a830     42482\n",
       "0x5a0b54d5dc17e0aadc383d2db43b0a0d3e029c4c     35807\n",
       "0x4c549990a7ef3fea8784406c1eecc98bf4211fa5     16604\n",
       "                                               ...  \n",
       "0x5c03e73066f0ff2e19882425fed9284203390f85         1\n",
       "0x459dfda4a11e2b6600fbfdc612ab7297db063d3b         1\n",
       "0xbeb72266d7d9d630cda9b3f7c37c59df50d32c57         1\n",
       "0x193e0dda3512c647304d7087bd15ab0954d6adec         1\n",
       "0x86111d7a906eb6b489a59974da671013c64295f5         1\n",
       "Name: from_address, Length: 898376, dtype: int64"
      ]
     },
     "execution_count": 6,
     "metadata": {},
     "output_type": "execute_result"
    }
   ],
   "source": [
    "df['from_address'].value_counts()"
   ]
  }
 ],
 "metadata": {
  "environment": {
   "kernel": "python3",
   "name": "common-cpu.m103",
   "type": "gcloud",
   "uri": "gcr.io/deeplearning-platform-release/base-cpu:m103"
  },
  "kernelspec": {
   "display_name": "Python 3",
   "language": "python",
   "name": "python3"
  },
  "language_info": {
   "codemirror_mode": {
    "name": "ipython",
    "version": 3
   },
   "file_extension": ".py",
   "mimetype": "text/x-python",
   "name": "python",
   "nbconvert_exporter": "python",
   "pygments_lexer": "ipython3",
   "version": "3.7.12"
  }
 },
 "nbformat": 4,
 "nbformat_minor": 5
}
