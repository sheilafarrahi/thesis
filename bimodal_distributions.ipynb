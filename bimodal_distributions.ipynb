{
 "cells": [
  {
   "cell_type": "code",
   "execution_count": 36,
   "id": "4af31823",
   "metadata": {},
   "outputs": [],
   "source": [
    "import scipy.stats as stats\n",
    "import matplotlib.pyplot as plt\n",
    "import random"
   ]
  },
  {
   "cell_type": "code",
   "execution_count": 85,
   "id": "37ac95d9",
   "metadata": {},
   "outputs": [
    {
     "name": "stdout",
     "output_type": "stream",
     "text": [
      "-3\n",
      "5.996351123645026\n",
      "-5\n",
      "1.5275306137979534\n"
     ]
    }
   ],
   "source": [
    "samples = []\n",
    "for i in range(2):\n",
    "    mu = random.choice((-1, 1)) * random.randint(0,5)\n",
    "    print(mu)\n",
    "    var = random.randint(0,5) + random.random()\n",
    "    print(var)\n",
    "    sample = stats.norm.rvs(size = (2,500), loc = mu, scale = var)\n",
    "    samples.extend(sample)"
   ]
  },
  {
   "cell_type": "code",
   "execution_count": 86,
   "id": "69b69f8d",
   "metadata": {},
   "outputs": [
    {
     "data": {
      "image/png": "[encoded data removed]",
      "text/plain": [
       "<Figure size 432x288 with 1 Axes>"
      ]
     },
     "metadata": {
      "needs_background": "light"
     },
     "output_type": "display_data"
    }
   ],
   "source": [
    "fig, ax = plt.subplots()\n",
    "ax.hist(samples, density=True, bins='auto', histtype='stepfilled', alpha=0.2)\n",
    "plt.show()"
   ]
  }
 ],
 "metadata": {
  "kernelspec": {
   "display_name": "Python 3",
   "language": "python",
   "name": "python3"
  },
  "language_info": {
   "codemirror_mode": {
    "name": "ipython",
    "version": 3
   },
   "file_extension": ".py",
   "mimetype": "text/x-python",
   "name": "python",
   "nbconvert_exporter": "python",
   "pygments_lexer": "ipython3",
   "version": "3.8.8"
  }
 },
 "nbformat": 4,
 "nbformat_minor": 5
}
